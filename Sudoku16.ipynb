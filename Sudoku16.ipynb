{
  "nbformat": 4,
  "nbformat_minor": 0,
  "metadata": {
    "colab": {
      "provenance": [],
      "authorship_tag": "ABX9TyNenuKR6yEV8DSfvKsy6u5j",
      "include_colab_link": true
    },
    "kernelspec": {
      "name": "python3",
      "display_name": "Python 3"
    },
    "language_info": {
      "name": "python"
    }
  },
  "cells": [
    {
      "cell_type": "markdown",
      "metadata": {
        "id": "view-in-github",
        "colab_type": "text"
      },
      "source": [
        "<a href=\"https://colab.research.google.com/github/a-donat/InProgress/blob/main/Sudoku16.ipynb\" target=\"_parent\"><img src=\"https://colab.research.google.com/assets/colab-badge.svg\" alt=\"Open In Colab\"/></a>"
      ]
    },
    {
      "cell_type": "code",
      "source": [
        "from typing import *"
      ],
      "metadata": {
        "id": "TGxL8g1Fpkax"
      },
      "execution_count": null,
      "outputs": []
    },
    {
      "cell_type": "code",
      "execution_count": null,
      "metadata": {
        "id": "WlcVldjriYjo"
      },
      "outputs": [],
      "source": [
        "my_grid = [\n",
        " ['5', ' ', ' ', ' ',   ' ', '7', ' ', ' ',   ' ', ' ', '4', 'E',   ' ', ' ', '6', 'D'],\n",
        " [' ', ' ', '9', 'D',   '8', ' ', ' ', '4',   ' ', ' ', '3', '6',   ' ', 'E', '2', ' '],\n",
        " [' ', '2', '6', '3',   '5', 'G', ' ', ' ',   ' ', ' ', '1', 'B',   ' ', ' ', 'A', ' '],\n",
        " [' ', ' ', ' ', 'A',   ' ', ' ', ' ', 'D',   ' ', ' ', ' ', ' ',   ' ', 'F', '5', ' '],\n",
        "\n",
        " [' ', '8', 'B', '1',   ' ', '3', ' ', ' ',   'D', '5', ' ', 'G',   ' ', ' ', ' ', ' '],\n",
        " ['E', ' ', ' ', ' ',   ' ', ' ', ' ', ' ',   ' ', 'C', ' ', ' ',   '2', ' ', ' ', ' '],\n",
        " [' ', ' ', '4', ' ',   ' ', ' ', ' ', ' ',   ' ', ' ', 'A', 'F',   ' ', ' ', ' ', '1'],\n",
        " ['G', ' ', ' ', 'F',   ' ', ' ', 'A', ' ',   ' ', '2', ' ', ' ',   '9', ' ', ' ', '8'],\n",
        "\n",
        " [' ', ' ', '7', ' ',   ' ', ' ', 'E', 'A',   ' ', ' ', ' ', ' ',   ' ', ' ', ' ', '4'],\n",
        " ['B', ' ', ' ', '8',   ' ', ' ', 'F', ' ',   ' ', '6', '9', 'A',   '5', ' ', ' ', ' '],\n",
        " [' ', '9', ' ', ' ',   ' ', ' ', ' ', 'G',   'E', ' ', 'F', ' ',   '6', '1', '8', ' '],\n",
        " ['D', ' ', 'F', '5',   '7', '9', '6', ' ',   '4', ' ', ' ', '1',   ' ', 'A', 'E', 'B'],\n",
        "\n",
        " [' ', 'C', ' ', '2',   ' ', 'A', ' ', ' ',   ' ', ' ', 'G', '8',   ' ', '3', ' ', ' '],\n",
        " [' ', 'G', '3', ' ',   ' ', 'E', '4', ' ',   ' ', '1', ' ', ' ',   ' ', '5', ' ', ' '],\n",
        " ['7', ' ', ' ', ' ',   ' ', ' ', 'B', ' ',   '3', ' ', ' ', ' ',   ' ', ' ', ' ', '2'],\n",
        " [' ', ' ', ' ', ' ',   ' ', '5', 'G', ' ',   ' ', ' ', ' ', ' ',   'F', 'D', 'B', ' ']\n",
        "]"
      ]
    },
    {
      "cell_type": "code",
      "source": [
        "possibilities = list(\"123456789ABCDEFG\")\n",
        "\n",
        "class Cell:\n",
        "  def __init__(self, row_ind: int, col_ind: int, value: Optional[str]=None):\n",
        "    self.row_ind = row_ind\n",
        "    self.col_ind = col_ind\n",
        "    self.box_row = int(row_ind/4)\n",
        "    self.box_col = int(col_ind/4)\n",
        "    self.value = value\n",
        "    self.possibilities = set(possibilities) if value is None else set([])\n",
        "    self.impossibilities = set()\n",
        "    #self.box = int(row_ind/4)*4 + int(col_ind/4)\n",
        "\n",
        "  def set_value(self, new_value: str):\n",
        "    if self.value is not None:\n",
        "      print(\"warning, cell already set\")\n",
        "    if new_value not in self.possibilities:\n",
        "      print(\"warning, new_value not in possibilities\")\n",
        "    print(\"setting cell %d, %d to %s\" % (self.row_ind, self.col_ind, new_value))\n",
        "    self.value = new_value\n",
        "    self.possibilities = set([])\n",
        "\n",
        "  def set_remainder_as_value(self):\n",
        "    \"\"\"assumes len(self.possibilities) == 1\"\"\"\n",
        "    self.set_value(list(self.possibilities)[0])\n",
        "\n",
        "\n",
        "class Group:\n",
        "  def __init__(self, cells: List[Cell]):\n",
        "    self.cells = cells\n",
        "    self.possibilities_list = [p for cell in cells for p in cell.possibilities]\n",
        "    self.possibilities_set = set(self.possibilities_list)\n",
        "    self.values = set([cell.value for cell in cells if cell.value is not None])\n",
        "    self.tallies = {\n",
        "        p: self.possibilities_list.count(p) for p in self.possibilities_set}\n",
        "    self.possibility_locations = {\n",
        "        p: [(cell.row_ind, cell.col_ind) for cell in cells if p in cell.possibilities]\n",
        "        for p in self.possibilities_set}\n",
        "\n",
        "\n",
        "class BoxGroup(Group):\n",
        "  def __init__(self, cells, gridsize=16):\n",
        "    super().__init__(cells)\n",
        "    self.gridsize = gridsize\n",
        "    self.box_rows = set([cell.row_ind for cell in cells])\n",
        "    self.box_cols = set([cell.col_ind for cell in cells])\n",
        "    self.possibility_rows = {\n",
        "        p: set([cell.row_ind for cell in cells if p in cell.possibilities])\n",
        "        for p in self.possibilities_set}\n",
        "    self.possibility_cols = {\n",
        "        p: set([cell.col_ind for cell in cells if p in cell.possibilities])\n",
        "        for p in self.possibilities_set}\n",
        "    self.removal_by_row = {\n",
        "        p: [(list(rows)[0], c) for c in range(self.gridsize)\n",
        "        if c not in self.box_cols\n",
        "            ]\n",
        "        for p, rows in self.possibility_rows.items() if len(rows) == 1}\n",
        "    self.removal_by_col = {\n",
        "        p: [(r, list(cols)[0]) for r in range(self.gridsize)\n",
        "        if r not in self.box_rows\n",
        "            ]\n",
        "        for p, cols in self.possibility_cols.items() if len(cols) == 1}\n",
        "\n",
        "\n",
        "class Grid:\n",
        "  def __init__(self, cells: List[List[Cell]], size=16):\n",
        "    self.cells = cells\n",
        "    self.size = size\n",
        "    self.box_size = int(size**.5)\n",
        "\n",
        "  def Row(self, row: int):\n",
        "    return Group(self.cells[row])\n",
        "\n",
        "  def Col(self, col: int):\n",
        "    return Group([row[col] for row in self.cells])\n",
        "\n",
        "  def Box(self, box_row: int, box_col: int):\n",
        "    return BoxGroup([\n",
        "        self.cells[r][c]\n",
        "        for r in range(box_row * self.box_size, (box_row + 1) * self.box_size)\n",
        "        for c in range(box_col * self.box_size, (box_col + 1) * self.box_size)])\n",
        "\n",
        "  def remove_cell_value_from_adjacent(self, cell):\n",
        "    \"\"\"ASSUMES ONLY 1 POSSIBILITY\"\"\"\n",
        "    #print(\"CELL LOCATION IS [%d][%d]\" % (cell.row_ind, cell.col_ind))\n",
        "    for x in range(self.size):\n",
        "      self.cells[cell.row_ind][x].possibilities -= set([cell.value])\n",
        "      self.cells[x][cell.col_ind].possibilities -= set([cell.value])\n",
        "    for rb in range(self.box_size):\n",
        "      for cb in range(self.box_size):\n",
        "        ri = int(cell.row_ind/4) * 4 + rb\n",
        "        ci = int(cell.col_ind/4) * 4 + cb\n",
        "        #print(\".........removing %s from cell [%d][%d]\" % (cell.value, ri, ci))\n",
        "        self.cells[ri][ci].possibilities -= set([cell.value])\n",
        "\n",
        "  def remove_rcb_values_from_cell(self, row, col):\n",
        "    if self.cells[row][col].value is None:\n",
        "      if len(self.cells[row][col].possibilities) == 1:\n",
        "        self.cells[row][col].set_remainder_as_value()\n",
        "      else:\n",
        "        self.cells[row][col].possibilities -= self.Row(row).values\n",
        "        self.cells[row][col].possibilities -= self.Col(col).values\n",
        "        self.cells[row][col].possibilities -= self.Box(\n",
        "            int(row/4), int(col/4)).values\n",
        "        if len(self.cells[row][col].possibilities) == 1:\n",
        "          self.cells[row][col].set_remainder_as_value()\n",
        "\n",
        "\n",
        "  def remove_all_rcb_values(self):\n",
        "    for row in range(self.size):\n",
        "      for col in range(self.size):\n",
        "        self.remove_rcb_values_from_cell(row, col)\n",
        "\n",
        "  def set_only_possibility_in_group(self):\n",
        "    for r in range(self.size):\n",
        "      for p, l in self.Row(r).possibility_locations.items():\n",
        "        if len(l) == 1:\n",
        "          #print(\"row\", r)\n",
        "          self.cells[l[0][0]][l[0][1]].set_value(p)\n",
        "          self.remove_cell_value_from_adjacent(self.cells[l[0][0]][l[0][1]])\n",
        "      self.remove_all_rcb_values()\n",
        "    for c in range(self.size):\n",
        "      for p, l in self.Col(c).possibility_locations.items():\n",
        "        if len(l) == 1:\n",
        "          #print(\"col\", c)\n",
        "          self.cells[l[0][0]][l[0][1]].set_value(p)\n",
        "          self.remove_cell_value_from_adjacent(self.cells[l[0][0]][l[0][1]])\n",
        "      self.remove_all_rcb_values()\n",
        "    for rb in range(4):\n",
        "      for cb in range(4):\n",
        "        for p, l in game.Box(rb, cb).possibility_locations.items():\n",
        "          if len(l) == 1:\n",
        "            #print(\"box\", rb, cb)\n",
        "            game.cells[l[0][0]][l[0][1]].set_value(p)\n",
        "            self.remove_all_rcb_values()\n",
        "          self.remove_all_rcb_values()\n",
        "        self.remove_all_rcb_values()\n",
        "      self.remove_all_rcb_values()\n",
        "\n",
        "def create_blank_grid():\n",
        "  grid = []\n",
        "  for row in range(16):\n",
        "    row = []\n",
        "    for col in range(16):\n",
        "      row.append(Cell(row, col))\n",
        "    grid.append(row)\n",
        "  return Grid(grid)\n",
        "\n",
        "def create_grid_from_lists(grid_list: List[List[str]], nrows=16, ncols=16):\n",
        "  grid = []\n",
        "  for r in range(nrows):\n",
        "    row = []\n",
        "    for c in range(ncols):\n",
        "      val = grid_list[r][c] if grid_list[r][c] != \" \" else None\n",
        "      row.append(Cell(r, c, val))\n",
        "    grid.append(row)\n",
        "  return Grid(grid)\n",
        "\n",
        "\n",
        "def create_box(first_row, first_col, values):\n",
        "  cells = []\n",
        "  for i in range(4):\n",
        "    row = []\n",
        "    for j in range(4):\n",
        "      val = values[i][j] if values[i][j] != \"x\" else None\n",
        "      #row.append(Cell(first_row + i, first_col + j, val))\n",
        "      cells.append(Cell(first_row + i, first_col + j, val))\n",
        "    #cells.append(row)\n",
        "  return cells"
      ],
      "metadata": {
        "id": "Kypz2p7do2xI"
      },
      "execution_count": null,
      "outputs": []
    },
    {
      "cell_type": "code",
      "source": [
        "game = create_grid_from_lists(my_grid)"
      ],
      "metadata": {
        "id": "q8nop8iltghv"
      },
      "execution_count": null,
      "outputs": []
    },
    {
      "cell_type": "code",
      "source": [
        "game.remove_all_rcb_values()"
      ],
      "metadata": {
        "colab": {
          "base_uri": "https://localhost:8080/"
        },
        "id": "33suJ4refZfv",
        "outputId": "142807ab-2502-45d0-fa6d-8ff309a2d684"
      },
      "execution_count": null,
      "outputs": [
        {
          "output_type": "stream",
          "name": "stdout",
          "text": [
            "setting cell 11, 1 to 3\n"
          ]
        }
      ]
    },
    {
      "cell_type": "code",
      "source": [
        "game.set_only_possibility_in_group()"
      ],
      "metadata": {
        "colab": {
          "base_uri": "https://localhost:8080/"
        },
        "id": "fLCZtyvSSG6p",
        "outputId": "7a39429a-3c34-4b52-a2bf-d316c825f7d0"
      },
      "execution_count": null,
      "outputs": [
        {
          "output_type": "stream",
          "name": "stdout",
          "text": [
            "setting cell 1, 8 to 5\n",
            "setting cell 2, 9 to D\n",
            "setting cell 2, 7 to E\n",
            "setting cell 8, 14 to F\n",
            "setting cell 12, 2 to 5\n",
            "setting cell 6, 0 to 3\n",
            "setting cell 0, 4 to A\n",
            "setting cell 5, 15 to 5\n",
            "setting cell 1, 9 to A\n",
            "setting cell 4, 0 to 2\n",
            "setting cell 4, 15 to F\n",
            "setting cell 10, 6 to 5\n",
            "setting cell 8, 13 to 9\n",
            "setting cell 13, 3 to B\n"
          ]
        }
      ]
    },
    {
      "cell_type": "code",
      "source": [
        "game.set_only_possibility_in_group()"
      ],
      "metadata": {
        "colab": {
          "base_uri": "https://localhost:8080/"
        },
        "id": "ItyRtOrZTUPW",
        "outputId": "21ec55b5-a7e1-48b5-d03b-2dd4b6f12f55"
      },
      "execution_count": null,
      "outputs": [
        {
          "output_type": "stream",
          "name": "stdout",
          "text": [
            "setting cell 4, 12 to A\n",
            "setting cell 9, 13 to 2\n",
            "setting cell 6, 12 to E\n",
            "setting cell 10, 2 to 2\n"
          ]
        }
      ]
    },
    {
      "cell_type": "code",
      "source": [
        "game.set_only_possibility_in_group()"
      ],
      "metadata": {
        "colab": {
          "base_uri": "https://localhost:8080/"
        },
        "id": "Szbb_qdKTUN8",
        "outputId": "deb23d96-a564-4e43-a9df-b99f399ab6a6"
      },
      "execution_count": null,
      "outputs": [
        {
          "output_type": "stream",
          "name": "stdout",
          "text": [
            "setting cell 10, 0 to A\n",
            "setting cell 8, 12 to D\n",
            "setting cell 10, 11 to D\n"
          ]
        }
      ]
    },
    {
      "cell_type": "code",
      "source": [
        "game.set_only_possibility_in_group()"
      ],
      "metadata": {
        "id": "MC053Q3KTUEx"
      },
      "execution_count": null,
      "outputs": []
    },
    {
      "cell_type": "code",
      "source": [
        "game.Box(0, 0).removal_by_col"
      ],
      "metadata": {
        "colab": {
          "base_uri": "https://localhost:8080/"
        },
        "id": "cCJDDOQNWyJz",
        "outputId": "01c101bd-3636-463d-8d25-a7de31cb8e19"
      },
      "execution_count": null,
      "outputs": [
        {
          "output_type": "execute_result",
          "data": {
            "text/plain": [
              "{'7': [(4, 1),\n",
              "  (5, 1),\n",
              "  (6, 1),\n",
              "  (7, 1),\n",
              "  (8, 1),\n",
              "  (9, 1),\n",
              "  (10, 1),\n",
              "  (11, 1),\n",
              "  (12, 1),\n",
              "  (13, 1),\n",
              "  (14, 1),\n",
              "  (15, 1)],\n",
              " 'B': [(4, 1),\n",
              "  (5, 1),\n",
              "  (6, 1),\n",
              "  (7, 1),\n",
              "  (8, 1),\n",
              "  (9, 1),\n",
              "  (10, 1),\n",
              "  (11, 1),\n",
              "  (12, 1),\n",
              "  (13, 1),\n",
              "  (14, 1),\n",
              "  (15, 1)]}"
            ]
          },
          "metadata": {},
          "execution_count": 34
        }
      ]
    },
    {
      "cell_type": "code",
      "source": [],
      "metadata": {
        "id": "_eoyWl48WyAM"
      },
      "execution_count": null,
      "outputs": []
    },
    {
      "cell_type": "code",
      "source": [],
      "metadata": {
        "id": "f_OTMgkbWxuC"
      },
      "execution_count": null,
      "outputs": []
    },
    {
      "cell_type": "code",
      "source": [
        "game.cells[5][1].possibilities"
      ],
      "metadata": {
        "colab": {
          "base_uri": "https://localhost:8080/"
        },
        "id": "K1vzwc6DhEz1",
        "outputId": "eacb1fac-693a-4d06-e1c7-c73ca2070753"
      },
      "execution_count": null,
      "outputs": [
        {
          "output_type": "execute_result",
          "data": {
            "text/plain": [
              "{'3', '5', '6', '7', 'A', 'D'}"
            ]
          },
          "metadata": {},
          "execution_count": 44
        }
      ]
    },
    {
      "cell_type": "code",
      "source": [
        "for p, l in game.Row(1).possibility_locations.items():\n",
        "  if len(l) == 1:\n",
        "      game.cells[l[0][0]][l[0][1]].set_value(p)\n",
        "      game.remove_cell_value_from_adjacent(game.cells[l[0][0]][l[0][1]])\n",
        "  game.remove_all_rcb_values()"
      ],
      "metadata": {
        "colab": {
          "base_uri": "https://localhost:8080/"
        },
        "id": "24-rSb8ee779",
        "outputId": "3bb9a6b2-2b60-49da-913e-4f90b7ad3546"
      },
      "execution_count": null,
      "outputs": [
        {
          "output_type": "stream",
          "name": "stdout",
          "text": [
            "setting cell 1, 8 to 5\n",
            "CELL LOCATION IS [1][8]\n"
          ]
        }
      ]
    },
    {
      "cell_type": "code",
      "source": [
        "for p, l in game.Row(2).possibility_locations.items():\n",
        "  if len(l) == 1:\n",
        "      game.cells[l[0][0]][l[0][1]].set_value(p)\n",
        "      game.remove_cell_value_from_adjacent(game.cells[l[0][0]][l[0][1]])\n",
        "  game.remove_all_rcb_values()"
      ],
      "metadata": {
        "colab": {
          "base_uri": "https://localhost:8080/"
        },
        "id": "IiZ7-gxie74A",
        "outputId": "b81f03c9-73e2-4d96-8dcf-48297f4dbc31"
      },
      "execution_count": null,
      "outputs": [
        {
          "output_type": "stream",
          "name": "stdout",
          "text": [
            "setting cell 2, 9 to D\n",
            "setting cell 2, 7 to E\n"
          ]
        }
      ]
    },
    {
      "cell_type": "code",
      "source": [
        "for p, l in game.Row(8).possibility_locations.items():\n",
        "  if len(l) == 1:\n",
        "      game.cells[l[0][0]][l[0][1]].set_value(p)\n",
        "      game.remove_cell_value_from_adjacent(game.cells[l[0][0]][l[0][1]])\n",
        "  game.remove_all_rcb_values()"
      ],
      "metadata": {
        "colab": {
          "base_uri": "https://localhost:8080/"
        },
        "id": "9Hnx2jjsfrJy",
        "outputId": "e4c5ef4e-90df-413d-8576-0fb0a4c5e252"
      },
      "execution_count": null,
      "outputs": [
        {
          "output_type": "stream",
          "name": "stdout",
          "text": [
            "setting cell 8, 14 to F\n"
          ]
        }
      ]
    },
    {
      "cell_type": "code",
      "source": [
        "for p, l in game.Row(12).possibility_locations.items():\n",
        "  if len(l) == 1:\n",
        "      game.cells[l[0][0]][l[0][1]].set_value(p)\n",
        "      game.remove_cell_value_from_adjacent(game.cells[l[0][0]][l[0][1]])\n",
        "  game.remove_all_rcb_values()"
      ],
      "metadata": {
        "colab": {
          "base_uri": "https://localhost:8080/"
        },
        "id": "6eygvKD6frFo",
        "outputId": "468cf8fa-971d-4bd6-95ec-407f827489ea"
      },
      "execution_count": null,
      "outputs": [
        {
          "output_type": "stream",
          "name": "stdout",
          "text": [
            "setting cell 12, 2 to 5\n"
          ]
        }
      ]
    },
    {
      "cell_type": "code",
      "source": [
        "int(12/4), int(2/4)"
      ],
      "metadata": {
        "colab": {
          "base_uri": "https://localhost:8080/"
        },
        "id": "uHsLFt6ZM-1w",
        "outputId": "e5055da1-0be7-42b6-c50d-2a8fb35468b7"
      },
      "execution_count": null,
      "outputs": [
        {
          "output_type": "execute_result",
          "data": {
            "text/plain": [
              "(3, 0)"
            ]
          },
          "metadata": {},
          "execution_count": 26
        }
      ]
    },
    {
      "cell_type": "code",
      "source": [
        "for p, l in game.Col(0).possibility_locations.items():\n",
        "  if len(l) == 1:\n",
        "      game.cells[l[0][0]][l[0][1]].set_value(p)\n",
        "      game.remove_cell_value_from_adjacent(game.cells[l[0][0]][l[0][1]])\n",
        "  game.remove_all_rcb_values()"
      ],
      "metadata": {
        "colab": {
          "base_uri": "https://localhost:8080/"
        },
        "id": "zfJxXuj9fq92",
        "outputId": "1ce082d2-42d6-4cee-92a2-1b77bb13370c"
      },
      "execution_count": null,
      "outputs": [
        {
          "output_type": "stream",
          "name": "stdout",
          "text": [
            "setting cell 6, 0 to 3\n"
          ]
        }
      ]
    },
    {
      "cell_type": "code",
      "source": [
        "game.Col(1).possibility_locations"
      ],
      "metadata": {
        "colab": {
          "base_uri": "https://localhost:8080/"
        },
        "id": "3K3owkA1MPKB",
        "outputId": "fdd0bf70-6614-4a02-a1f0-867297fee67c"
      },
      "execution_count": null,
      "outputs": [
        {
          "output_type": "execute_result",
          "data": {
            "text/plain": [
              "{'D': [(5, 1), (6, 1), (7, 1), (14, 1)],\n",
              " '7': [(1, 1), (3, 1), (5, 1), (6, 1), (7, 1)],\n",
              " 'B': [(0, 1), (1, 1), (3, 1)],\n",
              " '1': [(0, 1), (1, 1), (3, 1), (8, 1), (9, 1), (14, 1), (15, 1)],\n",
              " '4': [(3, 1), (9, 1), (14, 1), (15, 1)],\n",
              " 'F': [(0, 1), (1, 1), (14, 1)],\n",
              " 'A': [(5, 1), (14, 1), (15, 1)],\n",
              " '5': [(7, 1)],\n",
              " '6': [(5, 1), (6, 1), (7, 1), (8, 1), (14, 1), (15, 1)],\n",
              " 'E': [(9, 1), (14, 1), (15, 1)]}"
            ]
          },
          "metadata": {},
          "execution_count": 14
        }
      ]
    },
    {
      "cell_type": "code",
      "source": [
        "game.Col(1).possibility_locations"
      ],
      "metadata": {
        "colab": {
          "base_uri": "https://localhost:8080/"
        },
        "id": "ryA0a0X2e7i7",
        "outputId": "04bf5585-199b-46c3-d645-41ad17f331e7"
      },
      "execution_count": null,
      "outputs": [
        {
          "output_type": "execute_result",
          "data": {
            "text/plain": [
              "{'5': [(7, 1)],\n",
              " 'A': [(5, 1), (14, 1), (15, 1)],\n",
              " 'D': [(5, 1), (6, 1), (7, 1), (14, 1)],\n",
              " '7': [(1, 1), (3, 1), (5, 1), (6, 1), (7, 1)],\n",
              " '1': [(0, 1), (1, 1), (3, 1), (8, 1), (9, 1), (14, 1), (15, 1)],\n",
              " 'B': [(0, 1), (1, 1), (3, 1)],\n",
              " '6': [(5, 1), (6, 1), (7, 1), (8, 1), (14, 1), (15, 1)],\n",
              " 'E': [(9, 1), (14, 1), (15, 1)],\n",
              " 'F': [(0, 1), (1, 1), (14, 1)],\n",
              " '4': [(3, 1), (9, 1), (14, 1), (15, 1)]}"
            ]
          },
          "metadata": {},
          "execution_count": 28
        }
      ]
    },
    {
      "cell_type": "code",
      "source": [
        "game.cells[5][1].possibilities"
      ],
      "metadata": {
        "colab": {
          "base_uri": "https://localhost:8080/"
        },
        "id": "pjoHM3VCgZr_",
        "outputId": "5fddc42d-7e42-4840-95c4-b03e145d038f"
      },
      "execution_count": null,
      "outputs": [
        {
          "output_type": "execute_result",
          "data": {
            "text/plain": [
              "{'6', '7', 'A', 'D'}"
            ]
          },
          "metadata": {},
          "execution_count": 30
        }
      ]
    },
    {
      "cell_type": "code",
      "source": [
        "game.cells[6][1].possibilities"
      ],
      "metadata": {
        "colab": {
          "base_uri": "https://localhost:8080/"
        },
        "id": "u0_RbKyCgQnd",
        "outputId": "1f2f9c8b-d8cb-49aa-bb44-8bbacd853584"
      },
      "execution_count": null,
      "outputs": [
        {
          "output_type": "execute_result",
          "data": {
            "text/plain": [
              "{'6', '7', 'D'}"
            ]
          },
          "metadata": {},
          "execution_count": 29
        }
      ]
    },
    {
      "cell_type": "code",
      "source": [
        "game.set_only_possibility_in_group()"
      ],
      "metadata": {
        "colab": {
          "base_uri": "https://localhost:8080/"
        },
        "id": "eC10-6BbcWg9",
        "outputId": "46d04dbd-9acc-427f-bc44-2664ccf85caf"
      },
      "execution_count": null,
      "outputs": [
        {
          "output_type": "stream",
          "name": "stdout",
          "text": [
            "row 1\n",
            "setting cell 1, 8 to 5\n",
            "CELL LOCATION IS [1][8]\n",
            "row 2\n",
            "setting cell 2, 9 to D\n",
            "CELL LOCATION IS [2][9]\n",
            "row 2\n",
            "setting cell 2, 7 to E\n",
            "CELL LOCATION IS [2][7]\n",
            "row 8\n",
            "setting cell 8, 14 to F\n",
            "CELL LOCATION IS [8][14]\n",
            "row 12\n",
            "setting cell 12, 2 to 5\n",
            "CELL LOCATION IS [12][2]\n",
            "col 0\n",
            "setting cell 6, 0 to 3\n",
            "CELL LOCATION IS [6][0]\n",
            "col 4\n",
            "setting cell 0, 4 to A\n",
            "CELL LOCATION IS [0][4]\n",
            "col 15\n",
            "setting cell 5, 15 to 5\n",
            "CELL LOCATION IS [5][15]\n",
            "box 0 2\n",
            "setting cell 1, 9 to A\n",
            "box 1 0\n",
            "setting cell 4, 0 to 2\n",
            "box 1 3\n",
            "setting cell 4, 15 to F\n",
            "box 2 1\n",
            "setting cell 10, 6 to 5\n",
            "box 2 3\n",
            "setting cell 8, 13 to 9\n",
            "box 3 0\n",
            "setting cell 13, 3 to B\n"
          ]
        }
      ]
    },
    {
      "cell_type": "code",
      "source": [
        "game.set_only_possibility_in_group()"
      ],
      "metadata": {
        "colab": {
          "base_uri": "https://localhost:8080/"
        },
        "id": "EC94qys6cWf4",
        "outputId": "f64d4b5e-e2cf-4264-bd82-a45027f38365"
      },
      "execution_count": null,
      "outputs": [
        {
          "output_type": "stream",
          "name": "stdout",
          "text": [
            "row 4\n",
            "setting cell 4, 12 to A\n",
            "CELL LOCATION IS [4][12]\n",
            "col 13\n",
            "setting cell 9, 13 to 2\n",
            "CELL LOCATION IS [9][13]\n",
            "box 1 3\n",
            "setting cell 6, 12 to E\n",
            "box 2 0\n",
            "setting cell 10, 2 to 2\n"
          ]
        }
      ]
    },
    {
      "cell_type": "code",
      "source": [
        "game.set_only_possibility_in_group()"
      ],
      "metadata": {
        "colab": {
          "base_uri": "https://localhost:8080/"
        },
        "id": "CRTsnHu1cWca",
        "outputId": "c09066b3-a30e-478e-fda9-1dceac0767e2"
      },
      "execution_count": null,
      "outputs": [
        {
          "output_type": "stream",
          "name": "stdout",
          "text": [
            "setting cell 10, 0 to A\n",
            "setting cell 5, 2 to D\n",
            "setting cell 7, 2 to C\n",
            "setting cell 14, 1 to D\n",
            "setting cell 8, 12 to D\n",
            "setting cell 10, 11 to D\n",
            "setting cell 13, 10 to D\n"
          ]
        }
      ]
    },
    {
      "cell_type": "code",
      "source": [
        "x x x A\n",
        "- x x x\n",
        "x x A x\n",
        "x A x x\n",
        "\n",
        "x A x x\n",
        "X X - -\n",
        "! X X X\n",
        "X X - -"
      ],
      "metadata": {
        "id": "zgO1dp7scWWg"
      },
      "execution_count": null,
      "outputs": []
    },
    {
      "cell_type": "code",
      "source": [
        "for r in range(16):\n",
        "  for p, l in game.Row(r).possibility_locations.items():\n",
        "    if len(l) == 1:\n",
        "      game.cells[l[0][0]][l[0][1]].set_value(p)\n",
        "print(\"-----------------\")\n",
        "game.remove_all_rcb_values()"
      ],
      "metadata": {
        "colab": {
          "base_uri": "https://localhost:8080/"
        },
        "id": "8NQS3UkGpzRu",
        "outputId": "175ad103-2c76-4a5c-8700-f17e624368a6"
      },
      "execution_count": null,
      "outputs": [
        {
          "output_type": "stream",
          "name": "stdout",
          "text": [
            "setting cell 1, 8 to 5\n",
            "setting cell 2, 9 to D\n",
            "setting cell 2, 7 to E\n",
            "setting cell 8, 14 to F\n",
            "-----------------\n"
          ]
        }
      ]
    },
    {
      "cell_type": "code",
      "source": [
        "for c in range(16):\n",
        "  for p, l in game.Col(c).possibility_locations.items():\n",
        "    if len(l) == 1:\n",
        "      game.cells[l[0][0]][l[0][1]].set_value(p)\n",
        "print(\"-----------------\")\n",
        "game.remove_all_rcb_values()"
      ],
      "metadata": {
        "colab": {
          "base_uri": "https://localhost:8080/"
        },
        "id": "w_zsHMK5vH1a",
        "outputId": "0d17ed10-5926-45d9-b5e5-ae73cf6811d1"
      },
      "execution_count": null,
      "outputs": [
        {
          "output_type": "stream",
          "name": "stdout",
          "text": [
            "setting cell 6, 0 to 3\n",
            "setting cell 0, 4 to A\n",
            "setting cell 5, 15 to 5\n",
            "-----------------\n"
          ]
        }
      ]
    },
    {
      "cell_type": "code",
      "source": [
        "for rb in range(4):\n",
        "  for cb in range(4):\n",
        "    for p, l in game.Box(rb, cb).possibility_locations.items():\n",
        "      if len(l) == 1:\n",
        "        game.cells[l[0][0]][l[0][1]].set_value(p)\n",
        "    print(\"-----------------\")\n",
        "    game.remove_all_rcb_values()\n",
        "    print(\"-----------------\")"
      ],
      "metadata": {
        "colab": {
          "base_uri": "https://localhost:8080/"
        },
        "id": "riFBFNIWA8an",
        "outputId": "2f0770f3-00c3-4f1b-f103-3bd2c7cdf699"
      },
      "execution_count": null,
      "outputs": [
        {
          "output_type": "stream",
          "name": "stdout",
          "text": [
            "-----------------\n",
            "-----------------\n",
            "-----------------\n",
            "-----------------\n",
            "A [(1, 9)]\n",
            "setting cell 1, 9 to A\n",
            "-----------------\n",
            "-----------------\n",
            "-----------------\n",
            "-----------------\n",
            "2 [(4, 0)]\n",
            "setting cell 4, 0 to 2\n",
            "-----------------\n",
            "-----------------\n",
            "-----------------\n",
            "-----------------\n",
            "-----------------\n",
            "-----------------\n",
            "F [(4, 15)]\n",
            "setting cell 4, 15 to F\n",
            "-----------------\n",
            "-----------------\n",
            "-----------------\n",
            "-----------------\n",
            "5 [(10, 6)]\n",
            "setting cell 10, 6 to 5\n",
            "-----------------\n",
            "-----------------\n",
            "-----------------\n",
            "-----------------\n",
            "9 [(8, 13)]\n",
            "setting cell 8, 13 to 9\n",
            "-----------------\n",
            "-----------------\n",
            "B [(13, 3)]\n",
            "setting cell 13, 3 to B\n",
            "-----------------\n",
            "-----------------\n",
            "-----------------\n",
            "-----------------\n",
            "-----------------\n",
            "-----------------\n",
            "-----------------\n",
            "-----------------\n"
          ]
        }
      ]
    },
    {
      "cell_type": "code",
      "source": [
        "for r in range(16):\n",
        "  for p, l in game.Row(r).possibility_locations.items():\n",
        "    if len(l) == 1:\n",
        "      game.cells[l[0][0]][l[0][1]].set_value(p)\n",
        "print(\"-----------------\")\n",
        "game.remove_all_rcb_values()"
      ],
      "metadata": {
        "colab": {
          "base_uri": "https://localhost:8080/"
        },
        "id": "X-IOE8gJqGQk",
        "outputId": "0cb430d4-c92a-44c4-e3e7-e5ab080f8418"
      },
      "execution_count": null,
      "outputs": [
        {
          "output_type": "stream",
          "name": "stdout",
          "text": [
            "setting cell 4, 12 to A\n",
            "setting cell 12, 2 to 5\n",
            "-----------------\n"
          ]
        }
      ]
    },
    {
      "cell_type": "code",
      "source": [
        "for c in range(16):\n",
        "  for p, l in game.Col(c).possibility_locations.items():\n",
        "    if len(l) == 1:\n",
        "      game.cells[l[0][0]][l[0][1]].set_value(p)\n",
        "print(\"-----------------\")\n",
        "game.remove_all_rcb_values()"
      ],
      "metadata": {
        "colab": {
          "base_uri": "https://localhost:8080/"
        },
        "id": "qBN_AGwzCSnQ",
        "outputId": "06d9de8b-bc35-49e8-e6be-50e04bee950e"
      },
      "execution_count": null,
      "outputs": [
        {
          "output_type": "stream",
          "name": "stdout",
          "text": [
            "setting cell 9, 13 to 2\n",
            "-----------------\n"
          ]
        }
      ]
    },
    {
      "cell_type": "code",
      "source": [
        "for rb in range(4):\n",
        "  for cb in range(4):\n",
        "    for p, l in game.Box(rb, cb).possibility_locations.items():\n",
        "      if len(l) == 1:\n",
        "        game.cells[l[0][0]][l[0][1]].set_value(p)\n",
        "    print(\"-----------------\")\n",
        "    game.remove_all_rcb_values()\n",
        "    print(\"-----------------\")"
      ],
      "metadata": {
        "colab": {
          "base_uri": "https://localhost:8080/"
        },
        "id": "wtyVlH2jCSkY",
        "outputId": "68ffaadb-635c-4515-8529-75e305499969"
      },
      "execution_count": null,
      "outputs": [
        {
          "output_type": "stream",
          "name": "stdout",
          "text": [
            "-----------------\n",
            "-----------------\n",
            "-----------------\n",
            "-----------------\n",
            "-----------------\n",
            "-----------------\n",
            "-----------------\n",
            "-----------------\n",
            "-----------------\n",
            "-----------------\n",
            "-----------------\n",
            "-----------------\n",
            "-----------------\n",
            "-----------------\n",
            "setting cell 6, 12 to E\n",
            "-----------------\n",
            "-----------------\n",
            "setting cell 10, 2 to 2\n",
            "-----------------\n",
            "-----------------\n",
            "-----------------\n",
            "-----------------\n",
            "-----------------\n",
            "-----------------\n",
            "-----------------\n",
            "-----------------\n",
            "-----------------\n",
            "-----------------\n",
            "-----------------\n",
            "-----------------\n",
            "-----------------\n",
            "-----------------\n",
            "-----------------\n",
            "-----------------\n"
          ]
        }
      ]
    },
    {
      "cell_type": "code",
      "source": [
        "for r in range(16):\n",
        "  for p, l in game.Row(r).possibility_locations.items():\n",
        "    if len(l) == 1:\n",
        "      game.cells[l[0][0]][l[0][1]].set_value(p)\n",
        "print(\"-----------------\")\n",
        "game.remove_all_rcb_values()"
      ],
      "metadata": {
        "colab": {
          "base_uri": "https://localhost:8080/"
        },
        "id": "S9_BUXSNCShi",
        "outputId": "66b2d5f4-4494-4109-938d-5718404ef698"
      },
      "execution_count": null,
      "outputs": [
        {
          "output_type": "stream",
          "name": "stdout",
          "text": [
            "setting cell 10, 0 to A\n",
            "-----------------\n"
          ]
        }
      ]
    },
    {
      "cell_type": "code",
      "source": [
        "for c in range(16):\n",
        "  for p, l in game.Col(c).possibility_locations.items():\n",
        "    if len(l) == 1:\n",
        "      game.cells[l[0][0]][l[0][1]].set_value(p)\n",
        "print(\"-----------------\")\n",
        "game.remove_all_rcb_values()"
      ],
      "metadata": {
        "colab": {
          "base_uri": "https://localhost:8080/"
        },
        "id": "ntMrq-KDCSer",
        "outputId": "4fddeac7-5a26-49c1-df93-7d6e4afabd1c"
      },
      "execution_count": null,
      "outputs": [
        {
          "output_type": "stream",
          "name": "stdout",
          "text": [
            "setting cell 8, 12 to D\n",
            "-----------------\n"
          ]
        }
      ]
    },
    {
      "cell_type": "code",
      "source": [
        "for rb in range(4):\n",
        "  for cb in range(4):\n",
        "    for p, l in game.Box(rb, cb).possibility_locations.items():\n",
        "      if len(l) == 1:\n",
        "        game.cells[l[0][0]][l[0][1]].set_value(p)\n",
        "    print(\"-----------------\")\n",
        "    game.remove_all_rcb_values()\n",
        "    print(\"-----------------\")"
      ],
      "metadata": {
        "colab": {
          "base_uri": "https://localhost:8080/"
        },
        "id": "6OtNrw1oCSax",
        "outputId": "f1c5d12b-40b9-4f75-9f4c-0636582dba21"
      },
      "execution_count": null,
      "outputs": [
        {
          "output_type": "stream",
          "name": "stdout",
          "text": [
            "-----------------\n",
            "-----------------\n",
            "-----------------\n",
            "-----------------\n",
            "-----------------\n",
            "-----------------\n",
            "-----------------\n",
            "-----------------\n",
            "-----------------\n",
            "-----------------\n",
            "-----------------\n",
            "-----------------\n",
            "-----------------\n",
            "-----------------\n",
            "-----------------\n",
            "-----------------\n",
            "-----------------\n",
            "-----------------\n",
            "-----------------\n",
            "-----------------\n",
            "setting cell 10, 11 to D\n",
            "-----------------\n",
            "-----------------\n",
            "-----------------\n",
            "-----------------\n",
            "-----------------\n",
            "-----------------\n",
            "-----------------\n",
            "-----------------\n",
            "-----------------\n",
            "-----------------\n",
            "-----------------\n",
            "-----------------\n"
          ]
        }
      ]
    },
    {
      "cell_type": "code",
      "source": [
        "for r in range(16):\n",
        "  for p, l in game.Row(r).possibility_locations.items():\n",
        "    if len(l) == 1:\n",
        "      game.cells[l[0][0]][l[0][1]].set_value(p)\n",
        "print(\"-----------------\")\n",
        "game.remove_all_rcb_values()"
      ],
      "metadata": {
        "colab": {
          "base_uri": "https://localhost:8080/"
        },
        "id": "1RnLVj-TCSWl",
        "outputId": "5bcd636f-4e6d-42a2-c1c4-736fb2b1973a"
      },
      "execution_count": null,
      "outputs": [
        {
          "output_type": "stream",
          "name": "stdout",
          "text": [
            "-----------------\n"
          ]
        }
      ]
    },
    {
      "cell_type": "code",
      "source": [
        "for c in range(16):\n",
        "  for p, l in game.Col(c).possibility_locations.items():\n",
        "    if len(l) == 1:\n",
        "      game.cells[l[0][0]][l[0][1]].set_value(p)\n",
        "print(\"-----------------\")\n",
        "game.remove_all_rcb_values()"
      ],
      "metadata": {
        "colab": {
          "base_uri": "https://localhost:8080/"
        },
        "id": "MIJ2yGP-DKw_",
        "outputId": "07e30877-8d9c-4fd9-8f7b-c36318d9c320"
      },
      "execution_count": null,
      "outputs": [
        {
          "output_type": "stream",
          "name": "stdout",
          "text": [
            "-----------------\n"
          ]
        }
      ]
    },
    {
      "cell_type": "code",
      "source": [
        "for rb in range(4):\n",
        "  for cb in range(4):\n",
        "    for p, l in game.Box(rb, cb).possibility_locations.items():\n",
        "      if len(l) == 1:\n",
        "        game.cells[l[0][0]][l[0][1]].set_value(p)\n",
        "    print(\"-----------------\")\n",
        "    game.remove_all_rcb_values()\n",
        "    print(\"-----------------\")"
      ],
      "metadata": {
        "colab": {
          "base_uri": "https://localhost:8080/"
        },
        "id": "7xD0iFmQDKuI",
        "outputId": "5acd03e5-8d86-4dbf-ce6e-8f32d2540409"
      },
      "execution_count": null,
      "outputs": [
        {
          "output_type": "stream",
          "name": "stdout",
          "text": [
            "-----------------\n",
            "-----------------\n",
            "-----------------\n",
            "-----------------\n",
            "-----------------\n",
            "-----------------\n",
            "-----------------\n",
            "-----------------\n",
            "-----------------\n",
            "-----------------\n",
            "-----------------\n",
            "-----------------\n",
            "-----------------\n",
            "-----------------\n",
            "-----------------\n",
            "-----------------\n",
            "-----------------\n",
            "-----------------\n",
            "-----------------\n",
            "-----------------\n",
            "-----------------\n",
            "-----------------\n",
            "-----------------\n",
            "-----------------\n",
            "-----------------\n",
            "-----------------\n",
            "-----------------\n",
            "-----------------\n",
            "-----------------\n",
            "-----------------\n",
            "-----------------\n",
            "-----------------\n"
          ]
        }
      ]
    },
    {
      "cell_type": "code",
      "source": [
        "game.Box(0, 0).possibility_locations"
      ],
      "metadata": {
        "colab": {
          "base_uri": "https://localhost:8080/"
        },
        "id": "diCxWemQDKra",
        "outputId": "6c5705ac-cb25-4ead-fc82-44b87aaf46e3"
      },
      "execution_count": null,
      "outputs": [
        {
          "output_type": "execute_result",
          "data": {
            "text/plain": [
              "{'B': [(0, 1), (1, 1), (3, 1)],\n",
              " 'C': [(0, 2), (0, 3), (1, 0), (2, 0), (3, 0), (3, 2)],\n",
              " '8': [(0, 2), (2, 0), (3, 0), (3, 2)],\n",
              " 'G': [(0, 2), (0, 3), (3, 2)],\n",
              " '7': [(1, 1), (3, 1)],\n",
              " 'E': [(3, 1), (3, 2)],\n",
              " 'F': [(0, 1), (1, 0), (1, 1), (2, 0)],\n",
              " '1': [(0, 1), (0, 2), (1, 0), (1, 1), (3, 0), (3, 1), (3, 2)],\n",
              " '4': [(2, 0), (3, 0), (3, 1)]}"
            ]
          },
          "metadata": {},
          "execution_count": 213
        }
      ]
    },
    {
      "cell_type": "code",
      "source": [
        "{k: set([p[0] for p in v]) for k, v in game.Box(0, 0).possibility_locations.items()}"
      ],
      "metadata": {
        "colab": {
          "base_uri": "https://localhost:8080/"
        },
        "id": "9IHRsccEDKpi",
        "outputId": "20706544-71ae-447f-c711-264f22d4a516"
      },
      "execution_count": null,
      "outputs": [
        {
          "output_type": "execute_result",
          "data": {
            "text/plain": [
              "{'B': {0, 1, 3},\n",
              " 'C': {0, 1, 2, 3},\n",
              " '8': {0, 2, 3},\n",
              " 'G': {0, 3},\n",
              " '7': {1, 3},\n",
              " 'E': {3},\n",
              " 'F': {0, 1, 2},\n",
              " '1': {0, 1, 3},\n",
              " '4': {2, 3}}"
            ]
          },
          "metadata": {},
          "execution_count": 215
        }
      ]
    },
    {
      "cell_type": "code",
      "source": [
        "{k: set([p[1] for p in v]) for k, v in game.Box(0, 0).possibility_locations.items()}"
      ],
      "metadata": {
        "colab": {
          "base_uri": "https://localhost:8080/"
        },
        "id": "x5Zv4E9DRSN-",
        "outputId": "d575a08e-592d-4135-f7ca-8a12d6784576"
      },
      "execution_count": null,
      "outputs": [
        {
          "output_type": "execute_result",
          "data": {
            "text/plain": [
              "{'B': {1},\n",
              " 'C': {0, 2, 3},\n",
              " '8': {0, 2},\n",
              " 'G': {2, 3},\n",
              " '7': {1},\n",
              " 'E': {1, 2},\n",
              " 'F': {0, 1},\n",
              " '1': {0, 1, 2},\n",
              " '4': {0, 1}}"
            ]
          },
          "metadata": {},
          "execution_count": 218
        }
      ]
    },
    {
      "cell_type": "code",
      "source": [
        "set([1,2,3]) - set([2])"
      ],
      "metadata": {
        "colab": {
          "base_uri": "https://localhost:8080/"
        },
        "id": "vzQpG9MCSSjJ",
        "outputId": "9c1d2d05-7804-4c1b-965f-d2e595bae328"
      },
      "execution_count": null,
      "outputs": [
        {
          "output_type": "execute_result",
          "data": {
            "text/plain": [
              "{1, 3}"
            ]
          },
          "metadata": {},
          "execution_count": 224
        }
      ]
    },
    {
      "cell_type": "code",
      "source": [
        "{k: set([p[1] for p in v]) for k, v in game.Box(0, 3).possibility_locations.items()}\n"
      ],
      "metadata": {
        "colab": {
          "base_uri": "https://localhost:8080/"
        },
        "id": "8EjFPb7_Snay",
        "outputId": "fc999e54-7ff4-445f-9e47-836f70facc6d"
      },
      "execution_count": null,
      "outputs": [
        {
          "output_type": "execute_result",
          "data": {
            "text/plain": [
              "{'B': {12, 13},\n",
              " 'C': {12, 13, 15},\n",
              " '3': {12, 15},\n",
              " '8': {12, 13},\n",
              " 'G': {12, 13, 15},\n",
              " '7': {12, 13, 15},\n",
              " '9': {15},\n",
              " '1': {12},\n",
              " '4': {12, 13}}"
            ]
          },
          "metadata": {},
          "execution_count": 228
        }
      ]
    },
    {
      "cell_type": "code",
      "source": [],
      "metadata": {
        "id": "634dv0BQTQVp"
      },
      "execution_count": null,
      "outputs": []
    },
    {
      "cell_type": "code",
      "source": [],
      "metadata": {
        "id": "5D_MeTquT_e6"
      },
      "execution_count": null,
      "outputs": []
    },
    {
      "cell_type": "code",
      "source": [
        "Group([game.cells[r][1] for r in range(16) if not r in [0, 1, 2, 3]]).possibilities_set"
      ],
      "metadata": {
        "colab": {
          "base_uri": "https://localhost:8080/"
        },
        "id": "gZ7gr3B_RInb",
        "outputId": "5541f9fa-1acc-471e-c3cd-2f29e2cbb376"
      },
      "execution_count": null,
      "outputs": [
        {
          "output_type": "execute_result",
          "data": {
            "text/plain": [
              "{'1', '4', '5', '6', '7', 'A', 'D', 'E', 'F'}"
            ]
          },
          "metadata": {},
          "execution_count": 221
        }
      ]
    },
    {
      "cell_type": "code",
      "source": [
        "{k: set([p[0] for p in v]) for k, v in game.Box(0, 1).possibility_locations.items()}"
      ],
      "metadata": {
        "colab": {
          "base_uri": "https://localhost:8080/"
        },
        "id": "bdurrX29Q3AU",
        "outputId": "b6fed34f-91c7-4a62-dbeb-359fe4c8dc1a"
      },
      "execution_count": null,
      "outputs": [
        {
          "output_type": "execute_result",
          "data": {
            "text/plain": [
              "{'B': {0, 1, 3},\n",
              " 'C': {0, 1, 2, 3},\n",
              " '3': {0, 3},\n",
              " '6': {3},\n",
              " '2': {0, 3},\n",
              " '9': {0, 2, 3},\n",
              " 'F': {0, 1},\n",
              " '1': {0, 1, 3}}"
            ]
          },
          "metadata": {},
          "execution_count": 217
        }
      ]
    },
    {
      "cell_type": "code",
      "source": [
        "{k: set([p[0] for p in v]) for k, v in game.Box(2, 2).possibility_locations.items()}"
      ],
      "metadata": {
        "colab": {
          "base_uri": "https://localhost:8080/"
        },
        "id": "zE2PPOv2DKmm",
        "outputId": "53bd6e1c-369a-4a66-b5c5-577a2795bb6f"
      },
      "execution_count": null,
      "outputs": [
        {
          "output_type": "execute_result",
          "data": {
            "text/plain": [
              "{'B': {8, 10},\n",
              " 'C': {8, 9, 11},\n",
              " '3': {8, 10},\n",
              " '8': {8, 11},\n",
              " 'G': {8, 9, 11},\n",
              " '7': {9, 10},\n",
              " '5': {8},\n",
              " '2': {8, 11}}"
            ]
          },
          "metadata": {},
          "execution_count": 216
        }
      ]
    },
    {
      "cell_type": "code",
      "source": [],
      "metadata": {
        "id": "sepBJsvPDKjt"
      },
      "execution_count": null,
      "outputs": []
    },
    {
      "cell_type": "code",
      "source": [],
      "metadata": {
        "id": "BHb8AzEZDKgm"
      },
      "execution_count": null,
      "outputs": []
    },
    {
      "cell_type": "code",
      "source": [
        "game.Box(0, 1).possibility_locations"
      ],
      "metadata": {
        "colab": {
          "base_uri": "https://localhost:8080/"
        },
        "id": "HtAH0uy-_uwH",
        "outputId": "01644b9a-dd0b-4f5b-80be-7d82fe339846"
      },
      "execution_count": null,
      "outputs": [
        {
          "output_type": "execute_result",
          "data": {
            "text/plain": [
              "{'B': [(0, 7), (1, 5), (3, 4), (3, 5)],\n",
              " 'C': [(0, 6), (0, 7), (1, 5), (1, 6), (2, 6), (3, 4), (3, 5), (3, 6)],\n",
              " '3': [(0, 6), (0, 7), (3, 4), (3, 6)],\n",
              " 'E': [(3, 4)],\n",
              " '6': [(3, 4), (3, 5)],\n",
              " '2': [(0, 6), (0, 7), (3, 4), (3, 5), (3, 6)],\n",
              " '9': [(0, 6), (0, 7), (2, 6), (3, 4), (3, 6)],\n",
              " 'F': [(0, 7), (1, 5)],\n",
              " '1': [(0, 6), (0, 7), (1, 5), (1, 6), (3, 4), (3, 5), (3, 6)]}"
            ]
          },
          "metadata": {},
          "execution_count": 195
        }
      ]
    },
    {
      "cell_type": "code",
      "source": [
        "game.Box(0, 1).possibilities_set"
      ],
      "metadata": {
        "colab": {
          "base_uri": "https://localhost:8080/"
        },
        "id": "kNOQn32l_utB",
        "outputId": "6b9e121a-10f7-4f57-f83d-32342b5ca77b"
      },
      "execution_count": null,
      "outputs": [
        {
          "output_type": "execute_result",
          "data": {
            "text/plain": [
              "{'1', '2', '3', '6', '9', 'B', 'C', 'E', 'F'}"
            ]
          },
          "metadata": {},
          "execution_count": 196
        }
      ]
    },
    {
      "cell_type": "code",
      "source": [
        "game.Box(0, 1).values"
      ],
      "metadata": {
        "colab": {
          "base_uri": "https://localhost:8080/"
        },
        "id": "Qvleus-__upY",
        "outputId": "179cf7c1-338d-474a-d395-dbd7ab6339d1"
      },
      "execution_count": null,
      "outputs": [
        {
          "output_type": "execute_result",
          "data": {
            "text/plain": [
              "{'4', '5', '7', '8', 'A', 'D', 'E', 'G'}"
            ]
          },
          "metadata": {},
          "execution_count": 197
        }
      ]
    },
    {
      "cell_type": "code",
      "source": [
        "game.remove_all_rcb_values()"
      ],
      "metadata": {
        "id": "rio1pt3cqGNf"
      },
      "execution_count": null,
      "outputs": []
    },
    {
      "cell_type": "code",
      "source": [
        "for r in range(16):\n",
        "  for p, l in game.Row(r).possibility_locations.items():\n",
        "    if len(l) == 1:\n",
        "      game.cells[l[0][0]][l[0][1]].set_value(p)"
      ],
      "metadata": {
        "colab": {
          "base_uri": "https://localhost:8080/"
        },
        "id": "m3PsIwKzqGB-",
        "outputId": "f3826de2-2836-46d6-aa16-1074c916d0f2"
      },
      "execution_count": null,
      "outputs": [
        {
          "output_type": "stream",
          "name": "stdout",
          "text": [
            "setting cell 1, 9 to A\n",
            "setting cell 3, 5 to 6\n",
            "setting cell 7, 10 to E\n",
            "setting cell 12, 2 to 5\n"
          ]
        }
      ]
    },
    {
      "cell_type": "code",
      "source": [
        "game.Row(3).possibilities_set"
      ],
      "metadata": {
        "colab": {
          "base_uri": "https://localhost:8080/"
        },
        "id": "cORCNaXM-cjW",
        "outputId": "01ae3f9b-6a11-4484-97eb-8b849f55637b"
      },
      "execution_count": null,
      "outputs": [
        {
          "output_type": "execute_result",
          "data": {
            "text/plain": [
              "{'1', '2', '3', '4', '6', '7', '8', '9', 'B', 'C', 'G'}"
            ]
          },
          "metadata": {},
          "execution_count": 190
        }
      ]
    },
    {
      "cell_type": "code",
      "source": [
        "game.Row(3).possibility_locations"
      ],
      "metadata": {
        "colab": {
          "base_uri": "https://localhost:8080/"
        },
        "id": "Dh51vVMl-STG",
        "outputId": "93bf218f-5d97-4219-e200-8af58ca4b1b7"
      },
      "execution_count": null,
      "outputs": [
        {
          "output_type": "execute_result",
          "data": {
            "text/plain": [
              "{'B': [(3, 1), (3, 5), (3, 12)],\n",
              " 'C': [(3, 0),\n",
              "  (3, 2),\n",
              "  (3, 5),\n",
              "  (3, 6),\n",
              "  (3, 8),\n",
              "  (3, 10),\n",
              "  (3, 11),\n",
              "  (3, 12),\n",
              "  (3, 15)],\n",
              " '3': [(3, 6), (3, 12), (3, 15)],\n",
              " '8': [(3, 0), (3, 2), (3, 8), (3, 9), (3, 10), (3, 12)],\n",
              " '7': [(3, 1), (3, 8), (3, 9), (3, 10), (3, 11), (3, 12), (3, 15)],\n",
              " 'G': [(3, 2), (3, 8), (3, 9), (3, 12), (3, 15)],\n",
              " '2': [(3, 5), (3, 6), (3, 8), (3, 10), (3, 11)],\n",
              " '9': [(3, 6), (3, 8), (3, 9), (3, 11), (3, 15)],\n",
              " '6': [(3, 5)],\n",
              " '1': [(3, 0), (3, 1), (3, 2), (3, 5), (3, 6), (3, 12)],\n",
              " '4': [(3, 0), (3, 1), (3, 12)]}"
            ]
          },
          "metadata": {},
          "execution_count": 189
        }
      ]
    },
    {
      "cell_type": "code",
      "source": [
        "game.cells[3][5].possibilities"
      ],
      "metadata": {
        "colab": {
          "base_uri": "https://localhost:8080/"
        },
        "id": "GwD5M5qc8V-5",
        "outputId": "421adbfd-1799-451e-81a2-a900947d0e64"
      },
      "execution_count": null,
      "outputs": [
        {
          "output_type": "execute_result",
          "data": {
            "text/plain": [
              "{'1', '2', '6', 'B', 'C'}"
            ]
          },
          "metadata": {},
          "execution_count": 184
        }
      ]
    },
    {
      "cell_type": "code",
      "source": [
        "game.Box(\n",
        "            int(3/4), int(5/4)).values"
      ],
      "metadata": {
        "colab": {
          "base_uri": "https://localhost:8080/"
        },
        "id": "Rovp_j8h8V8C",
        "outputId": "44e5fc9b-f444-4cbf-e1cf-80d79bcbf56d"
      },
      "execution_count": null,
      "outputs": [
        {
          "output_type": "execute_result",
          "data": {
            "text/plain": [
              "{'4', '5', '7', '8', 'A', 'D', 'E', 'G'}"
            ]
          },
          "metadata": {},
          "execution_count": 185
        }
      ]
    },
    {
      "cell_type": "code",
      "source": [
        "int(3/4), int(5/4)"
      ],
      "metadata": {
        "colab": {
          "base_uri": "https://localhost:8080/"
        },
        "id": "-OTlqGae8V5K",
        "outputId": "41092299-f373-41f7-cc53-1b7dc80557f7"
      },
      "execution_count": null,
      "outputs": [
        {
          "output_type": "execute_result",
          "data": {
            "text/plain": [
              "(0, 1)"
            ]
          },
          "metadata": {},
          "execution_count": 186
        }
      ]
    },
    {
      "cell_type": "code",
      "source": [
        "game.Row(3).values"
      ],
      "metadata": {
        "colab": {
          "base_uri": "https://localhost:8080/"
        },
        "id": "W1qzRHhb8V22",
        "outputId": "8a6405d5-98dd-48c2-bd53-9115f28d88a5"
      },
      "execution_count": null,
      "outputs": [
        {
          "output_type": "execute_result",
          "data": {
            "text/plain": [
              "{'5', 'A', 'D', 'E', 'F'}"
            ]
          },
          "metadata": {},
          "execution_count": 187
        }
      ]
    },
    {
      "cell_type": "code",
      "source": [
        "game.Col(5).values"
      ],
      "metadata": {
        "colab": {
          "base_uri": "https://localhost:8080/"
        },
        "id": "3sy3gL3D8V0d",
        "outputId": "ea47d4b5-4a48-46cf-f843-193e1cc00122"
      },
      "execution_count": null,
      "outputs": [
        {
          "output_type": "execute_result",
          "data": {
            "text/plain": [
              "{'3', '5', '7', '9', 'A', 'E', 'G'}"
            ]
          },
          "metadata": {},
          "execution_count": 188
        }
      ]
    },
    {
      "cell_type": "code",
      "source": [],
      "metadata": {
        "id": "EZiakBPP8Vx3"
      },
      "execution_count": null,
      "outputs": []
    },
    {
      "cell_type": "code",
      "source": [],
      "metadata": {
        "id": "3ta5DEHO8Vvx"
      },
      "execution_count": null,
      "outputs": []
    },
    {
      "cell_type": "code",
      "source": [],
      "metadata": {
        "id": "AYmmEw_D8VtL"
      },
      "execution_count": null,
      "outputs": []
    },
    {
      "cell_type": "code",
      "source": [],
      "metadata": {
        "id": "yVFCO6AI8VqD"
      },
      "execution_count": null,
      "outputs": []
    },
    {
      "cell_type": "code",
      "source": [],
      "metadata": {
        "id": "KSU_yyBh8Vm7"
      },
      "execution_count": null,
      "outputs": []
    },
    {
      "cell_type": "code",
      "source": [
        "game.cells[1][8].set_value(\"5\")"
      ],
      "metadata": {
        "id": "whcx55SRpONI"
      },
      "execution_count": null,
      "outputs": []
    },
    {
      "cell_type": "code",
      "source": [
        "game.Box(0, 2).possibility_locations"
      ],
      "metadata": {
        "colab": {
          "base_uri": "https://localhost:8080/"
        },
        "id": "RSyyFOyHjiiN",
        "outputId": "b219cc63-1d17-4e71-e828-3eee5aba7950"
      },
      "execution_count": null,
      "outputs": [
        {
          "output_type": "execute_result",
          "data": {
            "text/plain": [
              "{'A': [(0, 8), (0, 9), (1, 8), (1, 9)],\n",
              " 'D': [(2, 9)],\n",
              " 'C': [(0, 8), (1, 8), (2, 8), (3, 8), (3, 10), (3, 11)],\n",
              " '8': [(0, 8), (0, 9), (2, 8), (2, 9), (3, 8), (3, 9), (3, 10)],\n",
              " 'G': [(0, 8), (0, 9), (1, 8), (1, 9), (3, 8), (3, 9)],\n",
              " '7': [(1, 8), (1, 9), (2, 8), (2, 9), (3, 8), (3, 9), (3, 10), (3, 11)],\n",
              " '5': [(1, 8)],\n",
              " '2': [(0, 8), (3, 8), (3, 10), (3, 11)],\n",
              " '9': [(0, 8), (0, 9), (2, 8), (2, 9), (3, 8), (3, 9), (3, 11)],\n",
              " 'F': [(0, 8), (0, 9), (1, 8), (1, 9), (2, 8), (2, 9)]}"
            ]
          },
          "metadata": {},
          "execution_count": 100
        }
      ]
    },
    {
      "cell_type": "code",
      "source": [
        "game.cells[8][1].possibilities"
      ],
      "metadata": {
        "colab": {
          "base_uri": "https://localhost:8080/"
        },
        "id": "Qz1Vftake-Pg",
        "outputId": "14ae0793-8a77-4d1d-8d21-46da2d90c794"
      },
      "execution_count": null,
      "outputs": [
        {
          "output_type": "execute_result",
          "data": {
            "text/plain": [
              "{'1', '3', '6'}"
            ]
          },
          "metadata": {},
          "execution_count": 78
        }
      ]
    },
    {
      "cell_type": "code",
      "source": [
        "game.Row(0).values_list"
      ],
      "metadata": {
        "colab": {
          "base_uri": "https://localhost:8080/"
        },
        "id": "cT6hb-OEtgcT",
        "outputId": "161df7aa-63fe-4d4a-d7f7-6105d50391a7"
      },
      "execution_count": null,
      "outputs": [
        {
          "output_type": "execute_result",
          "data": {
            "text/plain": [
              "['5', '7', '4', 'E', '6', 'D']"
            ]
          },
          "metadata": {},
          "execution_count": 74
        }
      ]
    },
    {
      "cell_type": "code",
      "source": [
        "game.cells[0][1].possibilities -= game.Row(0).values()"
      ],
      "metadata": {
        "id": "1ZmPrKnktgYn"
      },
      "execution_count": null,
      "outputs": []
    },
    {
      "cell_type": "code",
      "source": [
        "game.cells[0][1].possibilities"
      ],
      "metadata": {
        "colab": {
          "base_uri": "https://localhost:8080/"
        },
        "id": "RrCRIqdHc9VF",
        "outputId": "af67f8b7-6acc-4377-e479-862bf985b533"
      },
      "execution_count": null,
      "outputs": [
        {
          "output_type": "execute_result",
          "data": {
            "text/plain": [
              "{'1', '2', '3', '8', '9', 'A', 'B', 'C', 'F', 'G'}"
            ]
          },
          "metadata": {},
          "execution_count": 53
        }
      ]
    },
    {
      "cell_type": "code",
      "source": [
        "game.cells[0][1].possibilities -= game.Col(1).values()"
      ],
      "metadata": {
        "id": "OWdUoDrqdBWF"
      },
      "execution_count": null,
      "outputs": []
    },
    {
      "cell_type": "code",
      "source": [
        "game.cells[0][1].possibilities"
      ],
      "metadata": {
        "colab": {
          "base_uri": "https://localhost:8080/"
        },
        "id": "EXoPqEfSdA-s",
        "outputId": "c7b13e16-bd5c-433a-d133-540e531bc990"
      },
      "execution_count": null,
      "outputs": [
        {
          "output_type": "execute_result",
          "data": {
            "text/plain": [
              "{'1', '3', 'A', 'B', 'F'}"
            ]
          },
          "metadata": {},
          "execution_count": 55
        }
      ]
    },
    {
      "cell_type": "code",
      "source": [
        "game.cells[0][1].possibilities -= game.Box(0, 0).values()"
      ],
      "metadata": {
        "id": "ACXY8CbotgRV"
      },
      "execution_count": null,
      "outputs": []
    },
    {
      "cell_type": "code",
      "source": [
        "game.cells[0][1].possibilities"
      ],
      "metadata": {
        "colab": {
          "base_uri": "https://localhost:8080/"
        },
        "id": "_9SgCHhUr0kU",
        "outputId": "9e082ebc-018e-48e3-d94b-bc81c35d6f87"
      },
      "execution_count": null,
      "outputs": [
        {
          "output_type": "execute_result",
          "data": {
            "text/plain": [
              "{'1', 'B', 'F'}"
            ]
          },
          "metadata": {},
          "execution_count": 57
        }
      ]
    },
    {
      "cell_type": "code",
      "source": [
        "from math import comb"
      ],
      "metadata": {
        "id": "UJtlaS4LsYoa"
      },
      "execution_count": null,
      "outputs": []
    },
    {
      "cell_type": "code",
      "source": [
        "comb(7,2) + comb(7,3) + comb(7,4) + comb(7,5)"
      ],
      "metadata": {
        "colab": {
          "base_uri": "https://localhost:8080/"
        },
        "id": "kPo8a_KtsaqF",
        "outputId": "15960b3d-327d-4fbc-9d88-0921a0bdf184"
      },
      "execution_count": null,
      "outputs": [
        {
          "output_type": "execute_result",
          "data": {
            "text/plain": [
              "112"
            ]
          },
          "metadata": {},
          "execution_count": 72
        }
      ]
    },
    {
      "cell_type": "code",
      "source": [
        "set([1,3]) == set([3,1])"
      ],
      "metadata": {
        "colab": {
          "base_uri": "https://localhost:8080/"
        },
        "id": "ce4xHUK4r97R",
        "outputId": "a22242e1-4f57-4364-c1de-149782b1fe56"
      },
      "execution_count": null,
      "outputs": [
        {
          "output_type": "execute_result",
          "data": {
            "text/plain": [
              "True"
            ]
          },
          "metadata": {},
          "execution_count": 69
        }
      ]
    },
    {
      "cell_type": "code",
      "source": [
        "my_grid = [[\" \"]*16]*16"
      ],
      "metadata": {
        "id": "YuitXpSdj0F4"
      },
      "execution_count": null,
      "outputs": []
    },
    {
      "cell_type": "code",
      "source": [
        "def display_grid(grid):\n",
        "  for i in range(16):\n",
        "    if i % 4 == 0:\n",
        "      print(\"----------------------------------------\")\n",
        "    row = my_grid[i]\n",
        "    print(\"|\", \",\".join(row[:4]),\n",
        "          \"|\", \",\".join(row[4:8]),\n",
        "          \"|\", \",\".join(row[8:12]),\n",
        "          \"|\", \",\".join(row[12:16]), \"|\")\n",
        "  print(\"----------------------------------------\")"
      ],
      "metadata": {
        "id": "DD8RMGkFj2kg"
      },
      "execution_count": null,
      "outputs": []
    },
    {
      "cell_type": "code",
      "source": [],
      "metadata": {
        "id": "eHhpqIxFj2e_"
      },
      "execution_count": null,
      "outputs": []
    },
    {
      "cell_type": "code",
      "source": [
        "my_grid[0][0] = \"5\"\n",
        "my_grid[0][5] = \"7\"\n",
        "my_grid[0][10:12] = [\"4\", \"E\"]\n",
        "my_grid[0][14:16] = [\"6\", \"D\"]\n"
      ],
      "metadata": {
        "id": "DzXiw6_yiuGQ"
      },
      "execution_count": null,
      "outputs": []
    },
    {
      "cell_type": "code",
      "source": [
        "display_grid(my_grid)"
      ],
      "metadata": {
        "colab": {
          "base_uri": "https://localhost:8080/"
        },
        "id": "G42kzQ6yjoIx",
        "outputId": "84930686-c2e4-419a-efa5-16c126d2af6a"
      },
      "execution_count": null,
      "outputs": [
        {
          "output_type": "stream",
          "name": "stdout",
          "text": [
            "----------------------------------------\n",
            "| 5, , ,  |  ,7, ,  |  , ,4,E |  , , ,  |\n",
            "|  , , ,  |  , , ,  |  , , ,  |  , , ,  |\n",
            "|  , , ,  |  , , ,  |  , , ,  |  , , ,  |\n",
            "|  , , ,  |  , , ,  |  , , ,  |  , , ,  |\n",
            "----------------------------------------\n",
            "|  , , ,  |  , , ,  |  , , ,  |  , , ,  |\n",
            "|  , , ,  |  , , ,  |  , , ,  |  , , ,  |\n",
            "|  , , ,  |  , , ,  |  , , ,  |  , , ,  |\n",
            "|  , , ,  |  , , ,  |  , , ,  |  , , ,  |\n",
            "----------------------------------------\n",
            "|  , , ,  |  , , ,  |  , , ,  |  , , ,  |\n",
            "|  , , ,  |  , , ,  |  , , ,  |  , , ,  |\n",
            "|  , , ,  |  , , ,  |  , , ,  |  , , ,  |\n",
            "|  , , ,  |  , , ,  |  , , ,  |  , , ,  |\n",
            "----------------------------------------\n",
            "|  , , ,  |  , , ,  |  , , ,  |  , , ,  |\n",
            "|  , , ,  |  , , ,  |  , , ,  |  , , ,  |\n",
            "|  , , ,  |  , , ,  |  , , ,  |  , , ,  |\n",
            "|  , , ,  |  , , ,  |  , , ,  |  , , ,  |\n",
            "----------------------------------------\n"
          ]
        }
      ]
    },
    {
      "cell_type": "code",
      "source": [
        "my_grid"
      ],
      "metadata": {
        "colab": {
          "base_uri": "https://localhost:8080/"
        },
        "id": "UNwurCeXjbwD",
        "outputId": "4a020d63-cdb6-49cb-9a2c-70d40c263be1"
      },
      "execution_count": null,
      "outputs": [
        {
          "output_type": "execute_result",
          "data": {
            "text/plain": [
              "[['5',\n",
              "  ' ',\n",
              "  ' ',\n",
              "  ' ',\n",
              "  ' ',\n",
              "  '7',\n",
              "  ' ',\n",
              "  ' ',\n",
              "  ' ',\n",
              "  ' ',\n",
              "  '4',\n",
              "  'E',\n",
              "  ' ',\n",
              "  ' ',\n",
              "  ' ',\n",
              "  ' '],\n",
              " ['5',\n",
              "  ' ',\n",
              "  ' ',\n",
              "  ' ',\n",
              "  ' ',\n",
              "  '7',\n",
              "  ' ',\n",
              "  ' ',\n",
              "  ' ',\n",
              "  ' ',\n",
              "  '4',\n",
              "  'E',\n",
              "  ' ',\n",
              "  ' ',\n",
              "  ' ',\n",
              "  ' '],\n",
              " ['5',\n",
              "  ' ',\n",
              "  ' ',\n",
              "  ' ',\n",
              "  ' ',\n",
              "  '7',\n",
              "  ' ',\n",
              "  ' ',\n",
              "  ' ',\n",
              "  ' ',\n",
              "  '4',\n",
              "  'E',\n",
              "  ' ',\n",
              "  ' ',\n",
              "  ' ',\n",
              "  ' '],\n",
              " ['5',\n",
              "  ' ',\n",
              "  ' ',\n",
              "  ' ',\n",
              "  ' ',\n",
              "  '7',\n",
              "  ' ',\n",
              "  ' ',\n",
              "  ' ',\n",
              "  ' ',\n",
              "  '4',\n",
              "  'E',\n",
              "  ' ',\n",
              "  ' ',\n",
              "  ' ',\n",
              "  ' '],\n",
              " ['5',\n",
              "  ' ',\n",
              "  ' ',\n",
              "  ' ',\n",
              "  ' ',\n",
              "  '7',\n",
              "  ' ',\n",
              "  ' ',\n",
              "  ' ',\n",
              "  ' ',\n",
              "  '4',\n",
              "  'E',\n",
              "  ' ',\n",
              "  ' ',\n",
              "  ' ',\n",
              "  ' '],\n",
              " ['5',\n",
              "  ' ',\n",
              "  ' ',\n",
              "  ' ',\n",
              "  ' ',\n",
              "  '7',\n",
              "  ' ',\n",
              "  ' ',\n",
              "  ' ',\n",
              "  ' ',\n",
              "  '4',\n",
              "  'E',\n",
              "  ' ',\n",
              "  ' ',\n",
              "  ' ',\n",
              "  ' '],\n",
              " ['5',\n",
              "  ' ',\n",
              "  ' ',\n",
              "  ' ',\n",
              "  ' ',\n",
              "  '7',\n",
              "  ' ',\n",
              "  ' ',\n",
              "  ' ',\n",
              "  ' ',\n",
              "  '4',\n",
              "  'E',\n",
              "  ' ',\n",
              "  ' ',\n",
              "  ' ',\n",
              "  ' '],\n",
              " ['5',\n",
              "  ' ',\n",
              "  ' ',\n",
              "  ' ',\n",
              "  ' ',\n",
              "  '7',\n",
              "  ' ',\n",
              "  ' ',\n",
              "  ' ',\n",
              "  ' ',\n",
              "  '4',\n",
              "  'E',\n",
              "  ' ',\n",
              "  ' ',\n",
              "  ' ',\n",
              "  ' '],\n",
              " ['5',\n",
              "  ' ',\n",
              "  ' ',\n",
              "  ' ',\n",
              "  ' ',\n",
              "  '7',\n",
              "  ' ',\n",
              "  ' ',\n",
              "  ' ',\n",
              "  ' ',\n",
              "  '4',\n",
              "  'E',\n",
              "  ' ',\n",
              "  ' ',\n",
              "  ' ',\n",
              "  ' '],\n",
              " ['5',\n",
              "  ' ',\n",
              "  ' ',\n",
              "  ' ',\n",
              "  ' ',\n",
              "  '7',\n",
              "  ' ',\n",
              "  ' ',\n",
              "  ' ',\n",
              "  ' ',\n",
              "  '4',\n",
              "  'E',\n",
              "  ' ',\n",
              "  ' ',\n",
              "  ' ',\n",
              "  ' '],\n",
              " ['5',\n",
              "  ' ',\n",
              "  ' ',\n",
              "  ' ',\n",
              "  ' ',\n",
              "  '7',\n",
              "  ' ',\n",
              "  ' ',\n",
              "  ' ',\n",
              "  ' ',\n",
              "  '4',\n",
              "  'E',\n",
              "  ' ',\n",
              "  ' ',\n",
              "  ' ',\n",
              "  ' '],\n",
              " ['5',\n",
              "  ' ',\n",
              "  ' ',\n",
              "  ' ',\n",
              "  ' ',\n",
              "  '7',\n",
              "  ' ',\n",
              "  ' ',\n",
              "  ' ',\n",
              "  ' ',\n",
              "  '4',\n",
              "  'E',\n",
              "  ' ',\n",
              "  ' ',\n",
              "  ' ',\n",
              "  ' '],\n",
              " ['5',\n",
              "  ' ',\n",
              "  ' ',\n",
              "  ' ',\n",
              "  ' ',\n",
              "  '7',\n",
              "  ' ',\n",
              "  ' ',\n",
              "  ' ',\n",
              "  ' ',\n",
              "  '4',\n",
              "  'E',\n",
              "  ' ',\n",
              "  ' ',\n",
              "  ' ',\n",
              "  ' '],\n",
              " ['5',\n",
              "  ' ',\n",
              "  ' ',\n",
              "  ' ',\n",
              "  ' ',\n",
              "  '7',\n",
              "  ' ',\n",
              "  ' ',\n",
              "  ' ',\n",
              "  ' ',\n",
              "  '4',\n",
              "  'E',\n",
              "  ' ',\n",
              "  ' ',\n",
              "  ' ',\n",
              "  ' '],\n",
              " ['5',\n",
              "  ' ',\n",
              "  ' ',\n",
              "  ' ',\n",
              "  ' ',\n",
              "  '7',\n",
              "  ' ',\n",
              "  ' ',\n",
              "  ' ',\n",
              "  ' ',\n",
              "  '4',\n",
              "  'E',\n",
              "  ' ',\n",
              "  ' ',\n",
              "  ' ',\n",
              "  ' '],\n",
              " ['5',\n",
              "  ' ',\n",
              "  ' ',\n",
              "  ' ',\n",
              "  ' ',\n",
              "  '7',\n",
              "  ' ',\n",
              "  ' ',\n",
              "  ' ',\n",
              "  ' ',\n",
              "  '4',\n",
              "  'E',\n",
              "  ' ',\n",
              "  ' ',\n",
              "  ' ',\n",
              "  ' ']]"
            ]
          },
          "metadata": {},
          "execution_count": 40
        }
      ]
    },
    {
      "cell_type": "code",
      "source": [],
      "metadata": {
        "id": "0lOs96urjcvV"
      },
      "execution_count": null,
      "outputs": []
    }
  ]
}