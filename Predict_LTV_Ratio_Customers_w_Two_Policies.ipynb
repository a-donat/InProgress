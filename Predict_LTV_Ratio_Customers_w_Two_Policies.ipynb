{
  "nbformat": 4,
  "nbformat_minor": 0,
  "metadata": {
    "colab": {
      "provenance": [],
      "collapsed_sections": [
        "5w1xMacJTIWH"
      ],
      "authorship_tag": "ABX9TyNe2iBP6uIWnGjv3gi3uoII",
      "include_colab_link": true
    },
    "kernelspec": {
      "name": "python3",
      "display_name": "Python 3"
    },
    "language_info": {
      "name": "python"
    },
    "widgets": {
      "application/vnd.jupyter.widget-state+json": {
        "82c2f88e6c83426c92cc5815cf8be9a9": {
          "model_module": "@jupyter-widgets/controls",
          "model_name": "HBoxModel",
          "model_module_version": "1.5.0",
          "state": {
            "_dom_classes": [],
            "_model_module": "@jupyter-widgets/controls",
            "_model_module_version": "1.5.0",
            "_model_name": "HBoxModel",
            "_view_count": null,
            "_view_module": "@jupyter-widgets/controls",
            "_view_module_version": "1.5.0",
            "_view_name": "HBoxView",
            "box_style": "",
            "children": [
              "IPY_MODEL_ad84910b398b4a39a7aa809c069a687b",
              "IPY_MODEL_7359a7e41333481397b32a1120d90eed",
              "IPY_MODEL_25d39bc07cce4d369ec52a66a0e9a877"
            ],
            "layout": "IPY_MODEL_7816075c8a694f6fad78e1842ce14f2f"
          }
        },
        "ad84910b398b4a39a7aa809c069a687b": {
          "model_module": "@jupyter-widgets/controls",
          "model_name": "HTMLModel",
          "model_module_version": "1.5.0",
          "state": {
            "_dom_classes": [],
            "_model_module": "@jupyter-widgets/controls",
            "_model_module_version": "1.5.0",
            "_model_name": "HTMLModel",
            "_view_count": null,
            "_view_module": "@jupyter-widgets/controls",
            "_view_module_version": "1.5.0",
            "_view_name": "HTMLView",
            "description": "",
            "description_tooltip": null,
            "layout": "IPY_MODEL_607f57f4faa34694872947d1590f71e5",
            "placeholder": "​",
            "style": "IPY_MODEL_91ac8e99f88049bd8862afaed79c154e",
            "value": "Processing: 100%"
          }
        },
        "7359a7e41333481397b32a1120d90eed": {
          "model_module": "@jupyter-widgets/controls",
          "model_name": "FloatProgressModel",
          "model_module_version": "1.5.0",
          "state": {
            "_dom_classes": [],
            "_model_module": "@jupyter-widgets/controls",
            "_model_module_version": "1.5.0",
            "_model_name": "FloatProgressModel",
            "_view_count": null,
            "_view_module": "@jupyter-widgets/controls",
            "_view_module_version": "1.5.0",
            "_view_name": "ProgressView",
            "bar_style": "",
            "description": "",
            "description_tooltip": null,
            "layout": "IPY_MODEL_ad319b4f33b34e59b681fe47dbf8b559",
            "max": 81,
            "min": 0,
            "orientation": "horizontal",
            "style": "IPY_MODEL_29ebb4a125fe4b788377d21b29229304",
            "value": 81
          }
        },
        "25d39bc07cce4d369ec52a66a0e9a877": {
          "model_module": "@jupyter-widgets/controls",
          "model_name": "HTMLModel",
          "model_module_version": "1.5.0",
          "state": {
            "_dom_classes": [],
            "_model_module": "@jupyter-widgets/controls",
            "_model_module_version": "1.5.0",
            "_model_name": "HTMLModel",
            "_view_count": null,
            "_view_module": "@jupyter-widgets/controls",
            "_view_module_version": "1.5.0",
            "_view_name": "HTMLView",
            "description": "",
            "description_tooltip": null,
            "layout": "IPY_MODEL_a0e7da2ae32541099b58963077f5159e",
            "placeholder": "​",
            "style": "IPY_MODEL_8d02cb0865b2402a9a1897850ca0cf7b",
            "value": " 81/81 [01:06&lt;00:00,  1.29it/s]"
          }
        },
        "7816075c8a694f6fad78e1842ce14f2f": {
          "model_module": "@jupyter-widgets/base",
          "model_name": "LayoutModel",
          "model_module_version": "1.2.0",
          "state": {
            "_model_module": "@jupyter-widgets/base",
            "_model_module_version": "1.2.0",
            "_model_name": "LayoutModel",
            "_view_count": null,
            "_view_module": "@jupyter-widgets/base",
            "_view_module_version": "1.2.0",
            "_view_name": "LayoutView",
            "align_content": null,
            "align_items": null,
            "align_self": null,
            "border": null,
            "bottom": null,
            "display": null,
            "flex": null,
            "flex_flow": null,
            "grid_area": null,
            "grid_auto_columns": null,
            "grid_auto_flow": null,
            "grid_auto_rows": null,
            "grid_column": null,
            "grid_gap": null,
            "grid_row": null,
            "grid_template_areas": null,
            "grid_template_columns": null,
            "grid_template_rows": null,
            "height": null,
            "justify_content": null,
            "justify_items": null,
            "left": null,
            "margin": null,
            "max_height": null,
            "max_width": null,
            "min_height": null,
            "min_width": null,
            "object_fit": null,
            "object_position": null,
            "order": null,
            "overflow": null,
            "overflow_x": null,
            "overflow_y": null,
            "padding": null,
            "right": null,
            "top": null,
            "visibility": "hidden",
            "width": null
          }
        },
        "607f57f4faa34694872947d1590f71e5": {
          "model_module": "@jupyter-widgets/base",
          "model_name": "LayoutModel",
          "model_module_version": "1.2.0",
          "state": {
            "_model_module": "@jupyter-widgets/base",
            "_model_module_version": "1.2.0",
            "_model_name": "LayoutModel",
            "_view_count": null,
            "_view_module": "@jupyter-widgets/base",
            "_view_module_version": "1.2.0",
            "_view_name": "LayoutView",
            "align_content": null,
            "align_items": null,
            "align_self": null,
            "border": null,
            "bottom": null,
            "display": null,
            "flex": null,
            "flex_flow": null,
            "grid_area": null,
            "grid_auto_columns": null,
            "grid_auto_flow": null,
            "grid_auto_rows": null,
            "grid_column": null,
            "grid_gap": null,
            "grid_row": null,
            "grid_template_areas": null,
            "grid_template_columns": null,
            "grid_template_rows": null,
            "height": null,
            "justify_content": null,
            "justify_items": null,
            "left": null,
            "margin": null,
            "max_height": null,
            "max_width": null,
            "min_height": null,
            "min_width": null,
            "object_fit": null,
            "object_position": null,
            "order": null,
            "overflow": null,
            "overflow_x": null,
            "overflow_y": null,
            "padding": null,
            "right": null,
            "top": null,
            "visibility": null,
            "width": null
          }
        },
        "91ac8e99f88049bd8862afaed79c154e": {
          "model_module": "@jupyter-widgets/controls",
          "model_name": "DescriptionStyleModel",
          "model_module_version": "1.5.0",
          "state": {
            "_model_module": "@jupyter-widgets/controls",
            "_model_module_version": "1.5.0",
            "_model_name": "DescriptionStyleModel",
            "_view_count": null,
            "_view_module": "@jupyter-widgets/base",
            "_view_module_version": "1.2.0",
            "_view_name": "StyleView",
            "description_width": ""
          }
        },
        "ad319b4f33b34e59b681fe47dbf8b559": {
          "model_module": "@jupyter-widgets/base",
          "model_name": "LayoutModel",
          "model_module_version": "1.2.0",
          "state": {
            "_model_module": "@jupyter-widgets/base",
            "_model_module_version": "1.2.0",
            "_model_name": "LayoutModel",
            "_view_count": null,
            "_view_module": "@jupyter-widgets/base",
            "_view_module_version": "1.2.0",
            "_view_name": "LayoutView",
            "align_content": null,
            "align_items": null,
            "align_self": null,
            "border": null,
            "bottom": null,
            "display": null,
            "flex": null,
            "flex_flow": null,
            "grid_area": null,
            "grid_auto_columns": null,
            "grid_auto_flow": null,
            "grid_auto_rows": null,
            "grid_column": null,
            "grid_gap": null,
            "grid_row": null,
            "grid_template_areas": null,
            "grid_template_columns": null,
            "grid_template_rows": null,
            "height": null,
            "justify_content": null,
            "justify_items": null,
            "left": null,
            "margin": null,
            "max_height": null,
            "max_width": null,
            "min_height": null,
            "min_width": null,
            "object_fit": null,
            "object_position": null,
            "order": null,
            "overflow": null,
            "overflow_x": null,
            "overflow_y": null,
            "padding": null,
            "right": null,
            "top": null,
            "visibility": null,
            "width": null
          }
        },
        "29ebb4a125fe4b788377d21b29229304": {
          "model_module": "@jupyter-widgets/controls",
          "model_name": "ProgressStyleModel",
          "model_module_version": "1.5.0",
          "state": {
            "_model_module": "@jupyter-widgets/controls",
            "_model_module_version": "1.5.0",
            "_model_name": "ProgressStyleModel",
            "_view_count": null,
            "_view_module": "@jupyter-widgets/base",
            "_view_module_version": "1.2.0",
            "_view_name": "StyleView",
            "bar_color": null,
            "description_width": ""
          }
        },
        "a0e7da2ae32541099b58963077f5159e": {
          "model_module": "@jupyter-widgets/base",
          "model_name": "LayoutModel",
          "model_module_version": "1.2.0",
          "state": {
            "_model_module": "@jupyter-widgets/base",
            "_model_module_version": "1.2.0",
            "_model_name": "LayoutModel",
            "_view_count": null,
            "_view_module": "@jupyter-widgets/base",
            "_view_module_version": "1.2.0",
            "_view_name": "LayoutView",
            "align_content": null,
            "align_items": null,
            "align_self": null,
            "border": null,
            "bottom": null,
            "display": null,
            "flex": null,
            "flex_flow": null,
            "grid_area": null,
            "grid_auto_columns": null,
            "grid_auto_flow": null,
            "grid_auto_rows": null,
            "grid_column": null,
            "grid_gap": null,
            "grid_row": null,
            "grid_template_areas": null,
            "grid_template_columns": null,
            "grid_template_rows": null,
            "height": null,
            "justify_content": null,
            "justify_items": null,
            "left": null,
            "margin": null,
            "max_height": null,
            "max_width": null,
            "min_height": null,
            "min_width": null,
            "object_fit": null,
            "object_position": null,
            "order": null,
            "overflow": null,
            "overflow_x": null,
            "overflow_y": null,
            "padding": null,
            "right": null,
            "top": null,
            "visibility": null,
            "width": null
          }
        },
        "8d02cb0865b2402a9a1897850ca0cf7b": {
          "model_module": "@jupyter-widgets/controls",
          "model_name": "DescriptionStyleModel",
          "model_module_version": "1.5.0",
          "state": {
            "_model_module": "@jupyter-widgets/controls",
            "_model_module_version": "1.5.0",
            "_model_name": "DescriptionStyleModel",
            "_view_count": null,
            "_view_module": "@jupyter-widgets/base",
            "_view_module_version": "1.2.0",
            "_view_name": "StyleView",
            "description_width": ""
          }
        },
        "67309e4643814afaa25cbc36d545da78": {
          "model_module": "@jupyter-widgets/controls",
          "model_name": "HBoxModel",
          "model_module_version": "1.5.0",
          "state": {
            "_dom_classes": [],
            "_model_module": "@jupyter-widgets/controls",
            "_model_module_version": "1.5.0",
            "_model_name": "HBoxModel",
            "_view_count": null,
            "_view_module": "@jupyter-widgets/controls",
            "_view_module_version": "1.5.0",
            "_view_name": "HBoxView",
            "box_style": "",
            "children": [
              "IPY_MODEL_9b0d4eeaf9fb47a4a56941140e64e759",
              "IPY_MODEL_d4c613d14e9342ba8480c49a5ac5dc08",
              "IPY_MODEL_5867dd677c5843ff8af4e8cd1a1f2eaa"
            ],
            "layout": "IPY_MODEL_5f5712206fa94c7bb1816abbb016546b"
          }
        },
        "9b0d4eeaf9fb47a4a56941140e64e759": {
          "model_module": "@jupyter-widgets/controls",
          "model_name": "HTMLModel",
          "model_module_version": "1.5.0",
          "state": {
            "_dom_classes": [],
            "_model_module": "@jupyter-widgets/controls",
            "_model_module_version": "1.5.0",
            "_model_name": "HTMLModel",
            "_view_count": null,
            "_view_module": "@jupyter-widgets/controls",
            "_view_module_version": "1.5.0",
            "_view_name": "HTMLView",
            "description": "",
            "description_tooltip": null,
            "layout": "IPY_MODEL_5c7c5396c5cc48f69cdd7eb4da3e1c98",
            "placeholder": "​",
            "style": "IPY_MODEL_9257170677cb48258c41780f8cc3ac32",
            "value": "Processing: 100%"
          }
        },
        "d4c613d14e9342ba8480c49a5ac5dc08": {
          "model_module": "@jupyter-widgets/controls",
          "model_name": "FloatProgressModel",
          "model_module_version": "1.5.0",
          "state": {
            "_dom_classes": [],
            "_model_module": "@jupyter-widgets/controls",
            "_model_module_version": "1.5.0",
            "_model_name": "FloatProgressModel",
            "_view_count": null,
            "_view_module": "@jupyter-widgets/controls",
            "_view_module_version": "1.5.0",
            "_view_name": "ProgressView",
            "bar_style": "",
            "description": "",
            "description_tooltip": null,
            "layout": "IPY_MODEL_9aa122dc176f48b990f436d5c2663783",
            "max": 4,
            "min": 0,
            "orientation": "horizontal",
            "style": "IPY_MODEL_4176ac72ae8b42b59a01c971980f10ad",
            "value": 4
          }
        },
        "5867dd677c5843ff8af4e8cd1a1f2eaa": {
          "model_module": "@jupyter-widgets/controls",
          "model_name": "HTMLModel",
          "model_module_version": "1.5.0",
          "state": {
            "_dom_classes": [],
            "_model_module": "@jupyter-widgets/controls",
            "_model_module_version": "1.5.0",
            "_model_name": "HTMLModel",
            "_view_count": null,
            "_view_module": "@jupyter-widgets/controls",
            "_view_module_version": "1.5.0",
            "_view_name": "HTMLView",
            "description": "",
            "description_tooltip": null,
            "layout": "IPY_MODEL_22b78a4aca1a42b18ea77f1c9009ec22",
            "placeholder": "​",
            "style": "IPY_MODEL_bcefd5b55d0442b7a252dce1cefcfeb8",
            "value": " 4/4 [00:25&lt;00:00,  5.86s/it]"
          }
        },
        "5f5712206fa94c7bb1816abbb016546b": {
          "model_module": "@jupyter-widgets/base",
          "model_name": "LayoutModel",
          "model_module_version": "1.2.0",
          "state": {
            "_model_module": "@jupyter-widgets/base",
            "_model_module_version": "1.2.0",
            "_model_name": "LayoutModel",
            "_view_count": null,
            "_view_module": "@jupyter-widgets/base",
            "_view_module_version": "1.2.0",
            "_view_name": "LayoutView",
            "align_content": null,
            "align_items": null,
            "align_self": null,
            "border": null,
            "bottom": null,
            "display": null,
            "flex": null,
            "flex_flow": null,
            "grid_area": null,
            "grid_auto_columns": null,
            "grid_auto_flow": null,
            "grid_auto_rows": null,
            "grid_column": null,
            "grid_gap": null,
            "grid_row": null,
            "grid_template_areas": null,
            "grid_template_columns": null,
            "grid_template_rows": null,
            "height": null,
            "justify_content": null,
            "justify_items": null,
            "left": null,
            "margin": null,
            "max_height": null,
            "max_width": null,
            "min_height": null,
            "min_width": null,
            "object_fit": null,
            "object_position": null,
            "order": null,
            "overflow": null,
            "overflow_x": null,
            "overflow_y": null,
            "padding": null,
            "right": null,
            "top": null,
            "visibility": "hidden",
            "width": null
          }
        },
        "5c7c5396c5cc48f69cdd7eb4da3e1c98": {
          "model_module": "@jupyter-widgets/base",
          "model_name": "LayoutModel",
          "model_module_version": "1.2.0",
          "state": {
            "_model_module": "@jupyter-widgets/base",
            "_model_module_version": "1.2.0",
            "_model_name": "LayoutModel",
            "_view_count": null,
            "_view_module": "@jupyter-widgets/base",
            "_view_module_version": "1.2.0",
            "_view_name": "LayoutView",
            "align_content": null,
            "align_items": null,
            "align_self": null,
            "border": null,
            "bottom": null,
            "display": null,
            "flex": null,
            "flex_flow": null,
            "grid_area": null,
            "grid_auto_columns": null,
            "grid_auto_flow": null,
            "grid_auto_rows": null,
            "grid_column": null,
            "grid_gap": null,
            "grid_row": null,
            "grid_template_areas": null,
            "grid_template_columns": null,
            "grid_template_rows": null,
            "height": null,
            "justify_content": null,
            "justify_items": null,
            "left": null,
            "margin": null,
            "max_height": null,
            "max_width": null,
            "min_height": null,
            "min_width": null,
            "object_fit": null,
            "object_position": null,
            "order": null,
            "overflow": null,
            "overflow_x": null,
            "overflow_y": null,
            "padding": null,
            "right": null,
            "top": null,
            "visibility": null,
            "width": null
          }
        },
        "9257170677cb48258c41780f8cc3ac32": {
          "model_module": "@jupyter-widgets/controls",
          "model_name": "DescriptionStyleModel",
          "model_module_version": "1.5.0",
          "state": {
            "_model_module": "@jupyter-widgets/controls",
            "_model_module_version": "1.5.0",
            "_model_name": "DescriptionStyleModel",
            "_view_count": null,
            "_view_module": "@jupyter-widgets/base",
            "_view_module_version": "1.2.0",
            "_view_name": "StyleView",
            "description_width": ""
          }
        },
        "9aa122dc176f48b990f436d5c2663783": {
          "model_module": "@jupyter-widgets/base",
          "model_name": "LayoutModel",
          "model_module_version": "1.2.0",
          "state": {
            "_model_module": "@jupyter-widgets/base",
            "_model_module_version": "1.2.0",
            "_model_name": "LayoutModel",
            "_view_count": null,
            "_view_module": "@jupyter-widgets/base",
            "_view_module_version": "1.2.0",
            "_view_name": "LayoutView",
            "align_content": null,
            "align_items": null,
            "align_self": null,
            "border": null,
            "bottom": null,
            "display": null,
            "flex": null,
            "flex_flow": null,
            "grid_area": null,
            "grid_auto_columns": null,
            "grid_auto_flow": null,
            "grid_auto_rows": null,
            "grid_column": null,
            "grid_gap": null,
            "grid_row": null,
            "grid_template_areas": null,
            "grid_template_columns": null,
            "grid_template_rows": null,
            "height": null,
            "justify_content": null,
            "justify_items": null,
            "left": null,
            "margin": null,
            "max_height": null,
            "max_width": null,
            "min_height": null,
            "min_width": null,
            "object_fit": null,
            "object_position": null,
            "order": null,
            "overflow": null,
            "overflow_x": null,
            "overflow_y": null,
            "padding": null,
            "right": null,
            "top": null,
            "visibility": null,
            "width": null
          }
        },
        "4176ac72ae8b42b59a01c971980f10ad": {
          "model_module": "@jupyter-widgets/controls",
          "model_name": "ProgressStyleModel",
          "model_module_version": "1.5.0",
          "state": {
            "_model_module": "@jupyter-widgets/controls",
            "_model_module_version": "1.5.0",
            "_model_name": "ProgressStyleModel",
            "_view_count": null,
            "_view_module": "@jupyter-widgets/base",
            "_view_module_version": "1.2.0",
            "_view_name": "StyleView",
            "bar_color": null,
            "description_width": ""
          }
        },
        "22b78a4aca1a42b18ea77f1c9009ec22": {
          "model_module": "@jupyter-widgets/base",
          "model_name": "LayoutModel",
          "model_module_version": "1.2.0",
          "state": {
            "_model_module": "@jupyter-widgets/base",
            "_model_module_version": "1.2.0",
            "_model_name": "LayoutModel",
            "_view_count": null,
            "_view_module": "@jupyter-widgets/base",
            "_view_module_version": "1.2.0",
            "_view_name": "LayoutView",
            "align_content": null,
            "align_items": null,
            "align_self": null,
            "border": null,
            "bottom": null,
            "display": null,
            "flex": null,
            "flex_flow": null,
            "grid_area": null,
            "grid_auto_columns": null,
            "grid_auto_flow": null,
            "grid_auto_rows": null,
            "grid_column": null,
            "grid_gap": null,
            "grid_row": null,
            "grid_template_areas": null,
            "grid_template_columns": null,
            "grid_template_rows": null,
            "height": null,
            "justify_content": null,
            "justify_items": null,
            "left": null,
            "margin": null,
            "max_height": null,
            "max_width": null,
            "min_height": null,
            "min_width": null,
            "object_fit": null,
            "object_position": null,
            "order": null,
            "overflow": null,
            "overflow_x": null,
            "overflow_y": null,
            "padding": null,
            "right": null,
            "top": null,
            "visibility": null,
            "width": null
          }
        },
        "bcefd5b55d0442b7a252dce1cefcfeb8": {
          "model_module": "@jupyter-widgets/controls",
          "model_name": "DescriptionStyleModel",
          "model_module_version": "1.5.0",
          "state": {
            "_model_module": "@jupyter-widgets/controls",
            "_model_module_version": "1.5.0",
            "_model_name": "DescriptionStyleModel",
            "_view_count": null,
            "_view_module": "@jupyter-widgets/base",
            "_view_module_version": "1.2.0",
            "_view_name": "StyleView",
            "description_width": ""
          }
        },
        "c0b76807ef694b0f8b617aa924002135": {
          "model_module": "@jupyter-widgets/controls",
          "model_name": "HBoxModel",
          "model_module_version": "1.5.0",
          "state": {
            "_dom_classes": [],
            "_model_module": "@jupyter-widgets/controls",
            "_model_module_version": "1.5.0",
            "_model_name": "HBoxModel",
            "_view_count": null,
            "_view_module": "@jupyter-widgets/controls",
            "_view_module_version": "1.5.0",
            "_view_name": "HBoxView",
            "box_style": "",
            "children": [
              "IPY_MODEL_1a96949d7a134636a7785d71188590f1",
              "IPY_MODEL_f95d361e0b17495aaec4649456212740",
              "IPY_MODEL_8d724b3f8fef494faae82b3c21980c74"
            ],
            "layout": "IPY_MODEL_923d62a605c34cb89fa59be313dbb30e"
          }
        },
        "1a96949d7a134636a7785d71188590f1": {
          "model_module": "@jupyter-widgets/controls",
          "model_name": "HTMLModel",
          "model_module_version": "1.5.0",
          "state": {
            "_dom_classes": [],
            "_model_module": "@jupyter-widgets/controls",
            "_model_module_version": "1.5.0",
            "_model_name": "HTMLModel",
            "_view_count": null,
            "_view_module": "@jupyter-widgets/controls",
            "_view_module_version": "1.5.0",
            "_view_name": "HTMLView",
            "description": "",
            "description_tooltip": null,
            "layout": "IPY_MODEL_424cc4a2367d4b1f92d2b98a915d7a1a",
            "placeholder": "​",
            "style": "IPY_MODEL_fb223f6bc0a9408a8a09c832d2c32de4",
            "value": "Processing: 100%"
          }
        },
        "f95d361e0b17495aaec4649456212740": {
          "model_module": "@jupyter-widgets/controls",
          "model_name": "FloatProgressModel",
          "model_module_version": "1.5.0",
          "state": {
            "_dom_classes": [],
            "_model_module": "@jupyter-widgets/controls",
            "_model_module_version": "1.5.0",
            "_model_name": "FloatProgressModel",
            "_view_count": null,
            "_view_module": "@jupyter-widgets/controls",
            "_view_module_version": "1.5.0",
            "_view_name": "ProgressView",
            "bar_style": "",
            "description": "",
            "description_tooltip": null,
            "layout": "IPY_MODEL_9b2704b7128b47b591e135e3ff2d2196",
            "max": 7,
            "min": 0,
            "orientation": "horizontal",
            "style": "IPY_MODEL_4704567f13ae4609aad1f5cd5e7b6a22",
            "value": 7
          }
        },
        "8d724b3f8fef494faae82b3c21980c74": {
          "model_module": "@jupyter-widgets/controls",
          "model_name": "HTMLModel",
          "model_module_version": "1.5.0",
          "state": {
            "_dom_classes": [],
            "_model_module": "@jupyter-widgets/controls",
            "_model_module_version": "1.5.0",
            "_model_name": "HTMLModel",
            "_view_count": null,
            "_view_module": "@jupyter-widgets/controls",
            "_view_module_version": "1.5.0",
            "_view_name": "HTMLView",
            "description": "",
            "description_tooltip": null,
            "layout": "IPY_MODEL_77d294af029f4422adffe113060091bd",
            "placeholder": "​",
            "style": "IPY_MODEL_869247db0bc04986af3e12dafce312ed",
            "value": " 7/7 [01:07&lt;00:00,  7.63s/it]"
          }
        },
        "923d62a605c34cb89fa59be313dbb30e": {
          "model_module": "@jupyter-widgets/base",
          "model_name": "LayoutModel",
          "model_module_version": "1.2.0",
          "state": {
            "_model_module": "@jupyter-widgets/base",
            "_model_module_version": "1.2.0",
            "_model_name": "LayoutModel",
            "_view_count": null,
            "_view_module": "@jupyter-widgets/base",
            "_view_module_version": "1.2.0",
            "_view_name": "LayoutView",
            "align_content": null,
            "align_items": null,
            "align_self": null,
            "border": null,
            "bottom": null,
            "display": null,
            "flex": null,
            "flex_flow": null,
            "grid_area": null,
            "grid_auto_columns": null,
            "grid_auto_flow": null,
            "grid_auto_rows": null,
            "grid_column": null,
            "grid_gap": null,
            "grid_row": null,
            "grid_template_areas": null,
            "grid_template_columns": null,
            "grid_template_rows": null,
            "height": null,
            "justify_content": null,
            "justify_items": null,
            "left": null,
            "margin": null,
            "max_height": null,
            "max_width": null,
            "min_height": null,
            "min_width": null,
            "object_fit": null,
            "object_position": null,
            "order": null,
            "overflow": null,
            "overflow_x": null,
            "overflow_y": null,
            "padding": null,
            "right": null,
            "top": null,
            "visibility": "hidden",
            "width": null
          }
        },
        "424cc4a2367d4b1f92d2b98a915d7a1a": {
          "model_module": "@jupyter-widgets/base",
          "model_name": "LayoutModel",
          "model_module_version": "1.2.0",
          "state": {
            "_model_module": "@jupyter-widgets/base",
            "_model_module_version": "1.2.0",
            "_model_name": "LayoutModel",
            "_view_count": null,
            "_view_module": "@jupyter-widgets/base",
            "_view_module_version": "1.2.0",
            "_view_name": "LayoutView",
            "align_content": null,
            "align_items": null,
            "align_self": null,
            "border": null,
            "bottom": null,
            "display": null,
            "flex": null,
            "flex_flow": null,
            "grid_area": null,
            "grid_auto_columns": null,
            "grid_auto_flow": null,
            "grid_auto_rows": null,
            "grid_column": null,
            "grid_gap": null,
            "grid_row": null,
            "grid_template_areas": null,
            "grid_template_columns": null,
            "grid_template_rows": null,
            "height": null,
            "justify_content": null,
            "justify_items": null,
            "left": null,
            "margin": null,
            "max_height": null,
            "max_width": null,
            "min_height": null,
            "min_width": null,
            "object_fit": null,
            "object_position": null,
            "order": null,
            "overflow": null,
            "overflow_x": null,
            "overflow_y": null,
            "padding": null,
            "right": null,
            "top": null,
            "visibility": null,
            "width": null
          }
        },
        "fb223f6bc0a9408a8a09c832d2c32de4": {
          "model_module": "@jupyter-widgets/controls",
          "model_name": "DescriptionStyleModel",
          "model_module_version": "1.5.0",
          "state": {
            "_model_module": "@jupyter-widgets/controls",
            "_model_module_version": "1.5.0",
            "_model_name": "DescriptionStyleModel",
            "_view_count": null,
            "_view_module": "@jupyter-widgets/base",
            "_view_module_version": "1.2.0",
            "_view_name": "StyleView",
            "description_width": ""
          }
        },
        "9b2704b7128b47b591e135e3ff2d2196": {
          "model_module": "@jupyter-widgets/base",
          "model_name": "LayoutModel",
          "model_module_version": "1.2.0",
          "state": {
            "_model_module": "@jupyter-widgets/base",
            "_model_module_version": "1.2.0",
            "_model_name": "LayoutModel",
            "_view_count": null,
            "_view_module": "@jupyter-widgets/base",
            "_view_module_version": "1.2.0",
            "_view_name": "LayoutView",
            "align_content": null,
            "align_items": null,
            "align_self": null,
            "border": null,
            "bottom": null,
            "display": null,
            "flex": null,
            "flex_flow": null,
            "grid_area": null,
            "grid_auto_columns": null,
            "grid_auto_flow": null,
            "grid_auto_rows": null,
            "grid_column": null,
            "grid_gap": null,
            "grid_row": null,
            "grid_template_areas": null,
            "grid_template_columns": null,
            "grid_template_rows": null,
            "height": null,
            "justify_content": null,
            "justify_items": null,
            "left": null,
            "margin": null,
            "max_height": null,
            "max_width": null,
            "min_height": null,
            "min_width": null,
            "object_fit": null,
            "object_position": null,
            "order": null,
            "overflow": null,
            "overflow_x": null,
            "overflow_y": null,
            "padding": null,
            "right": null,
            "top": null,
            "visibility": null,
            "width": null
          }
        },
        "4704567f13ae4609aad1f5cd5e7b6a22": {
          "model_module": "@jupyter-widgets/controls",
          "model_name": "ProgressStyleModel",
          "model_module_version": "1.5.0",
          "state": {
            "_model_module": "@jupyter-widgets/controls",
            "_model_module_version": "1.5.0",
            "_model_name": "ProgressStyleModel",
            "_view_count": null,
            "_view_module": "@jupyter-widgets/base",
            "_view_module_version": "1.2.0",
            "_view_name": "StyleView",
            "bar_color": null,
            "description_width": ""
          }
        },
        "77d294af029f4422adffe113060091bd": {
          "model_module": "@jupyter-widgets/base",
          "model_name": "LayoutModel",
          "model_module_version": "1.2.0",
          "state": {
            "_model_module": "@jupyter-widgets/base",
            "_model_module_version": "1.2.0",
            "_model_name": "LayoutModel",
            "_view_count": null,
            "_view_module": "@jupyter-widgets/base",
            "_view_module_version": "1.2.0",
            "_view_name": "LayoutView",
            "align_content": null,
            "align_items": null,
            "align_self": null,
            "border": null,
            "bottom": null,
            "display": null,
            "flex": null,
            "flex_flow": null,
            "grid_area": null,
            "grid_auto_columns": null,
            "grid_auto_flow": null,
            "grid_auto_rows": null,
            "grid_column": null,
            "grid_gap": null,
            "grid_row": null,
            "grid_template_areas": null,
            "grid_template_columns": null,
            "grid_template_rows": null,
            "height": null,
            "justify_content": null,
            "justify_items": null,
            "left": null,
            "margin": null,
            "max_height": null,
            "max_width": null,
            "min_height": null,
            "min_width": null,
            "object_fit": null,
            "object_position": null,
            "order": null,
            "overflow": null,
            "overflow_x": null,
            "overflow_y": null,
            "padding": null,
            "right": null,
            "top": null,
            "visibility": null,
            "width": null
          }
        },
        "869247db0bc04986af3e12dafce312ed": {
          "model_module": "@jupyter-widgets/controls",
          "model_name": "DescriptionStyleModel",
          "model_module_version": "1.5.0",
          "state": {
            "_model_module": "@jupyter-widgets/controls",
            "_model_module_version": "1.5.0",
            "_model_name": "DescriptionStyleModel",
            "_view_count": null,
            "_view_module": "@jupyter-widgets/base",
            "_view_module_version": "1.2.0",
            "_view_name": "StyleView",
            "description_width": ""
          }
        }
      }
    }
  },
  "cells": [
    {
      "cell_type": "markdown",
      "metadata": {
        "id": "view-in-github",
        "colab_type": "text"
      },
      "source": [
        "<a href=\"https://colab.research.google.com/github/a-donat/InProgress/blob/main/Predict_LTV_Ratio_Customers_w_Two_Policies.ipynb\" target=\"_parent\"><img src=\"https://colab.research.google.com/assets/colab-badge.svg\" alt=\"Open In Colab\"/></a>"
      ]
    },
    {
      "cell_type": "markdown",
      "source": [
        "# I. Load Libraries and Download Data"
      ],
      "metadata": {
        "id": "5w1xMacJTIWH"
      }
    },
    {
      "cell_type": "code",
      "execution_count": null,
      "metadata": {
        "id": "uSxD7n_qS0qP"
      },
      "outputs": [],
      "source": [
        "! pip install kaggle\n",
        "! mkdir ~/.kaggle\n",
        "! cp kaggle.json ~/.kaggle/\n",
        "! chmod 600 ~/.kaggle/kaggle.json\n",
        "! kaggle datasets download -d ranja7/vehicle-insurance-customer-data\n",
        "! unzip '/content/vehicle-insurance-customer-data.zip' -d '/content/data'"
      ]
    },
    {
      "cell_type": "code",
      "source": [
        "! pip install mlinsights\n",
        "! unzip '/content/Relationships' -d '/content/'"
      ],
      "metadata": {
        "id": "ZfNNgtkQTMry"
      },
      "execution_count": null,
      "outputs": []
    },
    {
      "cell_type": "code",
      "source": [
        "! pip install pycaret"
      ],
      "metadata": {
        "id": "ueSJpPwVXYKj"
      },
      "execution_count": null,
      "outputs": []
    },
    {
      "cell_type": "code",
      "source": [
        "! pip uninstall scipy -y\n",
        "! pip install scipy\n",
        "! pip uninstall yellowbrick -y\n",
        "! pip install yellowbrick"
      ],
      "metadata": {
        "id": "9ATGL6jniuk8"
      },
      "execution_count": null,
      "outputs": []
    },
    {
      "cell_type": "code",
      "source": [
        "import pandas as pd\n",
        "import numpy as np\n",
        "import matplotlib.pyplot as plt\n",
        "import re\n",
        "import os\n",
        "import sys\n",
        "import importlib\n",
        "from typing import *\n",
        "from sklearn.model_selection import train_test_split"
      ],
      "metadata": {
        "id": "BiFFN__YTTg8"
      },
      "execution_count": 5,
      "outputs": []
    },
    {
      "cell_type": "code",
      "source": [
        "from pycaret.regression import *"
      ],
      "metadata": {
        "id": "g7EXWUozYXr8"
      },
      "execution_count": 6,
      "outputs": []
    },
    {
      "cell_type": "markdown",
      "source": [
        "# II. Data Preprocessing"
      ],
      "metadata": {
        "id": "dHLnM3JITefD"
      }
    },
    {
      "cell_type": "code",
      "source": [
        "ltv_df = pd.read_csv(\"/content/data/AutoInsurance.csv\")"
      ],
      "metadata": {
        "id": "nhS8R2tUThOx"
      },
      "execution_count": 19,
      "outputs": []
    },
    {
      "cell_type": "code",
      "source": [
        "ltv_df.info()"
      ],
      "metadata": {
        "colab": {
          "base_uri": "https://localhost:8080/"
        },
        "id": "mlqDQFPeTmmT",
        "outputId": "10a0b1b9-e1a4-4003-a55e-9832fe72c4be"
      },
      "execution_count": 20,
      "outputs": [
        {
          "output_type": "stream",
          "name": "stdout",
          "text": [
            "<class 'pandas.core.frame.DataFrame'>\n",
            "RangeIndex: 9134 entries, 0 to 9133\n",
            "Data columns (total 24 columns):\n",
            " #   Column                         Non-Null Count  Dtype  \n",
            "---  ------                         --------------  -----  \n",
            " 0   Customer                       9134 non-null   object \n",
            " 1   State                          9134 non-null   object \n",
            " 2   Customer Lifetime Value        9134 non-null   float64\n",
            " 3   Response                       9134 non-null   object \n",
            " 4   Coverage                       9134 non-null   object \n",
            " 5   Education                      9134 non-null   object \n",
            " 6   Effective To Date              9134 non-null   object \n",
            " 7   EmploymentStatus               9134 non-null   object \n",
            " 8   Gender                         9134 non-null   object \n",
            " 9   Income                         9134 non-null   int64  \n",
            " 10  Location Code                  9134 non-null   object \n",
            " 11  Marital Status                 9134 non-null   object \n",
            " 12  Monthly Premium Auto           9134 non-null   int64  \n",
            " 13  Months Since Last Claim        9134 non-null   int64  \n",
            " 14  Months Since Policy Inception  9134 non-null   int64  \n",
            " 15  Number of Open Complaints      9134 non-null   int64  \n",
            " 16  Number of Policies             9134 non-null   int64  \n",
            " 17  Policy Type                    9134 non-null   object \n",
            " 18  Policy                         9134 non-null   object \n",
            " 19  Renew Offer Type               9134 non-null   object \n",
            " 20  Sales Channel                  9134 non-null   object \n",
            " 21  Total Claim Amount             9134 non-null   float64\n",
            " 22  Vehicle Class                  9134 non-null   object \n",
            " 23  Vehicle Size                   9134 non-null   object \n",
            "dtypes: float64(2), int64(6), object(16)\n",
            "memory usage: 1.7+ MB\n"
          ]
        }
      ]
    },
    {
      "cell_type": "code",
      "source": [
        "ltv_df[\"ltv_mpa_ratio\"] = (\n",
        "  ltv_df[\"Customer Lifetime Value\"] - 600)/(\n",
        "      ltv_df[\"Monthly Premium Auto\"])"
      ],
      "metadata": {
        "id": "VkL6-79wR70G"
      },
      "execution_count": 21,
      "outputs": []
    },
    {
      "cell_type": "code",
      "source": [
        "ltv_df[\"Effective To Date\"] = pd.to_datetime(ltv_df[\"Effective To Date\"])\n",
        "ltv_df[\"Effective To Date\"] = (\n",
        "    ltv_df[\"Effective To Date\"] - ltv_df[\"Effective To Date\"].min()).dt.days\n",
        "ltv_df[\"Policy Level\"] = ltv_df[\"Policy\"].str.split(\"\\s+\", expand=True)[1]"
      ],
      "metadata": {
        "id": "2_QfkIetTsAv"
      },
      "execution_count": 22,
      "outputs": []
    },
    {
      "cell_type": "code",
      "source": [
        "ltv_df[\"vehicle class group\"] = ltv_df[\"Vehicle Class\"].map({\n",
        "    \"Two-Door Car\": \"A\", \"Sports Car\": \"B\", \"Four-Door Car\": \"A\", \"SUV\": \"B\",\n",
        "    \"Luxury SUV\": \"C\", \"Luxury Car\": \"C\"})"
      ],
      "metadata": {
        "id": "XhpHdQg_UIaE"
      },
      "execution_count": 23,
      "outputs": []
    },
    {
      "cell_type": "code",
      "source": [
        "ltv_train, ltv_test = train_test_split(ltv_df, test_size=.15, random_state=1)"
      ],
      "metadata": {
        "id": "aUrJSQ6wT4TF"
      },
      "execution_count": 24,
      "outputs": []
    },
    {
      "cell_type": "code",
      "source": [
        "del ltv_df"
      ],
      "metadata": {
        "id": "01jyXhjJV0gQ"
      },
      "execution_count": 25,
      "outputs": []
    },
    {
      "cell_type": "code",
      "source": [
        "ltv_train = ltv_train[ltv_train[\"Number of Policies\"] == 2].copy()\n",
        "ltv_test = ltv_test[ltv_test[\"Number of Policies\"] == 2].copy()\n"
      ],
      "metadata": {
        "id": "9sc0Yg3oV48n"
      },
      "execution_count": 26,
      "outputs": []
    },
    {
      "cell_type": "code",
      "source": [
        "print(ltv_train.shape)\n",
        "print(ltv_test.shape)"
      ],
      "metadata": {
        "colab": {
          "base_uri": "https://localhost:8080/"
        },
        "id": "Q2j7-3FbV7eE",
        "outputId": "366ece59-96ae-4800-ddb2-e52f3b6b6db3"
      },
      "execution_count": 14,
      "outputs": [
        {
          "output_type": "stream",
          "name": "stdout",
          "text": [
            "(1948, 26)\n",
            "(346, 26)\n"
          ]
        }
      ]
    },
    {
      "cell_type": "markdown",
      "source": [
        "# III. Machine Learning Models"
      ],
      "metadata": {
        "id": "on7NKCFWZPrw"
      }
    },
    {
      "cell_type": "code",
      "source": [
        "ltv_models = setup(\n",
        "    data=ltv_train, target = \"ltv_mpa_ratio\",\n",
        "    ignore_features=[\n",
        "        \"Customer\", \"Number of Policies\", \"Customer Lifetime Value\"],\n",
        "    session_id=123)\n"
      ],
      "metadata": {
        "colab": {
          "base_uri": "https://localhost:8080/",
          "height": 801
        },
        "id": "ER2jaYoYZUxQ",
        "outputId": "73dad666-942b-4aa9-ba00-9e1ecdfd0e1a"
      },
      "execution_count": 27,
      "outputs": [
        {
          "output_type": "display_data",
          "data": {
            "text/plain": [
              "<pandas.io.formats.style.Styler at 0x7f4a5b257df0>"
            ],
            "text/html": [
              "<style type=\"text/css\">\n",
              "#T_54ff6_row11_col1 {\n",
              "  background-color: lightgreen;\n",
              "}\n",
              "</style>\n",
              "<table id=\"T_54ff6\" class=\"dataframe\">\n",
              "  <thead>\n",
              "    <tr>\n",
              "      <th class=\"blank level0\" >&nbsp;</th>\n",
              "      <th id=\"T_54ff6_level0_col0\" class=\"col_heading level0 col0\" >Description</th>\n",
              "      <th id=\"T_54ff6_level0_col1\" class=\"col_heading level0 col1\" >Value</th>\n",
              "    </tr>\n",
              "  </thead>\n",
              "  <tbody>\n",
              "    <tr>\n",
              "      <th id=\"T_54ff6_level0_row0\" class=\"row_heading level0 row0\" >0</th>\n",
              "      <td id=\"T_54ff6_row0_col0\" class=\"data row0 col0\" >Session id</td>\n",
              "      <td id=\"T_54ff6_row0_col1\" class=\"data row0 col1\" >123</td>\n",
              "    </tr>\n",
              "    <tr>\n",
              "      <th id=\"T_54ff6_level0_row1\" class=\"row_heading level0 row1\" >1</th>\n",
              "      <td id=\"T_54ff6_row1_col0\" class=\"data row1 col0\" >Target</td>\n",
              "      <td id=\"T_54ff6_row1_col1\" class=\"data row1 col1\" >ltv_mpa_ratio</td>\n",
              "    </tr>\n",
              "    <tr>\n",
              "      <th id=\"T_54ff6_level0_row2\" class=\"row_heading level0 row2\" >2</th>\n",
              "      <td id=\"T_54ff6_row2_col0\" class=\"data row2 col0\" >Target type</td>\n",
              "      <td id=\"T_54ff6_row2_col1\" class=\"data row2 col1\" >Regression</td>\n",
              "    </tr>\n",
              "    <tr>\n",
              "      <th id=\"T_54ff6_level0_row3\" class=\"row_heading level0 row3\" >3</th>\n",
              "      <td id=\"T_54ff6_row3_col0\" class=\"data row3 col0\" >Original data shape</td>\n",
              "      <td id=\"T_54ff6_row3_col1\" class=\"data row3 col1\" >(1948, 27)</td>\n",
              "    </tr>\n",
              "    <tr>\n",
              "      <th id=\"T_54ff6_level0_row4\" class=\"row_heading level0 row4\" >4</th>\n",
              "      <td id=\"T_54ff6_row4_col0\" class=\"data row4 col0\" >Transformed data shape</td>\n",
              "      <td id=\"T_54ff6_row4_col1\" class=\"data row4 col1\" >(1948, 69)</td>\n",
              "    </tr>\n",
              "    <tr>\n",
              "      <th id=\"T_54ff6_level0_row5\" class=\"row_heading level0 row5\" >5</th>\n",
              "      <td id=\"T_54ff6_row5_col0\" class=\"data row5 col0\" >Transformed train set shape</td>\n",
              "      <td id=\"T_54ff6_row5_col1\" class=\"data row5 col1\" >(1363, 69)</td>\n",
              "    </tr>\n",
              "    <tr>\n",
              "      <th id=\"T_54ff6_level0_row6\" class=\"row_heading level0 row6\" >6</th>\n",
              "      <td id=\"T_54ff6_row6_col0\" class=\"data row6 col0\" >Transformed test set shape</td>\n",
              "      <td id=\"T_54ff6_row6_col1\" class=\"data row6 col1\" >(585, 69)</td>\n",
              "    </tr>\n",
              "    <tr>\n",
              "      <th id=\"T_54ff6_level0_row7\" class=\"row_heading level0 row7\" >7</th>\n",
              "      <td id=\"T_54ff6_row7_col0\" class=\"data row7 col0\" >Ignore features</td>\n",
              "      <td id=\"T_54ff6_row7_col1\" class=\"data row7 col1\" >3</td>\n",
              "    </tr>\n",
              "    <tr>\n",
              "      <th id=\"T_54ff6_level0_row8\" class=\"row_heading level0 row8\" >8</th>\n",
              "      <td id=\"T_54ff6_row8_col0\" class=\"data row8 col0\" >Ordinal features</td>\n",
              "      <td id=\"T_54ff6_row8_col1\" class=\"data row8 col1\" >2</td>\n",
              "    </tr>\n",
              "    <tr>\n",
              "      <th id=\"T_54ff6_level0_row9\" class=\"row_heading level0 row9\" >9</th>\n",
              "      <td id=\"T_54ff6_row9_col0\" class=\"data row9 col0\" >Numeric features</td>\n",
              "      <td id=\"T_54ff6_row9_col1\" class=\"data row9 col1\" >7</td>\n",
              "    </tr>\n",
              "    <tr>\n",
              "      <th id=\"T_54ff6_level0_row10\" class=\"row_heading level0 row10\" >10</th>\n",
              "      <td id=\"T_54ff6_row10_col0\" class=\"data row10 col0\" >Categorical features</td>\n",
              "      <td id=\"T_54ff6_row10_col1\" class=\"data row10 col1\" >16</td>\n",
              "    </tr>\n",
              "    <tr>\n",
              "      <th id=\"T_54ff6_level0_row11\" class=\"row_heading level0 row11\" >11</th>\n",
              "      <td id=\"T_54ff6_row11_col0\" class=\"data row11 col0\" >Preprocess</td>\n",
              "      <td id=\"T_54ff6_row11_col1\" class=\"data row11 col1\" >True</td>\n",
              "    </tr>\n",
              "    <tr>\n",
              "      <th id=\"T_54ff6_level0_row12\" class=\"row_heading level0 row12\" >12</th>\n",
              "      <td id=\"T_54ff6_row12_col0\" class=\"data row12 col0\" >Imputation type</td>\n",
              "      <td id=\"T_54ff6_row12_col1\" class=\"data row12 col1\" >simple</td>\n",
              "    </tr>\n",
              "    <tr>\n",
              "      <th id=\"T_54ff6_level0_row13\" class=\"row_heading level0 row13\" >13</th>\n",
              "      <td id=\"T_54ff6_row13_col0\" class=\"data row13 col0\" >Numeric imputation</td>\n",
              "      <td id=\"T_54ff6_row13_col1\" class=\"data row13 col1\" >mean</td>\n",
              "    </tr>\n",
              "    <tr>\n",
              "      <th id=\"T_54ff6_level0_row14\" class=\"row_heading level0 row14\" >14</th>\n",
              "      <td id=\"T_54ff6_row14_col0\" class=\"data row14 col0\" >Categorical imputation</td>\n",
              "      <td id=\"T_54ff6_row14_col1\" class=\"data row14 col1\" >mode</td>\n",
              "    </tr>\n",
              "    <tr>\n",
              "      <th id=\"T_54ff6_level0_row15\" class=\"row_heading level0 row15\" >15</th>\n",
              "      <td id=\"T_54ff6_row15_col0\" class=\"data row15 col0\" >Maximum one-hot encoding</td>\n",
              "      <td id=\"T_54ff6_row15_col1\" class=\"data row15 col1\" >25</td>\n",
              "    </tr>\n",
              "    <tr>\n",
              "      <th id=\"T_54ff6_level0_row16\" class=\"row_heading level0 row16\" >16</th>\n",
              "      <td id=\"T_54ff6_row16_col0\" class=\"data row16 col0\" >Encoding method</td>\n",
              "      <td id=\"T_54ff6_row16_col1\" class=\"data row16 col1\" >None</td>\n",
              "    </tr>\n",
              "    <tr>\n",
              "      <th id=\"T_54ff6_level0_row17\" class=\"row_heading level0 row17\" >17</th>\n",
              "      <td id=\"T_54ff6_row17_col0\" class=\"data row17 col0\" >Fold Generator</td>\n",
              "      <td id=\"T_54ff6_row17_col1\" class=\"data row17 col1\" >KFold</td>\n",
              "    </tr>\n",
              "    <tr>\n",
              "      <th id=\"T_54ff6_level0_row18\" class=\"row_heading level0 row18\" >18</th>\n",
              "      <td id=\"T_54ff6_row18_col0\" class=\"data row18 col0\" >Fold Number</td>\n",
              "      <td id=\"T_54ff6_row18_col1\" class=\"data row18 col1\" >10</td>\n",
              "    </tr>\n",
              "    <tr>\n",
              "      <th id=\"T_54ff6_level0_row19\" class=\"row_heading level0 row19\" >19</th>\n",
              "      <td id=\"T_54ff6_row19_col0\" class=\"data row19 col0\" >CPU Jobs</td>\n",
              "      <td id=\"T_54ff6_row19_col1\" class=\"data row19 col1\" >-1</td>\n",
              "    </tr>\n",
              "    <tr>\n",
              "      <th id=\"T_54ff6_level0_row20\" class=\"row_heading level0 row20\" >20</th>\n",
              "      <td id=\"T_54ff6_row20_col0\" class=\"data row20 col0\" >Use GPU</td>\n",
              "      <td id=\"T_54ff6_row20_col1\" class=\"data row20 col1\" >False</td>\n",
              "    </tr>\n",
              "    <tr>\n",
              "      <th id=\"T_54ff6_level0_row21\" class=\"row_heading level0 row21\" >21</th>\n",
              "      <td id=\"T_54ff6_row21_col0\" class=\"data row21 col0\" >Log Experiment</td>\n",
              "      <td id=\"T_54ff6_row21_col1\" class=\"data row21 col1\" >False</td>\n",
              "    </tr>\n",
              "    <tr>\n",
              "      <th id=\"T_54ff6_level0_row22\" class=\"row_heading level0 row22\" >22</th>\n",
              "      <td id=\"T_54ff6_row22_col0\" class=\"data row22 col0\" >Experiment Name</td>\n",
              "      <td id=\"T_54ff6_row22_col1\" class=\"data row22 col1\" >reg-default-name</td>\n",
              "    </tr>\n",
              "    <tr>\n",
              "      <th id=\"T_54ff6_level0_row23\" class=\"row_heading level0 row23\" >23</th>\n",
              "      <td id=\"T_54ff6_row23_col0\" class=\"data row23 col0\" >USI</td>\n",
              "      <td id=\"T_54ff6_row23_col1\" class=\"data row23 col1\" >7e12</td>\n",
              "    </tr>\n",
              "  </tbody>\n",
              "</table>\n"
            ]
          },
          "metadata": {}
        }
      ]
    },
    {
      "cell_type": "code",
      "source": [
        "best_model = compare_models(fold=5)"
      ],
      "metadata": {
        "colab": {
          "base_uri": "https://localhost:8080/",
          "height": 613,
          "referenced_widgets": [
            "82c2f88e6c83426c92cc5815cf8be9a9",
            "ad84910b398b4a39a7aa809c069a687b",
            "7359a7e41333481397b32a1120d90eed",
            "25d39bc07cce4d369ec52a66a0e9a877",
            "7816075c8a694f6fad78e1842ce14f2f",
            "607f57f4faa34694872947d1590f71e5",
            "91ac8e99f88049bd8862afaed79c154e",
            "ad319b4f33b34e59b681fe47dbf8b559",
            "29ebb4a125fe4b788377d21b29229304",
            "a0e7da2ae32541099b58963077f5159e",
            "8d02cb0865b2402a9a1897850ca0cf7b"
          ]
        },
        "id": "crrM05lVcdRG",
        "outputId": "e2d42515-ef40-46e1-b883-cf64fc795e69"
      },
      "execution_count": 28,
      "outputs": [
        {
          "output_type": "display_data",
          "data": {
            "text/plain": [
              "<IPython.core.display.HTML object>"
            ],
            "text/html": []
          },
          "metadata": {}
        },
        {
          "output_type": "display_data",
          "data": {
            "text/plain": [
              "<pandas.io.formats.style.Styler at 0x7f4a9a842ad0>"
            ],
            "text/html": [
              "<style type=\"text/css\">\n",
              "#T_927e2 th {\n",
              "  text-align: left;\n",
              "}\n",
              "#T_927e2_row0_col0, #T_927e2_row0_col1, #T_927e2_row0_col6, #T_927e2_row1_col0, #T_927e2_row1_col1, #T_927e2_row1_col2, #T_927e2_row1_col3, #T_927e2_row1_col4, #T_927e2_row1_col5, #T_927e2_row1_col6, #T_927e2_row2_col0, #T_927e2_row2_col1, #T_927e2_row2_col2, #T_927e2_row2_col3, #T_927e2_row2_col4, #T_927e2_row2_col5, #T_927e2_row2_col6, #T_927e2_row3_col0, #T_927e2_row3_col1, #T_927e2_row3_col2, #T_927e2_row3_col3, #T_927e2_row3_col4, #T_927e2_row3_col5, #T_927e2_row3_col6, #T_927e2_row4_col0, #T_927e2_row4_col1, #T_927e2_row4_col2, #T_927e2_row4_col3, #T_927e2_row4_col4, #T_927e2_row4_col5, #T_927e2_row4_col6, #T_927e2_row5_col0, #T_927e2_row5_col1, #T_927e2_row5_col2, #T_927e2_row5_col3, #T_927e2_row5_col4, #T_927e2_row5_col5, #T_927e2_row5_col6, #T_927e2_row6_col0, #T_927e2_row6_col1, #T_927e2_row6_col2, #T_927e2_row6_col3, #T_927e2_row6_col4, #T_927e2_row6_col5, #T_927e2_row6_col6, #T_927e2_row7_col0, #T_927e2_row7_col1, #T_927e2_row7_col2, #T_927e2_row7_col3, #T_927e2_row7_col4, #T_927e2_row7_col5, #T_927e2_row7_col6, #T_927e2_row8_col0, #T_927e2_row8_col1, #T_927e2_row8_col2, #T_927e2_row8_col3, #T_927e2_row8_col4, #T_927e2_row8_col5, #T_927e2_row8_col6, #T_927e2_row9_col0, #T_927e2_row9_col1, #T_927e2_row9_col2, #T_927e2_row9_col3, #T_927e2_row9_col4, #T_927e2_row9_col5, #T_927e2_row9_col6, #T_927e2_row10_col0, #T_927e2_row10_col2, #T_927e2_row10_col3, #T_927e2_row10_col4, #T_927e2_row10_col5, #T_927e2_row10_col6, #T_927e2_row11_col0, #T_927e2_row11_col1, #T_927e2_row11_col2, #T_927e2_row11_col3, #T_927e2_row11_col4, #T_927e2_row11_col5, #T_927e2_row11_col6, #T_927e2_row12_col0, #T_927e2_row12_col1, #T_927e2_row12_col2, #T_927e2_row12_col3, #T_927e2_row12_col4, #T_927e2_row12_col5, #T_927e2_row12_col6, #T_927e2_row13_col0, #T_927e2_row13_col1, #T_927e2_row13_col2, #T_927e2_row13_col3, #T_927e2_row13_col4, #T_927e2_row13_col5, #T_927e2_row13_col6, #T_927e2_row14_col0, #T_927e2_row14_col1, #T_927e2_row14_col2, #T_927e2_row14_col3, #T_927e2_row14_col4, #T_927e2_row14_col5, #T_927e2_row14_col6, #T_927e2_row15_col0, #T_927e2_row15_col1, #T_927e2_row15_col2, #T_927e2_row15_col3, #T_927e2_row15_col4, #T_927e2_row15_col5, #T_927e2_row16_col0, #T_927e2_row16_col1, #T_927e2_row16_col2, #T_927e2_row16_col3, #T_927e2_row16_col4, #T_927e2_row16_col5, #T_927e2_row16_col6, #T_927e2_row17_col0, #T_927e2_row17_col1, #T_927e2_row17_col2, #T_927e2_row17_col3, #T_927e2_row17_col4, #T_927e2_row17_col5, #T_927e2_row17_col6 {\n",
              "  text-align: left;\n",
              "}\n",
              "#T_927e2_row0_col2, #T_927e2_row0_col3, #T_927e2_row0_col4, #T_927e2_row0_col5, #T_927e2_row10_col1, #T_927e2_row15_col6 {\n",
              "  text-align: left;\n",
              "  background-color: yellow;\n",
              "}\n",
              "#T_927e2_row0_col7, #T_927e2_row1_col7, #T_927e2_row2_col7, #T_927e2_row4_col7, #T_927e2_row5_col7, #T_927e2_row6_col7, #T_927e2_row7_col7, #T_927e2_row8_col7, #T_927e2_row9_col7, #T_927e2_row10_col7, #T_927e2_row11_col7, #T_927e2_row12_col7, #T_927e2_row13_col7, #T_927e2_row14_col7, #T_927e2_row15_col7, #T_927e2_row16_col7, #T_927e2_row17_col7 {\n",
              "  text-align: left;\n",
              "  background-color: lightgrey;\n",
              "}\n",
              "#T_927e2_row3_col7 {\n",
              "  text-align: left;\n",
              "  background-color: yellow;\n",
              "  background-color: lightgrey;\n",
              "}\n",
              "</style>\n",
              "<table id=\"T_927e2\" class=\"dataframe\">\n",
              "  <thead>\n",
              "    <tr>\n",
              "      <th class=\"blank level0\" >&nbsp;</th>\n",
              "      <th id=\"T_927e2_level0_col0\" class=\"col_heading level0 col0\" >Model</th>\n",
              "      <th id=\"T_927e2_level0_col1\" class=\"col_heading level0 col1\" >MAE</th>\n",
              "      <th id=\"T_927e2_level0_col2\" class=\"col_heading level0 col2\" >MSE</th>\n",
              "      <th id=\"T_927e2_level0_col3\" class=\"col_heading level0 col3\" >RMSE</th>\n",
              "      <th id=\"T_927e2_level0_col4\" class=\"col_heading level0 col4\" >R2</th>\n",
              "      <th id=\"T_927e2_level0_col5\" class=\"col_heading level0 col5\" >RMSLE</th>\n",
              "      <th id=\"T_927e2_level0_col6\" class=\"col_heading level0 col6\" >MAPE</th>\n",
              "      <th id=\"T_927e2_level0_col7\" class=\"col_heading level0 col7\" >TT (Sec)</th>\n",
              "    </tr>\n",
              "  </thead>\n",
              "  <tbody>\n",
              "    <tr>\n",
              "      <th id=\"T_927e2_level0_row0\" class=\"row_heading level0 row0\" >rf</th>\n",
              "      <td id=\"T_927e2_row0_col0\" class=\"data row0 col0\" >Random Forest Regressor</td>\n",
              "      <td id=\"T_927e2_row0_col1\" class=\"data row0 col1\" >63.5877</td>\n",
              "      <td id=\"T_927e2_row0_col2\" class=\"data row0 col2\" >5967.3754</td>\n",
              "      <td id=\"T_927e2_row0_col3\" class=\"data row0 col3\" >77.1504</td>\n",
              "      <td id=\"T_927e2_row0_col4\" class=\"data row0 col4\" >0.0237</td>\n",
              "      <td id=\"T_927e2_row0_col5\" class=\"data row0 col5\" >0.4292</td>\n",
              "      <td id=\"T_927e2_row0_col6\" class=\"data row0 col6\" >0.4175</td>\n",
              "      <td id=\"T_927e2_row0_col7\" class=\"data row0 col7\" >1.8420</td>\n",
              "    </tr>\n",
              "    <tr>\n",
              "      <th id=\"T_927e2_level0_row1\" class=\"row_heading level0 row1\" >br</th>\n",
              "      <td id=\"T_927e2_row1_col0\" class=\"data row1 col0\" >Bayesian Ridge</td>\n",
              "      <td id=\"T_927e2_row1_col1\" class=\"data row1 col1\" >67.2295</td>\n",
              "      <td id=\"T_927e2_row1_col2\" class=\"data row1 col2\" >6201.2535</td>\n",
              "      <td id=\"T_927e2_row1_col3\" class=\"data row1 col3\" >78.6300</td>\n",
              "      <td id=\"T_927e2_row1_col4\" class=\"data row1 col4\" >-0.0115</td>\n",
              "      <td id=\"T_927e2_row1_col5\" class=\"data row1 col5\" >0.4331</td>\n",
              "      <td id=\"T_927e2_row1_col6\" class=\"data row1 col6\" >0.4316</td>\n",
              "      <td id=\"T_927e2_row1_col7\" class=\"data row1 col7\" >0.3020</td>\n",
              "    </tr>\n",
              "    <tr>\n",
              "      <th id=\"T_927e2_level0_row2\" class=\"row_heading level0 row2\" >dummy</th>\n",
              "      <td id=\"T_927e2_row2_col0\" class=\"data row2 col0\" >Dummy Regressor</td>\n",
              "      <td id=\"T_927e2_row2_col1\" class=\"data row2 col1\" >66.9745</td>\n",
              "      <td id=\"T_927e2_row2_col2\" class=\"data row2 col2\" >6207.1166</td>\n",
              "      <td id=\"T_927e2_row2_col3\" class=\"data row2 col3\" >78.6549</td>\n",
              "      <td id=\"T_927e2_row2_col4\" class=\"data row2 col4\" >-0.0117</td>\n",
              "      <td id=\"T_927e2_row2_col5\" class=\"data row2 col5\" >0.4336</td>\n",
              "      <td id=\"T_927e2_row2_col6\" class=\"data row2 col6\" >0.4307</td>\n",
              "      <td id=\"T_927e2_row2_col7\" class=\"data row2 col7\" >0.3620</td>\n",
              "    </tr>\n",
              "    <tr>\n",
              "      <th id=\"T_927e2_level0_row3\" class=\"row_heading level0 row3\" >en</th>\n",
              "      <td id=\"T_927e2_row3_col0\" class=\"data row3 col0\" >Elastic Net</td>\n",
              "      <td id=\"T_927e2_row3_col1\" class=\"data row3 col1\" >67.1752</td>\n",
              "      <td id=\"T_927e2_row3_col2\" class=\"data row3 col2\" >6226.1279</td>\n",
              "      <td id=\"T_927e2_row3_col3\" class=\"data row3 col3\" >78.7789</td>\n",
              "      <td id=\"T_927e2_row3_col4\" class=\"data row3 col4\" >-0.0151</td>\n",
              "      <td id=\"T_927e2_row3_col5\" class=\"data row3 col5\" >0.4338</td>\n",
              "      <td id=\"T_927e2_row3_col6\" class=\"data row3 col6\" >0.4307</td>\n",
              "      <td id=\"T_927e2_row3_col7\" class=\"data row3 col7\" >0.3000</td>\n",
              "    </tr>\n",
              "    <tr>\n",
              "      <th id=\"T_927e2_level0_row4\" class=\"row_heading level0 row4\" >gbr</th>\n",
              "      <td id=\"T_927e2_row4_col0\" class=\"data row4 col0\" >Gradient Boosting Regressor</td>\n",
              "      <td id=\"T_927e2_row4_col1\" class=\"data row4 col1\" >64.4797</td>\n",
              "      <td id=\"T_927e2_row4_col2\" class=\"data row4 col2\" >6199.7353</td>\n",
              "      <td id=\"T_927e2_row4_col3\" class=\"data row4 col3\" >78.6638</td>\n",
              "      <td id=\"T_927e2_row4_col4\" class=\"data row4 col4\" >-0.0152</td>\n",
              "      <td id=\"T_927e2_row4_col5\" class=\"data row4 col5\" >0.4331</td>\n",
              "      <td id=\"T_927e2_row4_col6\" class=\"data row4 col6\" >0.4119</td>\n",
              "      <td id=\"T_927e2_row4_col7\" class=\"data row4 col7\" >0.8320</td>\n",
              "    </tr>\n",
              "    <tr>\n",
              "      <th id=\"T_927e2_level0_row5\" class=\"row_heading level0 row5\" >omp</th>\n",
              "      <td id=\"T_927e2_row5_col0\" class=\"data row5 col0\" >Orthogonal Matching Pursuit</td>\n",
              "      <td id=\"T_927e2_row5_col1\" class=\"data row5 col1\" >67.2523</td>\n",
              "      <td id=\"T_927e2_row5_col2\" class=\"data row5 col2\" >6228.5624</td>\n",
              "      <td id=\"T_927e2_row5_col3\" class=\"data row5 col3\" >78.7972</td>\n",
              "      <td id=\"T_927e2_row5_col4\" class=\"data row5 col4\" >-0.0156</td>\n",
              "      <td id=\"T_927e2_row5_col5\" class=\"data row5 col5\" >0.4339</td>\n",
              "      <td id=\"T_927e2_row5_col6\" class=\"data row5 col6\" >0.4313</td>\n",
              "      <td id=\"T_927e2_row5_col7\" class=\"data row5 col7\" >0.3700</td>\n",
              "    </tr>\n",
              "    <tr>\n",
              "      <th id=\"T_927e2_level0_row6\" class=\"row_heading level0 row6\" >lasso</th>\n",
              "      <td id=\"T_927e2_row6_col0\" class=\"data row6 col0\" >Lasso Regression</td>\n",
              "      <td id=\"T_927e2_row6_col1\" class=\"data row6 col1\" >67.1174</td>\n",
              "      <td id=\"T_927e2_row6_col2\" class=\"data row6 col2\" >6241.6251</td>\n",
              "      <td id=\"T_927e2_row6_col3\" class=\"data row6 col3\" >78.8795</td>\n",
              "      <td id=\"T_927e2_row6_col4\" class=\"data row6 col4\" >-0.0179</td>\n",
              "      <td id=\"T_927e2_row6_col5\" class=\"data row6 col5\" >0.4345</td>\n",
              "      <td id=\"T_927e2_row6_col6\" class=\"data row6 col6\" >0.4304</td>\n",
              "      <td id=\"T_927e2_row6_col7\" class=\"data row6 col7\" >0.3020</td>\n",
              "    </tr>\n",
              "    <tr>\n",
              "      <th id=\"T_927e2_level0_row7\" class=\"row_heading level0 row7\" >llar</th>\n",
              "      <td id=\"T_927e2_row7_col0\" class=\"data row7 col0\" >Lasso Least Angle Regression</td>\n",
              "      <td id=\"T_927e2_row7_col1\" class=\"data row7 col1\" >67.1174</td>\n",
              "      <td id=\"T_927e2_row7_col2\" class=\"data row7 col2\" >6241.6250</td>\n",
              "      <td id=\"T_927e2_row7_col3\" class=\"data row7 col3\" >78.8795</td>\n",
              "      <td id=\"T_927e2_row7_col4\" class=\"data row7 col4\" >-0.0179</td>\n",
              "      <td id=\"T_927e2_row7_col5\" class=\"data row7 col5\" >0.4345</td>\n",
              "      <td id=\"T_927e2_row7_col6\" class=\"data row7 col6\" >0.4304</td>\n",
              "      <td id=\"T_927e2_row7_col7\" class=\"data row7 col7\" >0.5180</td>\n",
              "    </tr>\n",
              "    <tr>\n",
              "      <th id=\"T_927e2_level0_row8\" class=\"row_heading level0 row8\" >ridge</th>\n",
              "      <td id=\"T_927e2_row8_col0\" class=\"data row8 col0\" >Ridge Regression</td>\n",
              "      <td id=\"T_927e2_row8_col1\" class=\"data row8 col1\" >67.2250</td>\n",
              "      <td id=\"T_927e2_row8_col2\" class=\"data row8 col2\" >6463.8378</td>\n",
              "      <td id=\"T_927e2_row8_col3\" class=\"data row8 col3\" >80.2757</td>\n",
              "      <td id=\"T_927e2_row8_col4\" class=\"data row8 col4\" >-0.0544</td>\n",
              "      <td id=\"T_927e2_row8_col5\" class=\"data row8 col5\" >0.4434</td>\n",
              "      <td id=\"T_927e2_row8_col6\" class=\"data row8 col6\" >0.4301</td>\n",
              "      <td id=\"T_927e2_row8_col7\" class=\"data row8 col7\" >0.3060</td>\n",
              "    </tr>\n",
              "    <tr>\n",
              "      <th id=\"T_927e2_level0_row9\" class=\"row_heading level0 row9\" >lr</th>\n",
              "      <td id=\"T_927e2_row9_col0\" class=\"data row9 col0\" >Linear Regression</td>\n",
              "      <td id=\"T_927e2_row9_col1\" class=\"data row9 col1\" >67.2360</td>\n",
              "      <td id=\"T_927e2_row9_col2\" class=\"data row9 col2\" >6470.9678</td>\n",
              "      <td id=\"T_927e2_row9_col3\" class=\"data row9 col3\" >80.3203</td>\n",
              "      <td id=\"T_927e2_row9_col4\" class=\"data row9 col4\" >-0.0556</td>\n",
              "      <td id=\"T_927e2_row9_col5\" class=\"data row9 col5\" >0.4437</td>\n",
              "      <td id=\"T_927e2_row9_col6\" class=\"data row9 col6\" >0.4301</td>\n",
              "      <td id=\"T_927e2_row9_col7\" class=\"data row9 col7\" >1.8640</td>\n",
              "    </tr>\n",
              "    <tr>\n",
              "      <th id=\"T_927e2_level0_row10\" class=\"row_heading level0 row10\" >lightgbm</th>\n",
              "      <td id=\"T_927e2_row10_col0\" class=\"data row10 col0\" >Light Gradient Boosting Machine</td>\n",
              "      <td id=\"T_927e2_row10_col1\" class=\"data row10 col1\" >63.3406</td>\n",
              "      <td id=\"T_927e2_row10_col2\" class=\"data row10 col2\" >6641.1833</td>\n",
              "      <td id=\"T_927e2_row10_col3\" class=\"data row10 col3\" >81.3998</td>\n",
              "      <td id=\"T_927e2_row10_col4\" class=\"data row10 col4\" >-0.0886</td>\n",
              "      <td id=\"T_927e2_row10_col5\" class=\"data row10 col5\" >0.4528</td>\n",
              "      <td id=\"T_927e2_row10_col6\" class=\"data row10 col6\" >0.4038</td>\n",
              "      <td id=\"T_927e2_row10_col7\" class=\"data row10 col7\" >0.5440</td>\n",
              "    </tr>\n",
              "    <tr>\n",
              "      <th id=\"T_927e2_level0_row11\" class=\"row_heading level0 row11\" >ada</th>\n",
              "      <td id=\"T_927e2_row11_col0\" class=\"data row11 col0\" >AdaBoost Regressor</td>\n",
              "      <td id=\"T_927e2_row11_col1\" class=\"data row11 col1\" >74.6221</td>\n",
              "      <td id=\"T_927e2_row11_col2\" class=\"data row11 col2\" >6763.6087</td>\n",
              "      <td id=\"T_927e2_row11_col3\" class=\"data row11 col3\" >82.2108</td>\n",
              "      <td id=\"T_927e2_row11_col4\" class=\"data row11 col4\" >-0.1120</td>\n",
              "      <td id=\"T_927e2_row11_col5\" class=\"data row11 col5\" >0.4758</td>\n",
              "      <td id=\"T_927e2_row11_col6\" class=\"data row11 col6\" >0.5280</td>\n",
              "      <td id=\"T_927e2_row11_col7\" class=\"data row11 col7\" >0.7180</td>\n",
              "    </tr>\n",
              "    <tr>\n",
              "      <th id=\"T_927e2_level0_row12\" class=\"row_heading level0 row12\" >et</th>\n",
              "      <td id=\"T_927e2_row12_col0\" class=\"data row12 col0\" >Extra Trees Regressor</td>\n",
              "      <td id=\"T_927e2_row12_col1\" class=\"data row12 col1\" >63.8828</td>\n",
              "      <td id=\"T_927e2_row12_col2\" class=\"data row12 col2\" >6806.8295</td>\n",
              "      <td id=\"T_927e2_row12_col3\" class=\"data row12 col3\" >82.4176</td>\n",
              "      <td id=\"T_927e2_row12_col4\" class=\"data row12 col4\" >-0.1159</td>\n",
              "      <td id=\"T_927e2_row12_col5\" class=\"data row12 col5\" >0.4551</td>\n",
              "      <td id=\"T_927e2_row12_col6\" class=\"data row12 col6\" >0.4183</td>\n",
              "      <td id=\"T_927e2_row12_col7\" class=\"data row12 col7\" >1.3400</td>\n",
              "    </tr>\n",
              "    <tr>\n",
              "      <th id=\"T_927e2_level0_row13\" class=\"row_heading level0 row13\" >knn</th>\n",
              "      <td id=\"T_927e2_row13_col0\" class=\"data row13 col0\" >K Neighbors Regressor</td>\n",
              "      <td id=\"T_927e2_row13_col1\" class=\"data row13 col1\" >65.0371</td>\n",
              "      <td id=\"T_927e2_row13_col2\" class=\"data row13 col2\" >7022.7161</td>\n",
              "      <td id=\"T_927e2_row13_col3\" class=\"data row13 col3\" >83.6644</td>\n",
              "      <td id=\"T_927e2_row13_col4\" class=\"data row13 col4\" >-0.1450</td>\n",
              "      <td id=\"T_927e2_row13_col5\" class=\"data row13 col5\" >0.4642</td>\n",
              "      <td id=\"T_927e2_row13_col6\" class=\"data row13 col6\" >0.4138</td>\n",
              "      <td id=\"T_927e2_row13_col7\" class=\"data row13 col7\" >0.3120</td>\n",
              "    </tr>\n",
              "    <tr>\n",
              "      <th id=\"T_927e2_level0_row14\" class=\"row_heading level0 row14\" >xgboost</th>\n",
              "      <td id=\"T_927e2_row14_col0\" class=\"data row14 col0\" >Extreme Gradient Boosting</td>\n",
              "      <td id=\"T_927e2_row14_col1\" class=\"data row14 col1\" >63.5900</td>\n",
              "      <td id=\"T_927e2_row14_col2\" class=\"data row14 col2\" >6976.6709</td>\n",
              "      <td id=\"T_927e2_row14_col3\" class=\"data row14 col3\" >83.4795</td>\n",
              "      <td id=\"T_927e2_row14_col4\" class=\"data row14 col4\" >-0.1462</td>\n",
              "      <td id=\"T_927e2_row14_col5\" class=\"data row14 col5\" >0.4643</td>\n",
              "      <td id=\"T_927e2_row14_col6\" class=\"data row14 col6\" >0.4094</td>\n",
              "      <td id=\"T_927e2_row14_col7\" class=\"data row14 col7\" >0.4800</td>\n",
              "    </tr>\n",
              "    <tr>\n",
              "      <th id=\"T_927e2_level0_row15\" class=\"row_heading level0 row15\" >huber</th>\n",
              "      <td id=\"T_927e2_row15_col0\" class=\"data row15 col0\" >Huber Regressor</td>\n",
              "      <td id=\"T_927e2_row15_col1\" class=\"data row15 col1\" >63.7416</td>\n",
              "      <td id=\"T_927e2_row15_col2\" class=\"data row15 col2\" >8533.3821</td>\n",
              "      <td id=\"T_927e2_row15_col3\" class=\"data row15 col3\" >92.1873</td>\n",
              "      <td id=\"T_927e2_row15_col4\" class=\"data row15 col4\" >-0.3886</td>\n",
              "      <td id=\"T_927e2_row15_col5\" class=\"data row15 col5\" >0.5183</td>\n",
              "      <td id=\"T_927e2_row15_col6\" class=\"data row15 col6\" >0.3238</td>\n",
              "      <td id=\"T_927e2_row15_col7\" class=\"data row15 col7\" >0.3420</td>\n",
              "    </tr>\n",
              "    <tr>\n",
              "      <th id=\"T_927e2_level0_row16\" class=\"row_heading level0 row16\" >dt</th>\n",
              "      <td id=\"T_927e2_row16_col0\" class=\"data row16 col0\" >Decision Tree Regressor</td>\n",
              "      <td id=\"T_927e2_row16_col1\" class=\"data row16 col1\" >67.6600</td>\n",
              "      <td id=\"T_927e2_row16_col2\" class=\"data row16 col2\" >10599.6263</td>\n",
              "      <td id=\"T_927e2_row16_col3\" class=\"data row16 col3\" >102.8401</td>\n",
              "      <td id=\"T_927e2_row16_col4\" class=\"data row16 col4\" >-0.7403</td>\n",
              "      <td id=\"T_927e2_row16_col5\" class=\"data row16 col5\" >0.5449</td>\n",
              "      <td id=\"T_927e2_row16_col6\" class=\"data row16 col6\" >0.4329</td>\n",
              "      <td id=\"T_927e2_row16_col7\" class=\"data row16 col7\" >0.3120</td>\n",
              "    </tr>\n",
              "    <tr>\n",
              "      <th id=\"T_927e2_level0_row17\" class=\"row_heading level0 row17\" >par</th>\n",
              "      <td id=\"T_927e2_row17_col0\" class=\"data row17 col0\" >Passive Aggressive Regressor</td>\n",
              "      <td id=\"T_927e2_row17_col1\" class=\"data row17 col1\" >170.3480</td>\n",
              "      <td id=\"T_927e2_row17_col2\" class=\"data row17 col2\" >90550.6834</td>\n",
              "      <td id=\"T_927e2_row17_col3\" class=\"data row17 col3\" >217.5930</td>\n",
              "      <td id=\"T_927e2_row17_col4\" class=\"data row17 col4\" >-16.9903</td>\n",
              "      <td id=\"T_927e2_row17_col5\" class=\"data row17 col5\" >0.9023</td>\n",
              "      <td id=\"T_927e2_row17_col6\" class=\"data row17 col6\" >1.2034</td>\n",
              "      <td id=\"T_927e2_row17_col7\" class=\"data row17 col7\" >0.3040</td>\n",
              "    </tr>\n",
              "  </tbody>\n",
              "</table>\n"
            ]
          },
          "metadata": {}
        },
        {
          "output_type": "display_data",
          "data": {
            "text/plain": [
              "Processing:   0%|          | 0/81 [00:00<?, ?it/s]"
            ],
            "application/vnd.jupyter.widget-view+json": {
              "version_major": 2,
              "version_minor": 0,
              "model_id": "82c2f88e6c83426c92cc5815cf8be9a9"
            }
          },
          "metadata": {
            "application/vnd.jupyter.widget-view+json": {
              "colab": {
                "custom_widget_manager": {
                  "url": "https://ssl.gstatic.com/colaboratory-static/widgets/colab-cdn-widget-manager/b3e629b1971e1542/manager.min.js"
                }
              }
            }
          }
        },
        {
          "output_type": "display_data",
          "data": {
            "text/plain": [
              "<IPython.core.display.HTML object>"
            ],
            "text/html": []
          },
          "metadata": {}
        }
      ]
    },
    {
      "cell_type": "code",
      "source": [
        "rf = create_model(\"rf\", fold=5)"
      ],
      "metadata": {
        "colab": {
          "base_uri": "https://localhost:8080/",
          "height": 300,
          "referenced_widgets": [
            "67309e4643814afaa25cbc36d545da78",
            "9b0d4eeaf9fb47a4a56941140e64e759",
            "d4c613d14e9342ba8480c49a5ac5dc08",
            "5867dd677c5843ff8af4e8cd1a1f2eaa",
            "5f5712206fa94c7bb1816abbb016546b",
            "5c7c5396c5cc48f69cdd7eb4da3e1c98",
            "9257170677cb48258c41780f8cc3ac32",
            "9aa122dc176f48b990f436d5c2663783",
            "4176ac72ae8b42b59a01c971980f10ad",
            "22b78a4aca1a42b18ea77f1c9009ec22",
            "bcefd5b55d0442b7a252dce1cefcfeb8"
          ]
        },
        "id": "xcF_DSWYdLoM",
        "outputId": "8dee3b10-e477-487a-f1fc-ec2c9b305ae2"
      },
      "execution_count": 30,
      "outputs": [
        {
          "output_type": "display_data",
          "data": {
            "text/plain": [
              "<IPython.core.display.HTML object>"
            ],
            "text/html": []
          },
          "metadata": {}
        },
        {
          "output_type": "display_data",
          "data": {
            "text/plain": [
              "<pandas.io.formats.style.Styler at 0x7f4a5a25d030>"
            ],
            "text/html": [
              "<style type=\"text/css\">\n",
              "#T_e4a86_row5_col0, #T_e4a86_row5_col1, #T_e4a86_row5_col2, #T_e4a86_row5_col3, #T_e4a86_row5_col4, #T_e4a86_row5_col5 {\n",
              "  background: yellow;\n",
              "}\n",
              "</style>\n",
              "<table id=\"T_e4a86\" class=\"dataframe\">\n",
              "  <thead>\n",
              "    <tr>\n",
              "      <th class=\"blank level0\" >&nbsp;</th>\n",
              "      <th id=\"T_e4a86_level0_col0\" class=\"col_heading level0 col0\" >MAE</th>\n",
              "      <th id=\"T_e4a86_level0_col1\" class=\"col_heading level0 col1\" >MSE</th>\n",
              "      <th id=\"T_e4a86_level0_col2\" class=\"col_heading level0 col2\" >RMSE</th>\n",
              "      <th id=\"T_e4a86_level0_col3\" class=\"col_heading level0 col3\" >R2</th>\n",
              "      <th id=\"T_e4a86_level0_col4\" class=\"col_heading level0 col4\" >RMSLE</th>\n",
              "      <th id=\"T_e4a86_level0_col5\" class=\"col_heading level0 col5\" >MAPE</th>\n",
              "    </tr>\n",
              "    <tr>\n",
              "      <th class=\"index_name level0\" >Fold</th>\n",
              "      <th class=\"blank col0\" >&nbsp;</th>\n",
              "      <th class=\"blank col1\" >&nbsp;</th>\n",
              "      <th class=\"blank col2\" >&nbsp;</th>\n",
              "      <th class=\"blank col3\" >&nbsp;</th>\n",
              "      <th class=\"blank col4\" >&nbsp;</th>\n",
              "      <th class=\"blank col5\" >&nbsp;</th>\n",
              "    </tr>\n",
              "  </thead>\n",
              "  <tbody>\n",
              "    <tr>\n",
              "      <th id=\"T_e4a86_level0_row0\" class=\"row_heading level0 row0\" >0</th>\n",
              "      <td id=\"T_e4a86_row0_col0\" class=\"data row0 col0\" >63.4391</td>\n",
              "      <td id=\"T_e4a86_row0_col1\" class=\"data row0 col1\" >6212.3294</td>\n",
              "      <td id=\"T_e4a86_row0_col2\" class=\"data row0 col2\" >78.8183</td>\n",
              "      <td id=\"T_e4a86_row0_col3\" class=\"data row0 col3\" >0.0844</td>\n",
              "      <td id=\"T_e4a86_row0_col4\" class=\"data row0 col4\" >0.4215</td>\n",
              "      <td id=\"T_e4a86_row0_col5\" class=\"data row0 col5\" >0.3903</td>\n",
              "    </tr>\n",
              "    <tr>\n",
              "      <th id=\"T_e4a86_level0_row1\" class=\"row_heading level0 row1\" >1</th>\n",
              "      <td id=\"T_e4a86_row1_col0\" class=\"data row1 col0\" >66.3250</td>\n",
              "      <td id=\"T_e4a86_row1_col1\" class=\"data row1 col1\" >6599.4873</td>\n",
              "      <td id=\"T_e4a86_row1_col2\" class=\"data row1 col2\" >81.2372</td>\n",
              "      <td id=\"T_e4a86_row1_col3\" class=\"data row1 col3\" >0.0583</td>\n",
              "      <td id=\"T_e4a86_row1_col4\" class=\"data row1 col4\" >0.4409</td>\n",
              "      <td id=\"T_e4a86_row1_col5\" class=\"data row1 col5\" >0.4251</td>\n",
              "    </tr>\n",
              "    <tr>\n",
              "      <th id=\"T_e4a86_level0_row2\" class=\"row_heading level0 row2\" >2</th>\n",
              "      <td id=\"T_e4a86_row2_col0\" class=\"data row2 col0\" >60.3111</td>\n",
              "      <td id=\"T_e4a86_row2_col1\" class=\"data row2 col1\" >5340.5412</td>\n",
              "      <td id=\"T_e4a86_row2_col2\" class=\"data row2 col2\" >73.0790</td>\n",
              "      <td id=\"T_e4a86_row2_col3\" class=\"data row2 col3\" >0.0895</td>\n",
              "      <td id=\"T_e4a86_row2_col4\" class=\"data row2 col4\" >0.4115</td>\n",
              "      <td id=\"T_e4a86_row2_col5\" class=\"data row2 col5\" >0.3982</td>\n",
              "    </tr>\n",
              "    <tr>\n",
              "      <th id=\"T_e4a86_level0_row3\" class=\"row_heading level0 row3\" >3</th>\n",
              "      <td id=\"T_e4a86_row3_col0\" class=\"data row3 col0\" >66.0206</td>\n",
              "      <td id=\"T_e4a86_row3_col1\" class=\"data row3 col1\" >6511.3647</td>\n",
              "      <td id=\"T_e4a86_row3_col2\" class=\"data row3 col2\" >80.6930</td>\n",
              "      <td id=\"T_e4a86_row3_col3\" class=\"data row3 col3\" >-0.0515</td>\n",
              "      <td id=\"T_e4a86_row3_col4\" class=\"data row3 col4\" >0.4446</td>\n",
              "      <td id=\"T_e4a86_row3_col5\" class=\"data row3 col5\" >0.4259</td>\n",
              "    </tr>\n",
              "    <tr>\n",
              "      <th id=\"T_e4a86_level0_row4\" class=\"row_heading level0 row4\" >4</th>\n",
              "      <td id=\"T_e4a86_row4_col0\" class=\"data row4 col0\" >61.8430</td>\n",
              "      <td id=\"T_e4a86_row4_col1\" class=\"data row4 col1\" >5173.1545</td>\n",
              "      <td id=\"T_e4a86_row4_col2\" class=\"data row4 col2\" >71.9246</td>\n",
              "      <td id=\"T_e4a86_row4_col3\" class=\"data row4 col3\" >-0.0622</td>\n",
              "      <td id=\"T_e4a86_row4_col4\" class=\"data row4 col4\" >0.4273</td>\n",
              "      <td id=\"T_e4a86_row4_col5\" class=\"data row4 col5\" >0.4478</td>\n",
              "    </tr>\n",
              "    <tr>\n",
              "      <th id=\"T_e4a86_level0_row5\" class=\"row_heading level0 row5\" >Mean</th>\n",
              "      <td id=\"T_e4a86_row5_col0\" class=\"data row5 col0\" >63.5877</td>\n",
              "      <td id=\"T_e4a86_row5_col1\" class=\"data row5 col1\" >5967.3754</td>\n",
              "      <td id=\"T_e4a86_row5_col2\" class=\"data row5 col2\" >77.1504</td>\n",
              "      <td id=\"T_e4a86_row5_col3\" class=\"data row5 col3\" >0.0237</td>\n",
              "      <td id=\"T_e4a86_row5_col4\" class=\"data row5 col4\" >0.4292</td>\n",
              "      <td id=\"T_e4a86_row5_col5\" class=\"data row5 col5\" >0.4175</td>\n",
              "    </tr>\n",
              "    <tr>\n",
              "      <th id=\"T_e4a86_level0_row6\" class=\"row_heading level0 row6\" >Std</th>\n",
              "      <td id=\"T_e4a86_row6_col0\" class=\"data row6 col0\" >2.3330</td>\n",
              "      <td id=\"T_e4a86_row6_col1\" class=\"data row6 col1\" >596.5233</td>\n",
              "      <td id=\"T_e4a86_row6_col2\" class=\"data row6 col2\" >3.8966</td>\n",
              "      <td id=\"T_e4a86_row6_col3\" class=\"data row6 col3\" >0.0667</td>\n",
              "      <td id=\"T_e4a86_row6_col4\" class=\"data row6 col4\" >0.0123</td>\n",
              "      <td id=\"T_e4a86_row6_col5\" class=\"data row6 col5\" >0.0208</td>\n",
              "    </tr>\n",
              "  </tbody>\n",
              "</table>\n"
            ]
          },
          "metadata": {}
        },
        {
          "output_type": "display_data",
          "data": {
            "text/plain": [
              "Processing:   0%|          | 0/4 [00:00<?, ?it/s]"
            ],
            "application/vnd.jupyter.widget-view+json": {
              "version_major": 2,
              "version_minor": 0,
              "model_id": "67309e4643814afaa25cbc36d545da78"
            }
          },
          "metadata": {
            "application/vnd.jupyter.widget-view+json": {
              "colab": {
                "custom_widget_manager": {
                  "url": "https://ssl.gstatic.com/colaboratory-static/widgets/colab-cdn-widget-manager/b3e629b1971e1542/manager.min.js"
                }
              }
            }
          }
        },
        {
          "output_type": "display_data",
          "data": {
            "text/plain": [
              "<IPython.core.display.HTML object>"
            ],
            "text/html": []
          },
          "metadata": {}
        }
      ]
    },
    {
      "cell_type": "code",
      "source": [
        "plot_model(rf, plot=\"feature\")"
      ],
      "metadata": {
        "colab": {
          "base_uri": "https://localhost:8080/",
          "height": 485
        },
        "id": "M_hwt_WciBZc",
        "outputId": "7916278b-8d89-4db7-fdb6-adfb824000f4"
      },
      "execution_count": 31,
      "outputs": [
        {
          "output_type": "display_data",
          "data": {
            "text/plain": [
              "<IPython.core.display.HTML object>"
            ],
            "text/html": []
          },
          "metadata": {}
        },
        {
          "output_type": "display_data",
          "data": {
            "text/plain": [
              "<Figure size 800x500 with 1 Axes>"
            ],
            "image/png": "[encoded data removed]"
          },
          "metadata": {}
        }
      ]
    },
    {
      "cell_type": "code",
      "source": [
        "tuned_rf = tune_model(rf, fold=5)"
      ],
      "metadata": {
        "colab": {
          "base_uri": "https://localhost:8080/",
          "height": 317,
          "referenced_widgets": [
            "c0b76807ef694b0f8b617aa924002135",
            "1a96949d7a134636a7785d71188590f1",
            "f95d361e0b17495aaec4649456212740",
            "8d724b3f8fef494faae82b3c21980c74",
            "923d62a605c34cb89fa59be313dbb30e",
            "424cc4a2367d4b1f92d2b98a915d7a1a",
            "fb223f6bc0a9408a8a09c832d2c32de4",
            "9b2704b7128b47b591e135e3ff2d2196",
            "4704567f13ae4609aad1f5cd5e7b6a22",
            "77d294af029f4422adffe113060091bd",
            "869247db0bc04986af3e12dafce312ed"
          ]
        },
        "id": "OitrJEfQdVsg",
        "outputId": "a7d4ccec-4588-41ef-d760-c9d865de7f19"
      },
      "execution_count": 35,
      "outputs": [
        {
          "output_type": "display_data",
          "data": {
            "text/plain": [
              "<IPython.core.display.HTML object>"
            ],
            "text/html": []
          },
          "metadata": {}
        },
        {
          "output_type": "display_data",
          "data": {
            "text/plain": [
              "<pandas.io.formats.style.Styler at 0x7f4a5a25d270>"
            ],
            "text/html": [
              "<style type=\"text/css\">\n",
              "#T_94955_row5_col0, #T_94955_row5_col1, #T_94955_row5_col2, #T_94955_row5_col3, #T_94955_row5_col4, #T_94955_row5_col5 {\n",
              "  background: yellow;\n",
              "}\n",
              "</style>\n",
              "<table id=\"T_94955\" class=\"dataframe\">\n",
              "  <thead>\n",
              "    <tr>\n",
              "      <th class=\"blank level0\" >&nbsp;</th>\n",
              "      <th id=\"T_94955_level0_col0\" class=\"col_heading level0 col0\" >MAE</th>\n",
              "      <th id=\"T_94955_level0_col1\" class=\"col_heading level0 col1\" >MSE</th>\n",
              "      <th id=\"T_94955_level0_col2\" class=\"col_heading level0 col2\" >RMSE</th>\n",
              "      <th id=\"T_94955_level0_col3\" class=\"col_heading level0 col3\" >R2</th>\n",
              "      <th id=\"T_94955_level0_col4\" class=\"col_heading level0 col4\" >RMSLE</th>\n",
              "      <th id=\"T_94955_level0_col5\" class=\"col_heading level0 col5\" >MAPE</th>\n",
              "    </tr>\n",
              "    <tr>\n",
              "      <th class=\"index_name level0\" >Fold</th>\n",
              "      <th class=\"blank col0\" >&nbsp;</th>\n",
              "      <th class=\"blank col1\" >&nbsp;</th>\n",
              "      <th class=\"blank col2\" >&nbsp;</th>\n",
              "      <th class=\"blank col3\" >&nbsp;</th>\n",
              "      <th class=\"blank col4\" >&nbsp;</th>\n",
              "      <th class=\"blank col5\" >&nbsp;</th>\n",
              "    </tr>\n",
              "  </thead>\n",
              "  <tbody>\n",
              "    <tr>\n",
              "      <th id=\"T_94955_level0_row0\" class=\"row_heading level0 row0\" >0</th>\n",
              "      <td id=\"T_94955_row0_col0\" class=\"data row0 col0\" >66.6279</td>\n",
              "      <td id=\"T_94955_row0_col1\" class=\"data row0 col1\" >6420.7645</td>\n",
              "      <td id=\"T_94955_row0_col2\" class=\"data row0 col2\" >80.1297</td>\n",
              "      <td id=\"T_94955_row0_col3\" class=\"data row0 col3\" >0.0536</td>\n",
              "      <td id=\"T_94955_row0_col4\" class=\"data row0 col4\" >0.4260</td>\n",
              "      <td id=\"T_94955_row0_col5\" class=\"data row0 col5\" >0.4041</td>\n",
              "    </tr>\n",
              "    <tr>\n",
              "      <th id=\"T_94955_level0_row1\" class=\"row_heading level0 row1\" >1</th>\n",
              "      <td id=\"T_94955_row1_col0\" class=\"data row1 col0\" >67.1911</td>\n",
              "      <td id=\"T_94955_row1_col1\" class=\"data row1 col1\" >6610.2414</td>\n",
              "      <td id=\"T_94955_row1_col2\" class=\"data row1 col2\" >81.3034</td>\n",
              "      <td id=\"T_94955_row1_col3\" class=\"data row1 col3\" >0.0568</td>\n",
              "      <td id=\"T_94955_row1_col4\" class=\"data row1 col4\" >0.4331</td>\n",
              "      <td id=\"T_94955_row1_col5\" class=\"data row1 col5\" >0.4159</td>\n",
              "    </tr>\n",
              "    <tr>\n",
              "      <th id=\"T_94955_level0_row2\" class=\"row_heading level0 row2\" >2</th>\n",
              "      <td id=\"T_94955_row2_col0\" class=\"data row2 col0\" >62.3640</td>\n",
              "      <td id=\"T_94955_row2_col1\" class=\"data row2 col1\" >5459.3356</td>\n",
              "      <td id=\"T_94955_row2_col2\" class=\"data row2 col2\" >73.8873</td>\n",
              "      <td id=\"T_94955_row2_col3\" class=\"data row2 col3\" >0.0693</td>\n",
              "      <td id=\"T_94955_row2_col4\" class=\"data row2 col4\" >0.4099</td>\n",
              "      <td id=\"T_94955_row2_col5\" class=\"data row2 col5\" >0.4014</td>\n",
              "    </tr>\n",
              "    <tr>\n",
              "      <th id=\"T_94955_level0_row3\" class=\"row_heading level0 row3\" >3</th>\n",
              "      <td id=\"T_94955_row3_col0\" class=\"data row3 col0\" >65.2385</td>\n",
              "      <td id=\"T_94955_row3_col1\" class=\"data row3 col1\" >6159.5669</td>\n",
              "      <td id=\"T_94955_row3_col2\" class=\"data row3 col2\" >78.4829</td>\n",
              "      <td id=\"T_94955_row3_col3\" class=\"data row3 col3\" >0.0053</td>\n",
              "      <td id=\"T_94955_row3_col4\" class=\"data row3 col4\" >0.4270</td>\n",
              "      <td id=\"T_94955_row3_col5\" class=\"data row3 col5\" >0.4122</td>\n",
              "    </tr>\n",
              "    <tr>\n",
              "      <th id=\"T_94955_level0_row4\" class=\"row_heading level0 row4\" >4</th>\n",
              "      <td id=\"T_94955_row4_col0\" class=\"data row4 col0\" >62.0309</td>\n",
              "      <td id=\"T_94955_row4_col1\" class=\"data row4 col1\" >4904.3313</td>\n",
              "      <td id=\"T_94955_row4_col2\" class=\"data row4 col2\" >70.0309</td>\n",
              "      <td id=\"T_94955_row4_col3\" class=\"data row4 col3\" >-0.0070</td>\n",
              "      <td id=\"T_94955_row4_col4\" class=\"data row4 col4\" >0.4150</td>\n",
              "      <td id=\"T_94955_row4_col5\" class=\"data row4 col5\" >0.4403</td>\n",
              "    </tr>\n",
              "    <tr>\n",
              "      <th id=\"T_94955_level0_row5\" class=\"row_heading level0 row5\" >Mean</th>\n",
              "      <td id=\"T_94955_row5_col0\" class=\"data row5 col0\" >64.6905</td>\n",
              "      <td id=\"T_94955_row5_col1\" class=\"data row5 col1\" >5910.8479</td>\n",
              "      <td id=\"T_94955_row5_col2\" class=\"data row5 col2\" >76.7668</td>\n",
              "      <td id=\"T_94955_row5_col3\" class=\"data row5 col3\" >0.0356</td>\n",
              "      <td id=\"T_94955_row5_col4\" class=\"data row5 col4\" >0.4222</td>\n",
              "      <td id=\"T_94955_row5_col5\" class=\"data row5 col5\" >0.4148</td>\n",
              "    </tr>\n",
              "    <tr>\n",
              "      <th id=\"T_94955_level0_row6\" class=\"row_heading level0 row6\" >Std</th>\n",
              "      <td id=\"T_94955_row6_col0\" class=\"data row6 col0\" >2.1351</td>\n",
              "      <td id=\"T_94955_row6_col1\" class=\"data row6 col1\" >636.8620</td>\n",
              "      <td id=\"T_94955_row6_col2\" class=\"data row6 col2\" >4.2071</td>\n",
              "      <td id=\"T_94955_row6_col3\" class=\"data row6 col3\" >0.0305</td>\n",
              "      <td id=\"T_94955_row6_col4\" class=\"data row6 col4\" >0.0085</td>\n",
              "      <td id=\"T_94955_row6_col5\" class=\"data row6 col5\" >0.0138</td>\n",
              "    </tr>\n",
              "  </tbody>\n",
              "</table>\n"
            ]
          },
          "metadata": {}
        },
        {
          "output_type": "display_data",
          "data": {
            "text/plain": [
              "Processing:   0%|          | 0/7 [00:00<?, ?it/s]"
            ],
            "application/vnd.jupyter.widget-view+json": {
              "version_major": 2,
              "version_minor": 0,
              "model_id": "c0b76807ef694b0f8b617aa924002135"
            }
          },
          "metadata": {
            "application/vnd.jupyter.widget-view+json": {
              "colab": {
                "custom_widget_manager": {
                  "url": "https://ssl.gstatic.com/colaboratory-static/widgets/colab-cdn-widget-manager/b3e629b1971e1542/manager.min.js"
                }
              }
            }
          }
        },
        {
          "output_type": "display_data",
          "data": {
            "text/plain": [
              "<IPython.core.display.HTML object>"
            ],
            "text/html": []
          },
          "metadata": {}
        },
        {
          "output_type": "stream",
          "name": "stdout",
          "text": [
            "Fitting 5 folds for each of 10 candidates, totalling 50 fits\n"
          ]
        },
        {
          "output_type": "display_data",
          "data": {
            "text/plain": [
              "<IPython.core.display.HTML object>"
            ],
            "text/html": []
          },
          "metadata": {}
        }
      ]
    },
    {
      "cell_type": "code",
      "source": [
        "trf_holdout_preds = predict_model(tuned_rf)"
      ],
      "metadata": {
        "colab": {
          "base_uri": "https://localhost:8080/",
          "height": 80
        },
        "id": "WO6dnvnjUDcO",
        "outputId": "e8898223-ab8f-4c11-bef3-6b55458115d5"
      },
      "execution_count": 41,
      "outputs": [
        {
          "output_type": "display_data",
          "data": {
            "text/plain": [
              "<pandas.io.formats.style.Styler at 0x7f4a593f8160>"
            ],
            "text/html": [
              "<style type=\"text/css\">\n",
              "</style>\n",
              "<table id=\"T_94de7\" class=\"dataframe\">\n",
              "  <thead>\n",
              "    <tr>\n",
              "      <th class=\"blank level0\" >&nbsp;</th>\n",
              "      <th id=\"T_94de7_level0_col0\" class=\"col_heading level0 col0\" >Model</th>\n",
              "      <th id=\"T_94de7_level0_col1\" class=\"col_heading level0 col1\" >MAE</th>\n",
              "      <th id=\"T_94de7_level0_col2\" class=\"col_heading level0 col2\" >MSE</th>\n",
              "      <th id=\"T_94de7_level0_col3\" class=\"col_heading level0 col3\" >RMSE</th>\n",
              "      <th id=\"T_94de7_level0_col4\" class=\"col_heading level0 col4\" >R2</th>\n",
              "      <th id=\"T_94de7_level0_col5\" class=\"col_heading level0 col5\" >RMSLE</th>\n",
              "      <th id=\"T_94de7_level0_col6\" class=\"col_heading level0 col6\" >MAPE</th>\n",
              "    </tr>\n",
              "  </thead>\n",
              "  <tbody>\n",
              "    <tr>\n",
              "      <th id=\"T_94de7_level0_row0\" class=\"row_heading level0 row0\" >0</th>\n",
              "      <td id=\"T_94de7_row0_col0\" class=\"data row0 col0\" >Random Forest Regressor</td>\n",
              "      <td id=\"T_94de7_row0_col1\" class=\"data row0 col1\" >65.1647</td>\n",
              "      <td id=\"T_94de7_row0_col2\" class=\"data row0 col2\" >5926.3249</td>\n",
              "      <td id=\"T_94de7_row0_col3\" class=\"data row0 col3\" >76.9826</td>\n",
              "      <td id=\"T_94de7_row0_col4\" class=\"data row0 col4\" >0.0900</td>\n",
              "      <td id=\"T_94de7_row0_col5\" class=\"data row0 col5\" >0.4187</td>\n",
              "      <td id=\"T_94de7_row0_col6\" class=\"data row0 col6\" >0.4076</td>\n",
              "    </tr>\n",
              "  </tbody>\n",
              "</table>\n"
            ]
          },
          "metadata": {}
        }
      ]
    },
    {
      "cell_type": "code",
      "source": [
        "trf_train_preds = predict_model(tuned_rf, data=ltv_train)"
      ],
      "metadata": {
        "colab": {
          "base_uri": "https://localhost:8080/",
          "height": 80
        },
        "id": "uGINWybgd7vp",
        "outputId": "28f4b297-17d0-413a-8717-9285ed09cd3e"
      },
      "execution_count": 37,
      "outputs": [
        {
          "output_type": "display_data",
          "data": {
            "text/plain": [
              "<pandas.io.formats.style.Styler at 0x7f4a59615ea0>"
            ],
            "text/html": [
              "<style type=\"text/css\">\n",
              "</style>\n",
              "<table id=\"T_5b566\" class=\"dataframe\">\n",
              "  <thead>\n",
              "    <tr>\n",
              "      <th class=\"blank level0\" >&nbsp;</th>\n",
              "      <th id=\"T_5b566_level0_col0\" class=\"col_heading level0 col0\" >Model</th>\n",
              "      <th id=\"T_5b566_level0_col1\" class=\"col_heading level0 col1\" >MAE</th>\n",
              "      <th id=\"T_5b566_level0_col2\" class=\"col_heading level0 col2\" >MSE</th>\n",
              "      <th id=\"T_5b566_level0_col3\" class=\"col_heading level0 col3\" >RMSE</th>\n",
              "      <th id=\"T_5b566_level0_col4\" class=\"col_heading level0 col4\" >R2</th>\n",
              "      <th id=\"T_5b566_level0_col5\" class=\"col_heading level0 col5\" >RMSLE</th>\n",
              "      <th id=\"T_5b566_level0_col6\" class=\"col_heading level0 col6\" >MAPE</th>\n",
              "    </tr>\n",
              "  </thead>\n",
              "  <tbody>\n",
              "    <tr>\n",
              "      <th id=\"T_5b566_level0_row0\" class=\"row_heading level0 row0\" >0</th>\n",
              "      <td id=\"T_5b566_row0_col0\" class=\"data row0 col0\" >Random Forest Regressor</td>\n",
              "      <td id=\"T_5b566_row0_col1\" class=\"data row0 col1\" >56.0929</td>\n",
              "      <td id=\"T_5b566_row0_col2\" class=\"data row0 col2\" >4474.2750</td>\n",
              "      <td id=\"T_5b566_row0_col3\" class=\"data row0 col3\" >66.8900</td>\n",
              "      <td id=\"T_5b566_row0_col4\" class=\"data row0 col4\" >0.2885</td>\n",
              "      <td id=\"T_5b566_row0_col5\" class=\"data row0 col5\" >0.3664</td>\n",
              "      <td id=\"T_5b566_row0_col6\" class=\"data row0 col6\" >0.3576</td>\n",
              "    </tr>\n",
              "  </tbody>\n",
              "</table>\n"
            ]
          },
          "metadata": {}
        }
      ]
    },
    {
      "cell_type": "code",
      "source": [
        "trf_test_preds = predict_model(tuned_rf, data=ltv_test)"
      ],
      "metadata": {
        "colab": {
          "base_uri": "https://localhost:8080/",
          "height": 80
        },
        "id": "qDh4zQlQVpN4",
        "outputId": "bb5813cc-bbf5-45e6-e22e-5831a0a506b7"
      },
      "execution_count": 40,
      "outputs": [
        {
          "output_type": "display_data",
          "data": {
            "text/plain": [
              "<pandas.io.formats.style.Styler at 0x7f4a59730af0>"
            ],
            "text/html": [
              "<style type=\"text/css\">\n",
              "</style>\n",
              "<table id=\"T_85d70\" class=\"dataframe\">\n",
              "  <thead>\n",
              "    <tr>\n",
              "      <th class=\"blank level0\" >&nbsp;</th>\n",
              "      <th id=\"T_85d70_level0_col0\" class=\"col_heading level0 col0\" >Model</th>\n",
              "      <th id=\"T_85d70_level0_col1\" class=\"col_heading level0 col1\" >MAE</th>\n",
              "      <th id=\"T_85d70_level0_col2\" class=\"col_heading level0 col2\" >MSE</th>\n",
              "      <th id=\"T_85d70_level0_col3\" class=\"col_heading level0 col3\" >RMSE</th>\n",
              "      <th id=\"T_85d70_level0_col4\" class=\"col_heading level0 col4\" >R2</th>\n",
              "      <th id=\"T_85d70_level0_col5\" class=\"col_heading level0 col5\" >RMSLE</th>\n",
              "      <th id=\"T_85d70_level0_col6\" class=\"col_heading level0 col6\" >MAPE</th>\n",
              "    </tr>\n",
              "  </thead>\n",
              "  <tbody>\n",
              "    <tr>\n",
              "      <th id=\"T_85d70_level0_row0\" class=\"row_heading level0 row0\" >0</th>\n",
              "      <td id=\"T_85d70_row0_col0\" class=\"data row0 col0\" >Random Forest Regressor</td>\n",
              "      <td id=\"T_85d70_row0_col1\" class=\"data row0 col1\" >62.9324</td>\n",
              "      <td id=\"T_85d70_row0_col2\" class=\"data row0 col2\" >5564.0588</td>\n",
              "      <td id=\"T_85d70_row0_col3\" class=\"data row0 col3\" >74.5926</td>\n",
              "      <td id=\"T_85d70_row0_col4\" class=\"data row0 col4\" >0.0537</td>\n",
              "      <td id=\"T_85d70_row0_col5\" class=\"data row0 col5\" >0.4193</td>\n",
              "      <td id=\"T_85d70_row0_col6\" class=\"data row0 col6\" >0.4199</td>\n",
              "    </tr>\n",
              "  </tbody>\n",
              "</table>\n"
            ]
          },
          "metadata": {}
        }
      ]
    },
    {
      "cell_type": "code",
      "source": [
        "plt.scatter(\n",
        "    trf_train_preds[\"ltv_mpa_ratio\"], trf_train_preds[\"prediction_label\"],\n",
        "    alpha=.1)"
      ],
      "metadata": {
        "colab": {
          "base_uri": "https://localhost:8080/",
          "height": 501
        },
        "id": "XjITfXAqU5gX",
        "outputId": "70f1272f-4d72-440c-fb4b-52a97fdd8118"
      },
      "execution_count": 39,
      "outputs": [
        {
          "output_type": "execute_result",
          "data": {
            "text/plain": [
              "<matplotlib.collections.PathCollection at 0x7f4a59531870>"
            ]
          },
          "metadata": {},
          "execution_count": 39
        },
        {
          "output_type": "display_data",
          "data": {
            "text/plain": [
              "<Figure size 800x550 with 1 Axes>"
            ],
            "image/png": "[encoded data removed]"
          },
          "metadata": {}
        }
      ]
    },
    {
      "cell_type": "code",
      "source": [
        "plt.scatter(\n",
        "    trf_holdout_preds[\"ltv_mpa_ratio\"], trf_holdout_preds[\"prediction_label\"],\n",
        "    alpha=.1)\n",
        "plt.plot(np.arange(50, 400, 10), np.arange(50, 400, 10), color=\"black\")"
      ],
      "metadata": {
        "colab": {
          "base_uri": "https://localhost:8080/",
          "height": 501
        },
        "id": "SLkdmstdVm3Q",
        "outputId": "f11fe997-3da8-4140-9b65-fef4e261892f"
      },
      "execution_count": 43,
      "outputs": [
        {
          "output_type": "execute_result",
          "data": {
            "text/plain": [
              "[<matplotlib.lines.Line2D at 0x7f4a3b2f16f0>]"
            ]
          },
          "metadata": {},
          "execution_count": 43
        },
        {
          "output_type": "display_data",
          "data": {
            "text/plain": [
              "<Figure size 800x550 with 1 Axes>"
            ],
            "image/png": "[encoded data removed]"
          },
          "metadata": {}
        }
      ]
    },
    {
      "cell_type": "code",
      "source": [
        "(trf_holdout_preds[\"ltv_mpa_ratio\"] - trf_holdout_preds[\"prediction_label\"]\n",
        " ).describe(percentiles=[.25, .6, .64, .75, .9]).round(0)"
      ],
      "metadata": {
        "colab": {
          "base_uri": "https://localhost:8080/"
        },
        "id": "GHHPFUeiWPIq",
        "outputId": "9d567505-fa7d-4933-d377-4fa46f019738"
      },
      "execution_count": 50,
      "outputs": [
        {
          "output_type": "execute_result",
          "data": {
            "text/plain": [
              "count    585.0\n",
              "mean       3.0\n",
              "std       77.0\n",
              "min      -94.0\n",
              "25%      -53.0\n",
              "50%      -40.0\n",
              "60%      -16.0\n",
              "64%       -2.0\n",
              "75%       61.0\n",
              "90%      134.0\n",
              "max      202.0\n",
              "dtype: float64"
            ]
          },
          "metadata": {},
          "execution_count": 50
        }
      ]
    },
    {
      "cell_type": "code",
      "source": [
        "list(trf_train_preds)"
      ],
      "metadata": {
        "colab": {
          "base_uri": "https://localhost:8080/"
        },
        "id": "Hbk2t2J4Xmo5",
        "outputId": "938757a6-245a-43bb-dbf4-c213da302766"
      },
      "execution_count": 56,
      "outputs": [
        {
          "output_type": "execute_result",
          "data": {
            "text/plain": [
              "['Customer',\n",
              " 'State',\n",
              " 'Customer Lifetime Value',\n",
              " 'Response',\n",
              " 'Coverage',\n",
              " 'Education',\n",
              " 'Effective To Date',\n",
              " 'EmploymentStatus',\n",
              " 'Gender',\n",
              " 'Income',\n",
              " 'Location Code',\n",
              " 'Marital Status',\n",
              " 'Monthly Premium Auto',\n",
              " 'Months Since Last Claim',\n",
              " 'Months Since Policy Inception',\n",
              " 'Number of Open Complaints',\n",
              " 'Number of Policies',\n",
              " 'Policy Type',\n",
              " 'Policy',\n",
              " 'Renew Offer Type',\n",
              " 'Sales Channel',\n",
              " 'Total Claim Amount',\n",
              " 'Vehicle Class',\n",
              " 'Vehicle Size',\n",
              " 'Policy Level',\n",
              " 'vehicle class group',\n",
              " 'ltv_mpa_ratio',\n",
              " 'prediction_label']"
            ]
          },
          "metadata": {},
          "execution_count": 56
        }
      ]
    },
    {
      "cell_type": "code",
      "source": [
        "trf_holdout_preds[\"pred_ltv\"] = (\n",
        "    trf_holdout_preds[\"prediction_label\"]\n",
        "    * trf_holdout_preds[\"Monthly Premium Auto\"]) + 600"
      ],
      "metadata": {
        "id": "UMScdXaKW97m"
      },
      "execution_count": 52,
      "outputs": []
    },
    {
      "cell_type": "code",
      "source": [
        "trf_train_preds[\"pred_ltv\"] = (\n",
        "    trf_train_preds[\"prediction_label\"]\n",
        "    * trf_train_preds[\"Monthly Premium Auto\"]) + 600"
      ],
      "metadata": {
        "id": "KshtPQZOX1f2"
      },
      "execution_count": 57,
      "outputs": []
    },
    {
      "cell_type": "code",
      "source": [
        "trf_train_preds[[\"pred_ltv\", \"Customer Lifetime Value\"]].corr()"
      ],
      "metadata": {
        "colab": {
          "base_uri": "https://localhost:8080/",
          "height": 112
        },
        "id": "LbqDvwBWXUKH",
        "outputId": "5609462f-26a5-44c2-94bc-5d42135106ab"
      },
      "execution_count": 58,
      "outputs": [
        {
          "output_type": "execute_result",
          "data": {
            "text/plain": [
              "                         pred_ltv  Customer Lifetime Value\n",
              "pred_ltv                 1.000000                 0.735205\n",
              "Customer Lifetime Value  0.735205                 1.000000"
            ],
            "text/html": [
              "\n",
              "  <div id=\"df-c6a5851f-eff3-454b-b2aa-9bf19c800432\" class=\"colab-df-container\">\n",
              "    <div>\n",
              "<style scoped>\n",
              "    .dataframe tbody tr th:only-of-type {\n",
              "        vertical-align: middle;\n",
              "    }\n",
              "\n",
              "    .dataframe tbody tr th {\n",
              "        vertical-align: top;\n",
              "    }\n",
              "\n",
              "    .dataframe thead th {\n",
              "        text-align: right;\n",
              "    }\n",
              "</style>\n",
              "<table border=\"1\" class=\"dataframe\">\n",
              "  <thead>\n",
              "    <tr style=\"text-align: right;\">\n",
              "      <th></th>\n",
              "      <th>pred_ltv</th>\n",
              "      <th>Customer Lifetime Value</th>\n",
              "    </tr>\n",
              "  </thead>\n",
              "  <tbody>\n",
              "    <tr>\n",
              "      <th>pred_ltv</th>\n",
              "      <td>1.000000</td>\n",
              "      <td>0.735205</td>\n",
              "    </tr>\n",
              "    <tr>\n",
              "      <th>Customer Lifetime Value</th>\n",
              "      <td>0.735205</td>\n",
              "      <td>1.000000</td>\n",
              "    </tr>\n",
              "  </tbody>\n",
              "</table>\n",
              "</div>\n",
              "    <div class=\"colab-df-buttons\">\n",
              "\n",
              "  <div class=\"colab-df-container\">\n",
              "    <button class=\"colab-df-convert\" onclick=\"convertToInteractive('df-c6a5851f-eff3-454b-b2aa-9bf19c800432')\"\n",
              "            title=\"Convert this dataframe to an interactive table.\"\n",
              "            style=\"display:none;\">\n",
              "\n",
              "  <svg xmlns=\"http://www.w3.org/2000/svg\" height=\"24px\" viewBox=\"0 -960 960 960\">\n",
              "    <path d=\"M120-120v-720h720v720H120Zm60-500h600v-160H180v160Zm220 220h160v-160H400v160Zm0 220h160v-160H400v160ZM180-400h160v-160H180v160Zm440 0h160v-160H620v160ZM180-180h160v-160H180v160Zm440 0h160v-160H620v160Z\"/>\n",
              "  </svg>\n",
              "    </button>\n",
              "\n",
              "  <style>\n",
              "    .colab-df-container {\n",
              "      display:flex;\n",
              "      gap: 12px;\n",
              "    }\n",
              "\n",
              "    .colab-df-convert {\n",
              "      background-color: #E8F0FE;\n",
              "      border: none;\n",
              "      border-radius: 50%;\n",
              "      cursor: pointer;\n",
              "      display: none;\n",
              "      fill: #1967D2;\n",
              "      height: 32px;\n",
              "      padding: 0 0 0 0;\n",
              "      width: 32px;\n",
              "    }\n",
              "\n",
              "    .colab-df-convert:hover {\n",
              "      background-color: #E2EBFA;\n",
              "      box-shadow: 0px 1px 2px rgba(60, 64, 67, 0.3), 0px 1px 3px 1px rgba(60, 64, 67, 0.15);\n",
              "      fill: #174EA6;\n",
              "    }\n",
              "\n",
              "    .colab-df-buttons div {\n",
              "      margin-bottom: 4px;\n",
              "    }\n",
              "\n",
              "    [theme=dark] .colab-df-convert {\n",
              "      background-color: #3B4455;\n",
              "      fill: #D2E3FC;\n",
              "    }\n",
              "\n",
              "    [theme=dark] .colab-df-convert:hover {\n",
              "      background-color: #434B5C;\n",
              "      box-shadow: 0px 1px 3px 1px rgba(0, 0, 0, 0.15);\n",
              "      filter: drop-shadow(0px 1px 2px rgba(0, 0, 0, 0.3));\n",
              "      fill: #FFFFFF;\n",
              "    }\n",
              "  </style>\n",
              "\n",
              "    <script>\n",
              "      const buttonEl =\n",
              "        document.querySelector('#df-c6a5851f-eff3-454b-b2aa-9bf19c800432 button.colab-df-convert');\n",
              "      buttonEl.style.display =\n",
              "        google.colab.kernel.accessAllowed ? 'block' : 'none';\n",
              "\n",
              "      async function convertToInteractive(key) {\n",
              "        const element = document.querySelector('#df-c6a5851f-eff3-454b-b2aa-9bf19c800432');\n",
              "        const dataTable =\n",
              "          await google.colab.kernel.invokeFunction('convertToInteractive',\n",
              "                                                    [key], {});\n",
              "        if (!dataTable) return;\n",
              "\n",
              "        const docLinkHtml = 'Like what you see? Visit the ' +\n",
              "          '<a target=\"_blank\" href=https://colab.research.google.com/notebooks/data_table.ipynb>data table notebook</a>'\n",
              "          + ' to learn more about interactive tables.';\n",
              "        element.innerHTML = '';\n",
              "        dataTable['output_type'] = 'display_data';\n",
              "        await google.colab.output.renderOutput(dataTable, element);\n",
              "        const docLink = document.createElement('div');\n",
              "        docLink.innerHTML = docLinkHtml;\n",
              "        element.appendChild(docLink);\n",
              "      }\n",
              "    </script>\n",
              "  </div>\n",
              "\n",
              "\n",
              "<div id=\"df-f4b66b40-da96-4c2f-903e-a463ac507ac3\">\n",
              "  <button class=\"colab-df-quickchart\" onclick=\"quickchart('df-f4b66b40-da96-4c2f-903e-a463ac507ac3')\"\n",
              "            title=\"Suggest charts\"\n",
              "            style=\"display:none;\">\n",
              "\n",
              "<svg xmlns=\"http://www.w3.org/2000/svg\" height=\"24px\"viewBox=\"0 0 24 24\"\n",
              "     width=\"24px\">\n",
              "    <g>\n",
              "        <path d=\"M19 3H5c-1.1 0-2 .9-2 2v14c0 1.1.9 2 2 2h14c1.1 0 2-.9 2-2V5c0-1.1-.9-2-2-2zM9 17H7v-7h2v7zm4 0h-2V7h2v10zm4 0h-2v-4h2v4z\"/>\n",
              "    </g>\n",
              "</svg>\n",
              "  </button>\n",
              "\n",
              "<style>\n",
              "  .colab-df-quickchart {\n",
              "      --bg-color: #E8F0FE;\n",
              "      --fill-color: #1967D2;\n",
              "      --hover-bg-color: #E2EBFA;\n",
              "      --hover-fill-color: #174EA6;\n",
              "      --disabled-fill-color: #AAA;\n",
              "      --disabled-bg-color: #DDD;\n",
              "  }\n",
              "\n",
              "  [theme=dark] .colab-df-quickchart {\n",
              "      --bg-color: #3B4455;\n",
              "      --fill-color: #D2E3FC;\n",
              "      --hover-bg-color: #434B5C;\n",
              "      --hover-fill-color: #FFFFFF;\n",
              "      --disabled-bg-color: #3B4455;\n",
              "      --disabled-fill-color: #666;\n",
              "  }\n",
              "\n",
              "  .colab-df-quickchart {\n",
              "    background-color: var(--bg-color);\n",
              "    border: none;\n",
              "    border-radius: 50%;\n",
              "    cursor: pointer;\n",
              "    display: none;\n",
              "    fill: var(--fill-color);\n",
              "    height: 32px;\n",
              "    padding: 0;\n",
              "    width: 32px;\n",
              "  }\n",
              "\n",
              "  .colab-df-quickchart:hover {\n",
              "    background-color: var(--hover-bg-color);\n",
              "    box-shadow: 0 1px 2px rgba(60, 64, 67, 0.3), 0 1px 3px 1px rgba(60, 64, 67, 0.15);\n",
              "    fill: var(--button-hover-fill-color);\n",
              "  }\n",
              "\n",
              "  .colab-df-quickchart-complete:disabled,\n",
              "  .colab-df-quickchart-complete:disabled:hover {\n",
              "    background-color: var(--disabled-bg-color);\n",
              "    fill: var(--disabled-fill-color);\n",
              "    box-shadow: none;\n",
              "  }\n",
              "\n",
              "  .colab-df-spinner {\n",
              "    border: 2px solid var(--fill-color);\n",
              "    border-color: transparent;\n",
              "    border-bottom-color: var(--fill-color);\n",
              "    animation:\n",
              "      spin 1s steps(1) infinite;\n",
              "  }\n",
              "\n",
              "  @keyframes spin {\n",
              "    0% {\n",
              "      border-color: transparent;\n",
              "      border-bottom-color: var(--fill-color);\n",
              "      border-left-color: var(--fill-color);\n",
              "    }\n",
              "    20% {\n",
              "      border-color: transparent;\n",
              "      border-left-color: var(--fill-color);\n",
              "      border-top-color: var(--fill-color);\n",
              "    }\n",
              "    30% {\n",
              "      border-color: transparent;\n",
              "      border-left-color: var(--fill-color);\n",
              "      border-top-color: var(--fill-color);\n",
              "      border-right-color: var(--fill-color);\n",
              "    }\n",
              "    40% {\n",
              "      border-color: transparent;\n",
              "      border-right-color: var(--fill-color);\n",
              "      border-top-color: var(--fill-color);\n",
              "    }\n",
              "    60% {\n",
              "      border-color: transparent;\n",
              "      border-right-color: var(--fill-color);\n",
              "    }\n",
              "    80% {\n",
              "      border-color: transparent;\n",
              "      border-right-color: var(--fill-color);\n",
              "      border-bottom-color: var(--fill-color);\n",
              "    }\n",
              "    90% {\n",
              "      border-color: transparent;\n",
              "      border-bottom-color: var(--fill-color);\n",
              "    }\n",
              "  }\n",
              "</style>\n",
              "\n",
              "  <script>\n",
              "    async function quickchart(key) {\n",
              "      const quickchartButtonEl =\n",
              "        document.querySelector('#' + key + ' button');\n",
              "      quickchartButtonEl.disabled = true;  // To prevent multiple clicks.\n",
              "      quickchartButtonEl.classList.add('colab-df-spinner');\n",
              "      try {\n",
              "        const charts = await google.colab.kernel.invokeFunction(\n",
              "            'suggestCharts', [key], {});\n",
              "      } catch (error) {\n",
              "        console.error('Error during call to suggestCharts:', error);\n",
              "      }\n",
              "      quickchartButtonEl.classList.remove('colab-df-spinner');\n",
              "      quickchartButtonEl.classList.add('colab-df-quickchart-complete');\n",
              "    }\n",
              "    (() => {\n",
              "      let quickchartButtonEl =\n",
              "        document.querySelector('#df-f4b66b40-da96-4c2f-903e-a463ac507ac3 button');\n",
              "      quickchartButtonEl.style.display =\n",
              "        google.colab.kernel.accessAllowed ? 'block' : 'none';\n",
              "    })();\n",
              "  </script>\n",
              "</div>\n",
              "    </div>\n",
              "  </div>\n"
            ]
          },
          "metadata": {},
          "execution_count": 58
        }
      ]
    },
    {
      "cell_type": "code",
      "source": [
        "(trf_train_preds[\"Customer Lifetime Value\"] - trf_train_preds[\"pred_ltv\"]).describe().round(0)"
      ],
      "metadata": {
        "colab": {
          "base_uri": "https://localhost:8080/"
        },
        "id": "j4SrWw7qYN0I",
        "outputId": "27844ee3-77e9-413a-b776-51ab2b6b734f"
      },
      "execution_count": 61,
      "outputs": [
        {
          "output_type": "execute_result",
          "data": {
            "text/plain": [
              "count     1948.0\n",
              "mean        55.0\n",
              "std       6503.0\n",
              "min     -15076.0\n",
              "25%      -3949.0\n",
              "50%      -2899.0\n",
              "75%       4151.0\n",
              "max      36351.0\n",
              "dtype: float64"
            ]
          },
          "metadata": {},
          "execution_count": 61
        }
      ]
    },
    {
      "cell_type": "code",
      "source": [
        "trf_test_preds[\"pred_ltv\"] = (\n",
        "    trf_test_preds[\"prediction_label\"]\n",
        "    * trf_test_preds[\"Monthly Premium Auto\"]) + 600"
      ],
      "metadata": {
        "id": "RT4NRLr2YAQC"
      },
      "execution_count": 59,
      "outputs": []
    },
    {
      "cell_type": "code",
      "source": [
        "trf_test_preds[[\"pred_ltv\", \"Customer Lifetime Value\"]].corr()"
      ],
      "metadata": {
        "colab": {
          "base_uri": "https://localhost:8080/",
          "height": 112
        },
        "id": "FW5o1gI1YEJ0",
        "outputId": "adf289f2-b890-4bcf-bcfa-da5aadc32808"
      },
      "execution_count": 60,
      "outputs": [
        {
          "output_type": "execute_result",
          "data": {
            "text/plain": [
              "                         pred_ltv  Customer Lifetime Value\n",
              "pred_ltv                 1.000000                 0.545169\n",
              "Customer Lifetime Value  0.545169                 1.000000"
            ],
            "text/html": [
              "\n",
              "  <div id=\"df-27af1965-155c-461a-9f06-30cec6aedd92\" class=\"colab-df-container\">\n",
              "    <div>\n",
              "<style scoped>\n",
              "    .dataframe tbody tr th:only-of-type {\n",
              "        vertical-align: middle;\n",
              "    }\n",
              "\n",
              "    .dataframe tbody tr th {\n",
              "        vertical-align: top;\n",
              "    }\n",
              "\n",
              "    .dataframe thead th {\n",
              "        text-align: right;\n",
              "    }\n",
              "</style>\n",
              "<table border=\"1\" class=\"dataframe\">\n",
              "  <thead>\n",
              "    <tr style=\"text-align: right;\">\n",
              "      <th></th>\n",
              "      <th>pred_ltv</th>\n",
              "      <th>Customer Lifetime Value</th>\n",
              "    </tr>\n",
              "  </thead>\n",
              "  <tbody>\n",
              "    <tr>\n",
              "      <th>pred_ltv</th>\n",
              "      <td>1.000000</td>\n",
              "      <td>0.545169</td>\n",
              "    </tr>\n",
              "    <tr>\n",
              "      <th>Customer Lifetime Value</th>\n",
              "      <td>0.545169</td>\n",
              "      <td>1.000000</td>\n",
              "    </tr>\n",
              "  </tbody>\n",
              "</table>\n",
              "</div>\n",
              "    <div class=\"colab-df-buttons\">\n",
              "\n",
              "  <div class=\"colab-df-container\">\n",
              "    <button class=\"colab-df-convert\" onclick=\"convertToInteractive('df-27af1965-155c-461a-9f06-30cec6aedd92')\"\n",
              "            title=\"Convert this dataframe to an interactive table.\"\n",
              "            style=\"display:none;\">\n",
              "\n",
              "  <svg xmlns=\"http://www.w3.org/2000/svg\" height=\"24px\" viewBox=\"0 -960 960 960\">\n",
              "    <path d=\"M120-120v-720h720v720H120Zm60-500h600v-160H180v160Zm220 220h160v-160H400v160Zm0 220h160v-160H400v160ZM180-400h160v-160H180v160Zm440 0h160v-160H620v160ZM180-180h160v-160H180v160Zm440 0h160v-160H620v160Z\"/>\n",
              "  </svg>\n",
              "    </button>\n",
              "\n",
              "  <style>\n",
              "    .colab-df-container {\n",
              "      display:flex;\n",
              "      gap: 12px;\n",
              "    }\n",
              "\n",
              "    .colab-df-convert {\n",
              "      background-color: #E8F0FE;\n",
              "      border: none;\n",
              "      border-radius: 50%;\n",
              "      cursor: pointer;\n",
              "      display: none;\n",
              "      fill: #1967D2;\n",
              "      height: 32px;\n",
              "      padding: 0 0 0 0;\n",
              "      width: 32px;\n",
              "    }\n",
              "\n",
              "    .colab-df-convert:hover {\n",
              "      background-color: #E2EBFA;\n",
              "      box-shadow: 0px 1px 2px rgba(60, 64, 67, 0.3), 0px 1px 3px 1px rgba(60, 64, 67, 0.15);\n",
              "      fill: #174EA6;\n",
              "    }\n",
              "\n",
              "    .colab-df-buttons div {\n",
              "      margin-bottom: 4px;\n",
              "    }\n",
              "\n",
              "    [theme=dark] .colab-df-convert {\n",
              "      background-color: #3B4455;\n",
              "      fill: #D2E3FC;\n",
              "    }\n",
              "\n",
              "    [theme=dark] .colab-df-convert:hover {\n",
              "      background-color: #434B5C;\n",
              "      box-shadow: 0px 1px 3px 1px rgba(0, 0, 0, 0.15);\n",
              "      filter: drop-shadow(0px 1px 2px rgba(0, 0, 0, 0.3));\n",
              "      fill: #FFFFFF;\n",
              "    }\n",
              "  </style>\n",
              "\n",
              "    <script>\n",
              "      const buttonEl =\n",
              "        document.querySelector('#df-27af1965-155c-461a-9f06-30cec6aedd92 button.colab-df-convert');\n",
              "      buttonEl.style.display =\n",
              "        google.colab.kernel.accessAllowed ? 'block' : 'none';\n",
              "\n",
              "      async function convertToInteractive(key) {\n",
              "        const element = document.querySelector('#df-27af1965-155c-461a-9f06-30cec6aedd92');\n",
              "        const dataTable =\n",
              "          await google.colab.kernel.invokeFunction('convertToInteractive',\n",
              "                                                    [key], {});\n",
              "        if (!dataTable) return;\n",
              "\n",
              "        const docLinkHtml = 'Like what you see? Visit the ' +\n",
              "          '<a target=\"_blank\" href=https://colab.research.google.com/notebooks/data_table.ipynb>data table notebook</a>'\n",
              "          + ' to learn more about interactive tables.';\n",
              "        element.innerHTML = '';\n",
              "        dataTable['output_type'] = 'display_data';\n",
              "        await google.colab.output.renderOutput(dataTable, element);\n",
              "        const docLink = document.createElement('div');\n",
              "        docLink.innerHTML = docLinkHtml;\n",
              "        element.appendChild(docLink);\n",
              "      }\n",
              "    </script>\n",
              "  </div>\n",
              "\n",
              "\n",
              "<div id=\"df-3c08e704-7331-47f5-8d9f-b3879fac2614\">\n",
              "  <button class=\"colab-df-quickchart\" onclick=\"quickchart('df-3c08e704-7331-47f5-8d9f-b3879fac2614')\"\n",
              "            title=\"Suggest charts\"\n",
              "            style=\"display:none;\">\n",
              "\n",
              "<svg xmlns=\"http://www.w3.org/2000/svg\" height=\"24px\"viewBox=\"0 0 24 24\"\n",
              "     width=\"24px\">\n",
              "    <g>\n",
              "        <path d=\"M19 3H5c-1.1 0-2 .9-2 2v14c0 1.1.9 2 2 2h14c1.1 0 2-.9 2-2V5c0-1.1-.9-2-2-2zM9 17H7v-7h2v7zm4 0h-2V7h2v10zm4 0h-2v-4h2v4z\"/>\n",
              "    </g>\n",
              "</svg>\n",
              "  </button>\n",
              "\n",
              "<style>\n",
              "  .colab-df-quickchart {\n",
              "      --bg-color: #E8F0FE;\n",
              "      --fill-color: #1967D2;\n",
              "      --hover-bg-color: #E2EBFA;\n",
              "      --hover-fill-color: #174EA6;\n",
              "      --disabled-fill-color: #AAA;\n",
              "      --disabled-bg-color: #DDD;\n",
              "  }\n",
              "\n",
              "  [theme=dark] .colab-df-quickchart {\n",
              "      --bg-color: #3B4455;\n",
              "      --fill-color: #D2E3FC;\n",
              "      --hover-bg-color: #434B5C;\n",
              "      --hover-fill-color: #FFFFFF;\n",
              "      --disabled-bg-color: #3B4455;\n",
              "      --disabled-fill-color: #666;\n",
              "  }\n",
              "\n",
              "  .colab-df-quickchart {\n",
              "    background-color: var(--bg-color);\n",
              "    border: none;\n",
              "    border-radius: 50%;\n",
              "    cursor: pointer;\n",
              "    display: none;\n",
              "    fill: var(--fill-color);\n",
              "    height: 32px;\n",
              "    padding: 0;\n",
              "    width: 32px;\n",
              "  }\n",
              "\n",
              "  .colab-df-quickchart:hover {\n",
              "    background-color: var(--hover-bg-color);\n",
              "    box-shadow: 0 1px 2px rgba(60, 64, 67, 0.3), 0 1px 3px 1px rgba(60, 64, 67, 0.15);\n",
              "    fill: var(--button-hover-fill-color);\n",
              "  }\n",
              "\n",
              "  .colab-df-quickchart-complete:disabled,\n",
              "  .colab-df-quickchart-complete:disabled:hover {\n",
              "    background-color: var(--disabled-bg-color);\n",
              "    fill: var(--disabled-fill-color);\n",
              "    box-shadow: none;\n",
              "  }\n",
              "\n",
              "  .colab-df-spinner {\n",
              "    border: 2px solid var(--fill-color);\n",
              "    border-color: transparent;\n",
              "    border-bottom-color: var(--fill-color);\n",
              "    animation:\n",
              "      spin 1s steps(1) infinite;\n",
              "  }\n",
              "\n",
              "  @keyframes spin {\n",
              "    0% {\n",
              "      border-color: transparent;\n",
              "      border-bottom-color: var(--fill-color);\n",
              "      border-left-color: var(--fill-color);\n",
              "    }\n",
              "    20% {\n",
              "      border-color: transparent;\n",
              "      border-left-color: var(--fill-color);\n",
              "      border-top-color: var(--fill-color);\n",
              "    }\n",
              "    30% {\n",
              "      border-color: transparent;\n",
              "      border-left-color: var(--fill-color);\n",
              "      border-top-color: var(--fill-color);\n",
              "      border-right-color: var(--fill-color);\n",
              "    }\n",
              "    40% {\n",
              "      border-color: transparent;\n",
              "      border-right-color: var(--fill-color);\n",
              "      border-top-color: var(--fill-color);\n",
              "    }\n",
              "    60% {\n",
              "      border-color: transparent;\n",
              "      border-right-color: var(--fill-color);\n",
              "    }\n",
              "    80% {\n",
              "      border-color: transparent;\n",
              "      border-right-color: var(--fill-color);\n",
              "      border-bottom-color: var(--fill-color);\n",
              "    }\n",
              "    90% {\n",
              "      border-color: transparent;\n",
              "      border-bottom-color: var(--fill-color);\n",
              "    }\n",
              "  }\n",
              "</style>\n",
              "\n",
              "  <script>\n",
              "    async function quickchart(key) {\n",
              "      const quickchartButtonEl =\n",
              "        document.querySelector('#' + key + ' button');\n",
              "      quickchartButtonEl.disabled = true;  // To prevent multiple clicks.\n",
              "      quickchartButtonEl.classList.add('colab-df-spinner');\n",
              "      try {\n",
              "        const charts = await google.colab.kernel.invokeFunction(\n",
              "            'suggestCharts', [key], {});\n",
              "      } catch (error) {\n",
              "        console.error('Error during call to suggestCharts:', error);\n",
              "      }\n",
              "      quickchartButtonEl.classList.remove('colab-df-spinner');\n",
              "      quickchartButtonEl.classList.add('colab-df-quickchart-complete');\n",
              "    }\n",
              "    (() => {\n",
              "      let quickchartButtonEl =\n",
              "        document.querySelector('#df-3c08e704-7331-47f5-8d9f-b3879fac2614 button');\n",
              "      quickchartButtonEl.style.display =\n",
              "        google.colab.kernel.accessAllowed ? 'block' : 'none';\n",
              "    })();\n",
              "  </script>\n",
              "</div>\n",
              "    </div>\n",
              "  </div>\n"
            ]
          },
          "metadata": {},
          "execution_count": 60
        }
      ]
    },
    {
      "cell_type": "code",
      "source": [],
      "metadata": {
        "id": "MyrGoLnJZBE_"
      },
      "execution_count": null,
      "outputs": []
    }
  ]
}